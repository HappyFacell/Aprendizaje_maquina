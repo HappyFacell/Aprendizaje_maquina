{
 "cells": [
  {
   "cell_type": "markdown",
   "metadata": {},
   "source": [
    "# M4_1_4 AIDS Incidence, Gradient Descent"
   ]
  },
  {
   "cell_type": "markdown",
   "metadata": {},
   "source": [
    "The regression model is a statistical procedure that allows a researcher to estimate the linear, or straight line, relationship that relates two or more variables."
   ]
  },
  {
   "cell_type": "markdown",
   "metadata": {},
   "source": [
    "The programming algorithm for implementing a regression model using the Gradient Descent is:\n",
    "\n",
    "    1. Load the dataset, normalize the matrix X, and add a ones column for W0.\n",
    "    2. Intialize W, and calculate the gradient for that W.\n",
    "    3. While the gradient be greater than epsilon, calculate:\n",
    "       - The gradient for the current W\n",
    "       - Update the value of the next W\n",
    "    4. Obtain the Cost Function with the las value of W\n",
    "   "
   ]
  },
  {
   "cell_type": "markdown",
   "metadata": {},
   "source": [
    "## 1. Load the dataset, and add column for W0\n",
    "\n"
   ]
  },
  {
   "cell_type": "code",
   "execution_count": 1,
   "metadata": {},
   "outputs": [],
   "source": [
    "#Import libraries\n",
    "\n",
    "import pandas as pd\n",
    "import numpy as np\n",
    "import matplotlib.pyplot as plt\n",
    "from numpy.linalg import pinv\n",
    "from numpy.linalg import norm\n"
   ]
  },
  {
   "cell_type": "code",
   "execution_count": 4,
   "metadata": {},
   "outputs": [
    {
     "name": "stdout",
     "output_type": "stream",
     "text": [
      "(25, 1) (25, 1)\n"
     ]
    }
   ],
   "source": [
    "#1. Load the dataset and convert to X and Y arrays.\n",
    "\n",
    "dataset = pd.read_csv('AIDScases.csv')\n",
    "\n",
    "x = np.array(dataset['Time'])\n",
    "y = np.array(dataset['Cases'])\n",
    "\n",
    "\n",
    "x = x.reshape(len(x), 1)\n",
    "y = y.reshape(len(x), 1)\n",
    "\n",
    "print(x.shape, y.shape)"
   ]
  },
  {
   "cell_type": "markdown",
   "metadata": {},
   "source": [
    "## Preparing the data\n",
    "When features differ by orders of magnitude, first performing feature scaling can make gradient descent converge\n",
    "much more quickly.\n",
    "\n",
    "- Subtract the mean of each feature from the dataset.\n",
    "- After subtracting the mean, additionally scale (divide) the feature values by their respective “standard deviations.”\n",
    "\n",
    "$$\n",
    "X_{norm} = \\frac{X - \\mu_X}{\\sigma}\n",
    "$$\n",
    "\n",
    "To get the standard deviation you can use `numpy.ndarray.std`\n"
   ]
  },
  {
   "cell_type": "code",
   "execution_count": 7,
   "metadata": {},
   "outputs": [
    {
     "name": "stdout",
     "output_type": "stream",
     "text": [
      "(25, 1)\n",
      "[[-1.66410059]\n",
      " [-1.52542554]\n",
      " [-1.38675049]\n",
      " [-1.24807544]\n",
      " [-1.10940039]\n",
      " [-0.97072534]\n",
      " [-0.83205029]\n",
      " [-0.69337525]\n",
      " [-0.5547002 ]\n",
      " [-0.41602515]\n",
      " [-0.2773501 ]\n",
      " [-0.13867505]\n",
      " [ 0.        ]\n",
      " [ 0.13867505]\n",
      " [ 0.2773501 ]\n",
      " [ 0.41602515]\n",
      " [ 0.5547002 ]\n",
      " [ 0.69337525]\n",
      " [ 0.83205029]\n",
      " [ 0.97072534]\n",
      " [ 1.10940039]\n",
      " [ 1.24807544]\n",
      " [ 1.38675049]\n",
      " [ 1.52542554]\n",
      " [ 1.66410059]]\n"
     ]
    }
   ],
   "source": [
    "def normalize(x):\n",
    "\n",
    "    x_norm = (x - np.mean(x, axis=0))/np.ndarray.std(x, axis=0)\n",
    "\n",
    "    return x_norm\n",
    "\n",
    "\n",
    "X_norm = normalize(x)\n",
    "\n",
    "print(np.shape(X_norm))\n",
    "print(X_norm)\n"
   ]
  },
  {
   "cell_type": "code",
   "execution_count": 8,
   "metadata": {},
   "outputs": [
    {
     "name": "stdout",
     "output_type": "stream",
     "text": [
      "(25, 2)\n",
      "[[ 1.         -1.66410059]\n",
      " [ 1.         -1.52542554]\n",
      " [ 1.         -1.38675049]\n",
      " [ 1.         -1.24807544]\n",
      " [ 1.         -1.10940039]\n",
      " [ 1.         -0.97072534]\n",
      " [ 1.         -0.83205029]\n",
      " [ 1.         -0.69337525]\n",
      " [ 1.         -0.5547002 ]\n",
      " [ 1.         -0.41602515]\n",
      " [ 1.         -0.2773501 ]\n",
      " [ 1.         -0.13867505]\n",
      " [ 1.          0.        ]\n",
      " [ 1.          0.13867505]\n",
      " [ 1.          0.2773501 ]\n",
      " [ 1.          0.41602515]\n",
      " [ 1.          0.5547002 ]\n",
      " [ 1.          0.69337525]\n",
      " [ 1.          0.83205029]\n",
      " [ 1.          0.97072534]\n",
      " [ 1.          1.10940039]\n",
      " [ 1.          1.24807544]\n",
      " [ 1.          1.38675049]\n",
      " [ 1.          1.52542554]\n",
      " [ 1.          1.66410059]]\n"
     ]
    }
   ],
   "source": [
    "# Adding column 1 to the X matrix\n",
    "\n",
    "def addOnes(X):\n",
    "    unos = np.ones(len(X))\n",
    "    X1 = np.column_stack((unos, X))\n",
    "\n",
    "    return X1\n",
    "\n",
    "\n",
    "x = addOnes(X_norm)\n",
    "print(np.shape(x))\n",
    "print(x)\n"
   ]
  },
  {
   "cell_type": "markdown",
   "metadata": {},
   "source": [
    "## 2. Intialize W, and calculate the gradient for that W\n",
    "\n",
    "\n",
    "The gradient is: $$ \\nabla J(W) = \\frac{\\partial J(W) }{\\partial W} = \\frac{\\partial}{\\partial W} (Y - XW)^2 = -2X^T(Y-XW)$$"
   ]
  },
  {
   "cell_type": "code",
   "execution_count": 9,
   "metadata": {},
   "outputs": [
    {
     "name": "stdout",
     "output_type": "stream",
     "text": [
      "25 2\n",
      "[[0. 0.]]\n"
     ]
    }
   ],
   "source": [
    "#Initialize W\n",
    "\n",
    "m,n = np.shape(x)\n",
    "print(m,n)\n",
    "\n",
    "initw = np.zeros((1, n))\n",
    "print(initw)"
   ]
  },
  {
   "cell_type": "code",
   "execution_count": 10,
   "metadata": {},
   "outputs": [
    {
     "name": "stdout",
     "output_type": "stream",
     "text": [
      "[[-150776.        ]\n",
      " [-124817.80610431]]\n"
     ]
    }
   ],
   "source": [
    "#Calculating Gradient\n",
    "\n",
    "def gradient(X, Y, W):\n",
    "    \n",
    "    error = Y - np.dot(X, W.T)\n",
    "    grad = -2 * np.dot(X.T, error)\n",
    "    \n",
    "    return grad\n",
    "\n",
    "#Testing gradient function\n",
    "\n",
    "Gradiente = gradient(x, y, initw)\n",
    "print(Gradiente)\n",
    "    "
   ]
  },
  {
   "cell_type": "markdown",
   "metadata": {},
   "source": [
    "## 3. Gradient Descent iteration\n",
    "\n",
    "While the gradient be greater than epsilon, calculate\n",
    "       - The gradient for the current W\n",
    "       - Update the value of the next W\n"
   ]
  },
  {
   "cell_type": "markdown",
   "metadata": {},
   "source": [
    "### 3.1 Measure the total error of the algorthim\n",
    "\n",
    "Evaluate the model performance for each power of data by using Residual Sum of Square (RSS): $$RSS(w) = \\frac{1}{2N}\\sqrt{\\sum_{i=1}^{N} (y_i - x_i w)^2}$$"
   ]
  },
  {
   "cell_type": "code",
   "execution_count": 13,
   "metadata": {},
   "outputs": [],
   "source": [
    "import math\n",
    "\n",
    "\n",
    "def rss(Y, Yt):\n",
    "    error = (Y - Yt)\n",
    "    cost = math.sqrt(np.dot(error.T, error)) / (2 * len(Y))\n",
    "\n",
    "    return cost\n"
   ]
  },
  {
   "cell_type": "code",
   "execution_count": 14,
   "metadata": {},
   "outputs": [
    {
     "name": "stdout",
     "output_type": "stream",
     "text": [
      "[[3015.51999996 2496.35612205]] 36\n"
     ]
    }
   ],
   "source": [
    "# Gradient Descent with epsilon\n",
    "\n",
    "def GD(X, Y, W, alpha, epsilon):\n",
    "    grad = gradient(X, Y, W)\n",
    "    gradnorm = np.linalg.norm(grad)\n",
    "    it = 0\n",
    "    J = []\n",
    "    while gradnorm > epsilon:\n",
    "        grad = gradient(X, Y, W)\n",
    "        gradnorm = np.linalg.norm(grad)\n",
    "        W = W - np.dot(alpha, grad.T)\n",
    "        it += 1\n",
    "        Yt = np.dot(X, W.T)\n",
    "        J.append(rss(Y, Yt))\n",
    "\n",
    "    return W, it, J\n",
    "\n",
    "\n",
    "# Testing GD\n",
    "w, iterations, J = GD(x, y, initw, 0.01, 0.00001)\n",
    "print(w, iterations)\n"
   ]
  },
  {
   "cell_type": "code",
   "execution_count": 16,
   "metadata": {},
   "outputs": [
    {
     "name": "stdout",
     "output_type": "stream",
     "text": [
      "73.60258428364298\n"
     ]
    }
   ],
   "source": [
    "#Calculate de total error of the algorithm con los ultimos valores de w\n",
    "yt = np.dot(x, w.T)\n",
    "\n",
    "cost = rss(y,yt)\n",
    "\n",
    "print(cost)\n",
    "\n"
   ]
  },
  {
   "cell_type": "code",
   "execution_count": 15,
   "metadata": {},
   "outputs": [
    {
     "data": {
      "text/plain": [
       "[<matplotlib.lines.Line2D at 0x2e854a6dae0>]"
      ]
     },
     "execution_count": 15,
     "metadata": {},
     "output_type": "execute_result"
    },
    {
     "data": {
      "image/png": "[encoded data removed]",
      "text/plain": [
       "<Figure size 640x480 with 1 Axes>"
      ]
     },
     "metadata": {},
     "output_type": "display_data"
    }
   ],
   "source": [
    "#Graficar la función de Costo\n",
    "\n",
    "plt.plot(J)"
   ]
  },
  {
   "cell_type": "markdown",
   "metadata": {},
   "source": [
    "## Polynomial features\n",
    "\n",
    "Add polynomial features to observe the cost performance."
   ]
  },
  {
   "cell_type": "code",
   "execution_count": null,
   "metadata": {},
   "outputs": [],
   "source": [
    "#Adding the x^2 to the X matrix\n",
    "#Algorithm GD\n",
    "\n",
    "#Obtener datos\n",
    "\n",
    "\n",
    "#Agregar columna del cuadrado de X\n",
    "\n",
    "\n",
    "#Normalizar\n",
    "\n",
    "\n",
    "#Agregar columna de 1's\n",
    "\n",
    "#Inicializar W\n",
    "\n",
    "\n",
    "# Gradiente descendente\n",
    "\n",
    "# Calcular costo\n",
    "\n",
    "#Graficar\n",
    "\n",
    "\n",
    "\n"
   ]
  },
  {
   "cell_type": "code",
   "execution_count": null,
   "metadata": {},
   "outputs": [],
   "source": [
    "plt.plot(J)"
   ]
  },
  {
   "cell_type": "code",
   "execution_count": null,
   "metadata": {},
   "outputs": [],
   "source": [
    "#Adding the x^2 + x^3 to the X matrix\n",
    "\n",
    "#Your code\n",
    "\n",
    "\n",
    "print(costo)"
   ]
  }
 ],
 "metadata": {
  "kernelspec": {
   "display_name": "Python 3",
   "language": "python",
   "name": "python3"
  },
  "language_info": {
   "codemirror_mode": {
    "name": "ipython",
    "version": 3
   },
   "file_extension": ".py",
   "mimetype": "text/x-python",
   "name": "python",
   "nbconvert_exporter": "python",
   "pygments_lexer": "ipython3",
   "version": "3.10.10"
  },
  "vscode": {
   "interpreter": {
    "hash": "34c967ba3987e07fb7b28f6794edadae7e6af108e1257cc6f54379ffa691cdee"
   }
  }
 },
 "nbformat": 4,
 "nbformat_minor": 2
}
