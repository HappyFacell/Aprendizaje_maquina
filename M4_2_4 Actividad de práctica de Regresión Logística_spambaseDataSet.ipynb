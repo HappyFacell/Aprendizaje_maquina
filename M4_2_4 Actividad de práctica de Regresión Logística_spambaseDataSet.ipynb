{
 "cells": [
  {
   "attachments": {},
   "cell_type": "markdown",
   "metadata": {},
   "source": [
    "Investigar si los datasets tienen encabezados, datos nulos, sustituir los datos nulos si es que existieran, y en qué columna se encuentra la salida. Finalmente obtener las matrices X y Y.\n",
    "Obtener el modelo \"W\" óptimo de cada dataset utilizando el optimizador Gradiente Descendente.\n",
    "Obtener el ACCURACY de sus modelos y comparar los desempeños de cada modelo.\n",
    "También obtener ROC, AUC, y la MATRIZ DE CONFUSIÓN de forma gráfica, de cada modelo\n",
    "¿Qué modelo es mejor y cuál es la razón?\n",
    "Implementar la Regresión Logística utilizando la librería de Sklearn, comparar el Score de la librería con el Accuracy que ustedes calcularon del Gradiente Descendente.\n",
    "En un documento en Jupyter deberán incluir:\n",
    "\n",
    "    La lectura de los datasets y su transformación a las matrices X y Y, respectivamente\n",
    "    La implementación de la regresión logística utilizando el GD, y sus mediciones de desempeño\n",
    "    La implementación de la regresión logística utilizando la librería Sklearn y su score para cada dataset\n",
    "    Hacer dos comparaciones:\n",
    "        Las mediciones de cada dataset utilizando GD y Sklearn\n",
    "        Las resultados obtenidos entre datasets\n",
    "    Responder la pregunta: ¿Por qué el modelo de un dataset tiene mejor desempeño que el otro?, sustentar su respuesta.\n",
    "\n",
    "Subir el Notebook correspondiente, incluyendo anotaciones, comentarios, títulos y subtítulos."
   ]
  },
  {
   "attachments": {},
   "cell_type": "markdown",
   "metadata": {},
   "source": [
    "# Skalearn library\n",
    "spambase dataset"
   ]
  },
  {
   "cell_type": "code",
   "execution_count": 38,
   "metadata": {},
   "outputs": [],
   "source": [
    "#Import libraries\n",
    "import numpy as np\n",
    "import pandas as pd\n",
    "from sklearn.model_selection import train_test_split\n",
    "import matplotlib.pyplot as plt\n",
    "from sklearn.linear_model import LogisticRegression"
   ]
  },
  {
   "cell_type": "code",
   "execution_count": 39,
   "metadata": {},
   "outputs": [
    {
     "name": "stdout",
     "output_type": "stream",
     "text": [
      "Rows: 4601 Columns: 58\n",
      "x: (4601, 57)\n",
      "y: (4601, 1)\n"
     ]
    }
   ],
   "source": [
    "#1. Load dataset\n",
    "data = pd.read_csv('spambase.data', header = None)\n",
    "data.head()\n",
    "# data\n",
    "\n",
    "dataset = np.array(data)\n",
    "m, n = np.shape(dataset)\n",
    "print('Rows:', m, 'Columns:', n)\n",
    "\n",
    "x = dataset[:, 0:57]\n",
    "y = dataset[:, -1]\n",
    "y = y.reshape(-1, 1)\n",
    "print('x:', np.shape(x))\n",
    "print('y:', np.shape(y))"
   ]
  },
  {
   "cell_type": "code",
   "execution_count": 40,
   "metadata": {},
   "outputs": [],
   "source": [
    "#Normalize\n",
    "def normalize(x):\n",
    "    x_norm = (x - np.mean(x, axis=0)) / np.std(x,axis=0)\n",
    "    return x_norm\n",
    "\n",
    "\n",
    "\n",
    "X_norm = normalize(x)\n"
   ]
  },
  {
   "cell_type": "code",
   "execution_count": 41,
   "metadata": {},
   "outputs": [
    {
     "name": "stdout",
     "output_type": "stream",
     "text": [
      "(4601, 57)\n",
      "x shape:  (4601, 58)\n",
      "Split X 4601 rows into train with 3680 and test with 921\n",
      "Split Y 4601 rows into train with 3680 and test with 921\n",
      "xTrain shape: (3680, 58) yTrain shape: (3680, 1)\n",
      "xTest shape: (921, 58) yTest shape: (921, 1)\n"
     ]
    }
   ],
   "source": [
    "#2. Prepare data: add Bias and split dataset\n",
    "\n",
    "print(np.shape(X_norm))\n",
    "\n",
    "def Bias(X):\n",
    "    ones = np.ones((len(X),1))\n",
    "    X1 = np.concatenate((ones, X), axis=1)\n",
    "    return X1\n",
    "\n",
    "x = Bias(X_norm)\n",
    "\n",
    "print('x shape: ', np.shape(x))\n",
    "\n",
    "test_size = 0.2\n",
    "xTrain, xTest, yTrain, yTest = train_test_split(x, y,test_size = test_size)\n",
    "print('Split X', len(x), 'rows into train with', len(xTrain), 'and test with', len(xTest))\n",
    "print('Split Y', len(y), 'rows into train with', len(yTrain), 'and test with', len(yTest))\n",
    "\n",
    "\n",
    "yTrain = yTrain.reshape(-1,1)\n",
    "yTest = yTest.reshape(-1,1)\n",
    "\n",
    "print('xTrain shape:',np.shape(xTrain), 'yTrain shape:', np.shape(yTrain))\n",
    "print('xTest shape:', np.shape(xTest), 'yTest shape:', np.shape(yTest))\n"
   ]
  },
  {
   "cell_type": "code",
   "execution_count": 42,
   "metadata": {},
   "outputs": [
    {
     "name": "stderr",
     "output_type": "stream",
     "text": [
      "C:\\Users\\armaf\\AppData\\Local\\Packages\\PythonSoftwareFoundation.Python.3.9_qbz5n2kfra8p0\\LocalCache\\local-packages\\Python39\\site-packages\\sklearn\\utils\\validation.py:1143: DataConversionWarning: A column-vector y was passed when a 1d array was expected. Please change the shape of y to (n_samples, ), for example using ravel().\n",
      "  y = column_or_1d(y, warn=True)\n",
      "C:\\Users\\armaf\\AppData\\Local\\Packages\\PythonSoftwareFoundation.Python.3.9_qbz5n2kfra8p0\\LocalCache\\local-packages\\Python39\\site-packages\\sklearn\\linear_model\\_logistic.py:458: ConvergenceWarning: lbfgs failed to converge (status=1):\n",
      "STOP: TOTAL NO. of ITERATIONS REACHED LIMIT.\n",
      "\n",
      "Increase the number of iterations (max_iter) or scale the data as shown in:\n",
      "    https://scikit-learn.org/stable/modules/preprocessing.html\n",
      "Please also refer to the documentation for alternative solver options:\n",
      "    https://scikit-learn.org/stable/modules/linear_model.html#logistic-regression\n",
      "  n_iter_i = _check_optimize_result(\n"
     ]
    },
    {
     "data": {
      "text/plain": [
       "0.9315960912052117"
      ]
     },
     "execution_count": 42,
     "metadata": {},
     "output_type": "execute_result"
    }
   ],
   "source": [
    "logReg = LogisticRegression(solver = 'lbfgs')\n",
    "logReg.fit(xTrain, yTrain)\n",
    "logReg.score(xTest, yTest)\n"
   ]
  },
  {
   "attachments": {},
   "cell_type": "markdown",
   "metadata": {},
   "source": [
    "# Normalize funtion\n",
    "spambase data set"
   ]
  },
  {
   "cell_type": "code",
   "execution_count": 43,
   "metadata": {},
   "outputs": [],
   "source": [
    "#Import libraries\n",
    "import numpy as np\n",
    "import pandas as pd\n",
    "from sklearn.model_selection import train_test_split\n",
    "import matplotlib.pyplot as plt"
   ]
  },
  {
   "cell_type": "code",
   "execution_count": 44,
   "metadata": {},
   "outputs": [
    {
     "name": "stdout",
     "output_type": "stream",
     "text": [
      "Rows: 4601 Columns: 58\n",
      "x: (4601, 57)\n",
      "y: (4601, 1)\n"
     ]
    }
   ],
   "source": [
    "#1. Load dataset\n",
    "data = pd.read_csv('spambase.data', header = None)\n",
    "data.head()\n",
    "\n",
    "dataset = np.array(data)\n",
    "m, n = np.shape(dataset)\n",
    "print('Rows:', m, 'Columns:', n)\n",
    "\n",
    "x = dataset[:, 0:57]\n",
    "y = dataset[:, -1]\n",
    "y = y.reshape(-1, 1)\n",
    "print('x:', np.shape(x))\n",
    "print('y:', np.shape(y))"
   ]
  },
  {
   "cell_type": "code",
   "execution_count": 45,
   "metadata": {},
   "outputs": [],
   "source": [
    "#Normalize\n",
    "def normalize(x):\n",
    "    x_norm = (x - np.mean(x, axis=0)) / np.std(x,axis=0)\n",
    "    return x_norm\n",
    "\n",
    "\n",
    "X_norm = normalize(x)\n"
   ]
  },
  {
   "cell_type": "code",
   "execution_count": 46,
   "metadata": {},
   "outputs": [
    {
     "name": "stdout",
     "output_type": "stream",
     "text": [
      "(4601, 57)\n",
      "x shape:  (4601, 58)\n",
      "Split X 4601 rows into train with 3680 and test with 921\n",
      "Split Y 4601 rows into train with 3680 and test with 921\n",
      "xTrain shape: (3680, 58) yTrain shape: (3680, 1)\n",
      "xTest shape: (921, 58) yTest shape: (921, 1)\n"
     ]
    }
   ],
   "source": [
    "#2. Prepare data: add Bias and split dataset\n",
    "\n",
    "print(np.shape(X_norm))\n",
    "\n",
    "def Bias(X):\n",
    "    ones = np.ones((len(X),1))\n",
    "    X1 = np.concatenate((ones, X), axis=1)\n",
    "    return X1\n",
    "\n",
    "x = Bias(X_norm)\n",
    "\n",
    "print('x shape: ', np.shape(x))\n",
    "\n",
    "test_size = 0.2\n",
    "xTrain, xTest, yTrain, yTest = train_test_split(x, y,test_size = test_size)\n",
    "print('Split X', len(x), 'rows into train with', len(xTrain), 'and test with', len(xTest))\n",
    "print('Split Y', len(y), 'rows into train with', len(yTrain), 'and test with', len(yTest))\n",
    "\n",
    "yTrain = yTrain.reshape(-1,1)\n",
    "yTest = yTest.reshape(-1,1)\n",
    "\n",
    "print('xTrain shape:',np.shape(xTrain), 'yTrain shape:', np.shape(yTrain))\n",
    "print('xTest shape:', np.shape(xTest), 'yTest shape:', np.shape(yTest))\n"
   ]
  },
  {
   "cell_type": "code",
   "execution_count": 47,
   "metadata": {},
   "outputs": [],
   "source": [
    "#3.1 Logistic function\n",
    "def h(x, w):\n",
    "    wx = np.dot(x, w.T)\n",
    "    z = 1 / (1 + np.exp(-wx))\n",
    "    return z"
   ]
  },
  {
   "cell_type": "code",
   "execution_count": 48,
   "metadata": {},
   "outputs": [],
   "source": [
    "#3.2 Cost function\n",
    "def cost(x, y, w):\n",
    "    m, n = np.shape(x)\n",
    "    c = (-1 / m)*np.sum(y * np.log(h(x, w)) + (1 - y) * np.log((1 - h(x, w))))\n",
    "    return c\n"
   ]
  },
  {
   "cell_type": "code",
   "execution_count": 49,
   "metadata": {},
   "outputs": [],
   "source": [
    "#3.3 Gradient function\n",
    "def grad(x, y, w):\n",
    "    m, n = np.shape(x)\n",
    "    g = (1 / m) * np.dot(x.T,(h(x, w)-y))\n",
    "    return g"
   ]
  },
  {
   "cell_type": "code",
   "execution_count": 50,
   "metadata": {},
   "outputs": [],
   "source": [
    "# 3.4 Gradient Descent function\n",
    "def gd(x, y, w, alpha = 0.001, its = 1000):\n",
    "    it = 0\n",
    "    costo = 0\n",
    "    J = {}\n",
    "    while it < its:\n",
    "        # Gradient\n",
    "        gradiente = grad(x, y, w)\n",
    "            \n",
    "        #Cost function\n",
    "        costo = cost(x, y, w)\n",
    "            \n",
    "        #Updating w\n",
    "        w = w - alpha * gradiente.T\n",
    "                \n",
    "        #Storing cost\n",
    "        J[it] = costo\n",
    "   \n",
    "        it += 1\n",
    "              \n",
    "    return w, J"
   ]
  },
  {
   "cell_type": "code",
   "execution_count": 51,
   "metadata": {},
   "outputs": [
    {
     "name": "stdout",
     "output_type": "stream",
     "text": [
      "Initial Cost (training data): 0.6931471805599452\n"
     ]
    },
    {
     "name": "stderr",
     "output_type": "stream",
     "text": [
      "C:\\Users\\armaf\\AppData\\Local\\Temp\\ipykernel_25708\\4009325281.py:4: RuntimeWarning: divide by zero encountered in log\n",
      "  c = (-1 / m)*np.sum(y * np.log(h(x, w)) + (1 - y) * np.log((1 - h(x, w))))\n",
      "C:\\Users\\armaf\\AppData\\Local\\Temp\\ipykernel_25708\\4009325281.py:4: RuntimeWarning: invalid value encountered in multiply\n",
      "  c = (-1 / m)*np.sum(y * np.log(h(x, w)) + (1 - y) * np.log((1 - h(x, w))))\n"
     ]
    },
    {
     "name": "stdout",
     "output_type": "stream",
     "text": [
      "Cost after training (training data): nan\n",
      "Cost after training (testing data): 0.24951366166295125\n",
      "W: [[-0.83737304 -0.0698208  -0.15880244  0.10268743  0.31611149  0.37631925\n",
      "   0.13301959  1.10070908  0.39452218  0.15265511  0.04896692 -0.01839777\n",
      "  -0.13477054 -0.01854345  0.01488213  0.48258248  0.57004264  0.34439545\n",
      "   0.13160827  0.21493948  0.36874664  0.30779     0.38926869  0.87581461\n",
      "   0.24316822 -1.01767747 -0.64257778 -0.84619154  0.15160834 -0.35350942\n",
      "  -0.32640089 -0.20943823 -0.11312299 -0.45713237 -0.1663331  -0.36491925\n",
      "   0.15684815 -0.02962759 -0.00481093 -0.30209798 -0.08210831 -0.38523746\n",
      "  -0.59692338 -0.21225546 -0.43417104 -0.61757597 -0.69714222 -0.11461512\n",
      "  -0.39215329 -0.33470695 -0.05610636 -0.1224223   0.48087827  1.09258535\n",
      "   0.30945176  0.16011526  0.56298836  0.45055287]]\n"
     ]
    },
    {
     "data": {
      "image/png": "[encoded data removed]",
      "text/plain": [
       "<Figure size 640x480 with 1 Axes>"
      ]
     },
     "metadata": {},
     "output_type": "display_data"
    }
   ],
   "source": [
    "# Test the gradient descent\n",
    "alpha = 0.1\n",
    "its = 1000\n",
    "\n",
    "m, n = np.shape(x)\n",
    "w = np.zeros((1, n))\n",
    "\n",
    "print('Initial Cost (training data):', cost(xTrain, yTrain, w))\n",
    "\n",
    "#Gradient\n",
    "w, J = gd(xTrain, yTrain, w, alpha, its)\n",
    "\n",
    "print('Cost after training (training data):', cost(xTrain, yTrain, w))\n",
    "print('Cost after training (testing data):', cost(xTest, yTest, w))\n",
    "\n",
    "print('W:',w)\n",
    "\n",
    "#Plot the cost over the iterations\n",
    "plt.plot(J.keys(), J.values())\n",
    "plt.xlabel('Iterations')\n",
    "plt.ylabel('Cost');"
   ]
  },
  {
   "cell_type": "code",
   "execution_count": 52,
   "metadata": {},
   "outputs": [
    {
     "name": "stdout",
     "output_type": "stream",
     "text": [
      "Training accuracy: 0.9211956521739131 3390 out of 3680\n",
      "Testing accuracy: 0.9229098805646037 850 out of 921\n"
     ]
    }
   ],
   "source": [
    "# 4.1 Accuracy\n",
    "\n",
    "def accuracy(x, y, w):\n",
    "\n",
    "    Ynew = list(map(lambda x: 1 if x >= 0.5 else 0, h(x, w)))\n",
    "\n",
    "    Ynew = np.array(Ynew)\n",
    "    Ynew = Ynew.reshape(-1, 1)\n",
    "    suma = (y == Ynew).sum()\n",
    "\n",
    "    a = suma/len(y)\n",
    "\n",
    "    return a, suma\n",
    "\n",
    "\n",
    "accTrain, tptnTrain = accuracy(xTrain, yTrain, w)\n",
    "accTest, tptnTest = accuracy(xTest, yTest, w)\n",
    "print('Training accuracy:', accTrain, tptnTrain, 'out of', len(yTrain))\n",
    "print('Testing accuracy:', accTest, tptnTest, 'out of', len(yTest))\n"
   ]
  },
  {
   "cell_type": "code",
   "execution_count": 53,
   "metadata": {},
   "outputs": [
    {
     "name": "stdout",
     "output_type": "stream",
     "text": [
      "Prediction shape:  (4601,)\n",
      "Values:  {'TP': 629, 'TN': 1200, 'FN': 823, 'FP': 1028}\n",
      "Sensitivity (TPR): 0.43 portion were correctly classified as TP\n",
      "FPR: 0.46 portion were classified as FP\n"
     ]
    }
   ],
   "source": [
    "# 4.2 Obtain TPR and FPR\n",
    "\n",
    "# a) Define the prediction function for a variable threshold\n",
    "def predict(p, threshold):\n",
    "    y_hat = list(map(lambda x: 1 if x >= threshold else 0, p))\n",
    "    return y_hat\n",
    "\n",
    "# b) Define the values function, where you can count the tp, tn, fp, and fn\n",
    "\n",
    "\n",
    "def values(y, pred):\n",
    "\n",
    "    # YOURCODE\n",
    "    tp = tn = fn = fp = 0\n",
    "    for i in range(len(y)):\n",
    "        if y[i]:\n",
    "            if y[i] == pred[i]:\n",
    "                tp += 1\n",
    "            else:\n",
    "                fn += 1\n",
    "        else:\n",
    "            if y[i] == pred[i]:\n",
    "                tn += 1\n",
    "            else:\n",
    "                fp += 1\n",
    "\n",
    "    V = {'TP': tp, 'TN': tn, 'FN': fn, 'FP': fp}\n",
    "    return V\n",
    "\n",
    "# c) Define the TPR function\n",
    "\n",
    "\n",
    "def tpr(V):\n",
    "\n",
    "    tpr = V[\"TP\"] / (V[\"TP\"] + V[\"FN\"])\n",
    "\n",
    "    return tpr\n",
    "\n",
    "# d) Define the FPR function\n",
    "\n",
    "\n",
    "def fpr(V):\n",
    "\n",
    "    fpr = V[\"FP\"] / (V[\"FP\"] + V['TN'])\n",
    "\n",
    "    return fpr\n",
    "\n",
    "\n",
    "# Test your functions\n",
    "pred = predict(h(x, w), 0.5)\n",
    "Val = values(yTrain, pred)\n",
    "print('Prediction shape: ', np.shape(pred))\n",
    "print('Values: ', Val)\n",
    "\n",
    "print('Sensitivity (TPR): %.2F' %\n",
    "      tpr(Val), 'portion were correctly classified as TP')\n",
    "print('FPR: %.2F' % fpr(Val), 'portion were classified as FP')\n"
   ]
  },
  {
   "cell_type": "code",
   "execution_count": 54,
   "metadata": {},
   "outputs": [
    {
     "data": {
      "text/plain": [
       "Text(0.5, 1.0, 'Receiver Operating Characteristic')"
      ]
     },
     "execution_count": 54,
     "metadata": {},
     "output_type": "execute_result"
    },
    {
     "data": {
      "image/png": "[encoded data removed]",
      "text/plain": [
       "<Figure size 640x480 with 1 Axes>"
      ]
     },
     "metadata": {},
     "output_type": "display_data"
    }
   ],
   "source": [
    "def ROC(y, p):\n",
    "\n",
    "    # YOURCODE\n",
    "    threshold = np.arange(0, 1, 0.005)\n",
    "    TPR = np.zeros(len(threshold))\n",
    "    FPR = np.zeros(len(threshold))\n",
    "\n",
    "    for thr in range(len(threshold)):\n",
    "        pred = predict(p, threshold[thr])\n",
    "        TPR[thr] = tpr(values(y, pred))\n",
    "        FPR[thr] = fpr(values(y, pred))\n",
    "\n",
    "    return TPR, FPR\n",
    "\n",
    "\n",
    "# ROC curve for Training\n",
    "Tpr, Fpr = ROC(yTrain, h(xTrain, w))\n",
    "plt.plot([0, 1], [0, 1], 'k--',)\n",
    "plt.plot(Fpr, Tpr, '-', label=\"Train\")\n",
    "\n",
    "# ROC curve for Testing\n",
    "Tpr1, Fpr1 = ROC(yTest, h(xTest, w))\n",
    "plt.plot(Fpr1, Tpr1, '-', label=\"Test\")\n",
    "\n",
    "# Plot the curves\n",
    "plt.xlabel('FPR')\n",
    "plt.ylabel('TPR')\n",
    "plt.legend()\n",
    "plt.title('Receiver Operating Characteristic')\n"
   ]
  },
  {
   "cell_type": "code",
   "execution_count": 55,
   "metadata": {},
   "outputs": [
    {
     "name": "stdout",
     "output_type": "stream",
     "text": [
      "AUC Training:  0.9713380541171465\n",
      "AUC Testing:  0.9668628808864261\n"
     ]
    }
   ],
   "source": [
    "# AUC (Area under curve) calculus\n",
    "\n",
    "# AUC for Training\n",
    "rectangle_roc = 0\n",
    "rectangle_roc1 = 0\n",
    "for i in range(len(Tpr)-1):\n",
    "    rectangle_roc += (Fpr[i] - Fpr[i+1]) * Tpr[i]\n",
    "print('AUC Training: ', rectangle_roc)\n",
    "\n",
    "# AUC for Testing\n",
    "\n",
    "for i in range(len(Tpr1)-1):\n",
    "    rectangle_roc1 += (Fpr1[i] - Fpr1[i+1]) * Tpr1[i]\n",
    "print('AUC Testing: ', rectangle_roc1)\n"
   ]
  },
  {
   "cell_type": "code",
   "execution_count": 56,
   "metadata": {},
   "outputs": [
    {
     "data": {
      "text/plain": [
       "[<matplotlib.lines.Line2D at 0x28f7da222e0>]"
      ]
     },
     "execution_count": 56,
     "metadata": {},
     "output_type": "execute_result"
    },
    {
     "data": {
      "image/png": "[encoded data removed]",
      "text/plain": [
       "<Figure size 640x480 with 1 Axes>"
      ]
     },
     "metadata": {},
     "output_type": "display_data"
    }
   ],
   "source": [
    "# Specificity and Sensitivity behaviour\n",
    "\n",
    "thrs = np.arange(0, 1, 0.005)\n",
    "plt.plot(thrs, Tpr)\n",
    "plt.plot(thrs, 1 - Fpr)\n"
   ]
  },
  {
   "cell_type": "code",
   "execution_count": 57,
   "metadata": {},
   "outputs": [
    {
     "name": "stdout",
     "output_type": "stream",
     "text": [
      "[[2003  225]\n",
      " [  92 1360]]\n"
     ]
    }
   ],
   "source": [
    "from sklearn.metrics import confusion_matrix\n",
    "\n",
    "pred = predict(h(xTrain, w), 0.3)\n",
    "cm = confusion_matrix(yTrain, pred)\n",
    "print(cm)"
   ]
  },
  {
   "cell_type": "code",
   "execution_count": 58,
   "metadata": {},
   "outputs": [
    {
     "data": {
      "image/png": "[encoded data removed]",
      "text/plain": [
       "<Figure size 500x500 with 2 Axes>"
      ]
     },
     "metadata": {},
     "output_type": "display_data"
    }
   ],
   "source": [
    "def plot_confusion_matrix(values, classes):\n",
    "    import itertools\n",
    "    m, n = values.shape\n",
    "\n",
    "    accuracy = np.trace(values) / float(np.sum(values))\n",
    "    misclass = 1 - accuracy\n",
    "\n",
    "    plt.figure(figsize=(5, 5))\n",
    "    plt.imshow(values, interpolation='nearest', cmap=plt.get_cmap('Blues'))\n",
    "    plt.title('Confusion matrix')\n",
    "    plt.colorbar()\n",
    "\n",
    "    marks = np.arange(len(classes))\n",
    "    plt.xticks(marks, classes, rotation=45)\n",
    "    plt.yticks(marks, classes)\n",
    "\n",
    "    thresh = values.max() / 2\n",
    "    for i, j in itertools.product(range(m), range(n)):\n",
    "        plt.text(j, i, \"{:,}\".format(values[i, j]),\n",
    "                 horizontalalignment=\"center\",\n",
    "                 color=\"white\" if values[i, j] > thresh else \"black\")\n",
    "    plt.tight_layout()\n",
    "    plt.ylabel('Predicted label')\n",
    "    plt.xlabel('True label\\naccuracy={:0.4f}; misclass={:0.4f}'.format(accuracy, misclass))\n",
    "    plt.show()\n",
    "    \n",
    "#Testing the function\n",
    "\n",
    "plot_confusion_matrix(values = cm, classes = ['0', '1'])\n"
   ]
  }
 ],
 "metadata": {
  "kernelspec": {
   "display_name": "Python 3",
   "language": "python",
   "name": "python3"
  },
  "language_info": {
   "codemirror_mode": {
    "name": "ipython",
    "version": 3
   },
   "file_extension": ".py",
   "mimetype": "text/x-python",
   "name": "python",
   "nbconvert_exporter": "python",
   "pygments_lexer": "ipython3",
   "version": "3.10.11"
  },
  "orig_nbformat": 4
 },
 "nbformat": 4,
 "nbformat_minor": 2
}
