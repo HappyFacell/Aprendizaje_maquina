{
 "cells": [
  {
   "cell_type": "markdown",
   "id": "2acb4bb7",
   "metadata": {},
   "source": [
    "# M4_2_2 Pima Diabetes, Logistic Regression\n",
    "\n",
    "Utilizando el dataset adjunto realizar los siguientes pasos:\n",
    "\n",
    "1. Leer el dataset y transformarlo:\n",
    "\n",
    "    - La salida binaria (0, 1) del dataset se encuentra en la última columna, la cual determina si la persona tiene diabetes o no. \n",
    "    - Obtener las matrices X y Y (Atributos y Salida)\n",
    "    - Escalar el dataset utilizando la función StandardScaler\n",
    "    - Agregar el Bias (columna de unos)\n",
    "    - Divide tu dataset en datos de entrenamiento y datos de prueba al 30%\n",
    "    \n",
    "2. Progama las funciones correspondientes al gradiente descendente:\n",
    "    \n",
    "    - Función logística (h)\n",
    "    - Función de costo (J)\n",
    "    - Función del gradiente (grad)\n",
    "    - Función del gradiente descendente (GD)\n",
    "    \n",
    "3. Ejecuta el gradiente, ajustando tus parámetros alfa e iteraciones, procurando que tu costo sea el mínimo\n",
    "\n",
    "4. Obtener el accuracy \n",
    "\n",
    "5. Escribir tus conclusiones"
   ]
  },
  {
   "cell_type": "code",
   "execution_count": 1,
   "id": "d1ab7054",
   "metadata": {},
   "outputs": [],
   "source": [
    "#Import libraries\n",
    "import numpy as np\n",
    "import pandas as pd\n",
    "from sklearn.model_selection import train_test_split\n",
    "import matplotlib.pyplot as plt\n"
   ]
  },
  {
   "cell_type": "code",
   "execution_count": 2,
   "id": "0777eec8",
   "metadata": {},
   "outputs": [
    {
     "name": "stdout",
     "output_type": "stream",
     "text": [
      "x: (768, 9)\n",
      "y: (768,)\n"
     ]
    }
   ],
   "source": [
    "#1. Load dataset\n",
    "data = pd.read_csv(\"diabetes.csv\")\n",
    "\n",
    "#YOUR CODE\n",
    "datanp = np.array(data)\n",
    "x = datanp[:,0:9]\n",
    "y = datanp[:,-1]\n",
    "\n",
    "print('x:', np.shape(x))\n",
    "print('y:', np.shape(y))"
   ]
  },
  {
   "cell_type": "code",
   "execution_count": 3,
   "id": "bbe9bf2e",
   "metadata": {},
   "outputs": [
    {
     "name": "stdout",
     "output_type": "stream",
     "text": [
      "x shape:  (768, 10)\n",
      "Split X 768 rows into train with 614 and test with 154\n",
      "Split Y 768 rows into train with 614 and test with 154\n",
      "xTrain shape: (614, 10) yTrain shape: (614, 1)\n",
      "xTest shape: (154, 10) yTest shape: (154, 1)\n"
     ]
    }
   ],
   "source": [
    "#2. Prepare data: add Bias and split dataset\n",
    "def Bias(X):\n",
    "    #YOUR CODE \n",
    "    ones = np.ones((len(X), 1))\n",
    "    X1 = np.concatenate((ones, X), axis=1)\n",
    "    return X1\n",
    "\n",
    "x = Bias(x)\n",
    "\n",
    "print('x shape: ', np.shape(x))\n",
    "\n",
    "#SPLIT DATASET\n",
    "test_size = 0.2\n",
    "xTrain, xTest, yTrain, yTest = train_test_split(x, y,test_size = test_size)\n",
    "print('Split X', len(x), 'rows into train with', len(xTrain), 'and test with', len(xTest))\n",
    "print('Split Y', len(y), 'rows into train with', len(yTrain), 'and test with', len(yTest))\n",
    "\n",
    "yTrain = yTrain.reshape(-1,1)\n",
    "yTest = yTest.reshape(-1,1)\n",
    "\n",
    "print('xTrain shape:',np.shape(xTrain), 'yTrain shape:', np.shape(yTrain))\n",
    "print('xTest shape:', np.shape(xTest), 'yTest shape:', np.shape(yTest))"
   ]
  },
  {
   "cell_type": "code",
   "execution_count": 4,
   "id": "68eafb9c",
   "metadata": {},
   "outputs": [],
   "source": [
    "# 3.1 Logistic function\n",
    "\n",
    "def h(x, w):\n",
    "\n",
    "    # your code\n",
    "    wx = np.dot(x, w.T)\n",
    "    hz = 1 / (1+np.exp(-wx))\n",
    "    return hz\n"
   ]
  },
  {
   "cell_type": "code",
   "execution_count": 5,
   "id": "e9aea7b8",
   "metadata": {},
   "outputs": [],
   "source": [
    "# 3.2 Cost function\n",
    "\n",
    "def cost(x, y, w):\n",
    "\n",
    "    # YOUR CODE\n",
    "    m = len(y)\n",
    "    c = (-1 / m) * np.sum(y * np.log(h(x, w)) + (1 - y) * np.log(1 - h(x, w)))\n",
    "    return c\n"
   ]
  },
  {
   "cell_type": "code",
   "execution_count": 6,
   "id": "d5c3b324",
   "metadata": {},
   "outputs": [],
   "source": [
    "# 3.3 Gradient function\n",
    "\n",
    "def grad(x, y, w):\n",
    "\n",
    "    # YOUR CODE\n",
    "    m, n = np.shape(x)\n",
    "    g = (1 / m) * np.dot(x.T, (h(x, w) - y))\n",
    "    return g\n"
   ]
  },
  {
   "cell_type": "code",
   "execution_count": 7,
   "id": "f9c1a99b",
   "metadata": {},
   "outputs": [],
   "source": [
    "# 3.4 Gradient Descent function\n",
    "\n",
    "def gd(x, y, w, alpha=0.001, its=1000):\n",
    "    it = 0\n",
    "    costo = 0\n",
    "    J = []\n",
    "    while it < its:\n",
    "        # Gradient\n",
    "        gradiente = grad(x, y, w)\n",
    "\n",
    "        # Cost function\n",
    "        costo = cost(x, y, w)\n",
    "\n",
    "        # Updating w\n",
    "        w = w - alpha * gradiente.T\n",
    "\n",
    "        # Storing cost\n",
    "        J.append(costo)\n",
    "\n",
    "        it += 1\n",
    "\n",
    "    return w, J\n"
   ]
  },
  {
   "cell_type": "code",
   "execution_count": 8,
   "id": "b653c34e",
   "metadata": {},
   "outputs": [
    {
     "name": "stdout",
     "output_type": "stream",
     "text": [
      "Initial Cost (training data): 0.6931471805599454\n",
      "Cost after training (training data): 0.5626527969603907\n",
      "Cost after training (testing data): 0.5320821503250257\n",
      "W: [[-0.05957969  0.08829367  0.00971835 -0.02663469  0.00173793  0.00061758\n",
      "  -0.00477767  0.00985086 -0.00561881  0.28338385]]\n"
     ]
    },
    {
     "data": {
      "image/png": "[encoded data removed]",
      "text/plain": [
       "<Figure size 640x480 with 1 Axes>"
      ]
     },
     "metadata": {},
     "output_type": "display_data"
    }
   ],
   "source": [
    "alpha = 0.0001\n",
    "its = 15000\n",
    "\n",
    "m, n = np.shape(x)\n",
    "\n",
    "w = np.zeros((1, n))\n",
    "\n",
    "\n",
    "print('Initial Cost (training data):', cost(xTrain, yTrain, w))\n",
    "\n",
    "#Gradient\n",
    "w, J = gd(xTrain, yTrain, w, alpha, its)\n",
    "\n",
    "print('Cost after training (training data):', cost(xTrain, yTrain, w))\n",
    "print('Cost after training (testing data):', cost(xTest, yTest, w))\n",
    "\n",
    "print('W:',w)\n",
    "\n",
    "#Plot the cost over the iterations\n",
    "plt.plot(J)\n",
    "plt.xlabel('Iterations')\n",
    "plt.ylabel('Cost');"
   ]
  },
  {
   "cell_type": "code",
   "execution_count": 9,
   "id": "52640af1",
   "metadata": {},
   "outputs": [
    {
     "name": "stdout",
     "output_type": "stream",
     "text": [
      "Training accuracy: 0.7361563517915309 452 out of 614\n",
      "Testing accuracy: 0.7597402597402597 117 out of 154\n"
     ]
    }
   ],
   "source": [
    "# 4. Accuracy\n",
    "\n",
    "def accuracy(x, y, w):\n",
    "\n",
    "    # YOUR CODE\n",
    "    Ynew = list(map(lambda x: 1 if x > 0.5 else 0, h(x, w)))\n",
    "    Ynew = np.array(Ynew)\n",
    "    Ynew = Ynew.reshape(-1,1)\n",
    "    suma = (y == Ynew).sum()\n",
    "    a = suma/ len(Ynew)\n",
    "    return a, suma\n",
    "\n",
    "\n",
    "accTrain, tptnTrain = accuracy(xTrain, yTrain, w)\n",
    "accTest, tptnTest = accuracy(xTest, yTest, w)\n",
    "print('Training accuracy:', accTrain, tptnTrain, 'out of', len(yTrain))\n",
    "print('Testing accuracy:', accTest, tptnTest, 'out of', len(yTest))\n"
   ]
  }
 ],
 "metadata": {
  "kernelspec": {
   "display_name": "Python 3 (ipykernel)",
   "language": "python",
   "name": "python3"
  },
  "language_info": {
   "codemirror_mode": {
    "name": "ipython",
    "version": 3
   },
   "file_extension": ".py",
   "mimetype": "text/x-python",
   "name": "python",
   "nbconvert_exporter": "python",
   "pygments_lexer": "ipython3",
   "version": "3.10.10"
  }
 },
 "nbformat": 4,
 "nbformat_minor": 5
}
