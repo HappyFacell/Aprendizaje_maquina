{
 "cells": [
  {
   "cell_type": "markdown",
   "metadata": {},
   "source": [
    "# 13. Seaborn y Matplotlib\n",
    "\n",
    "La librería seaborn a veces no se instala en el programa de Jupyter. Para instalarla realiza los siguientes pasos:\n",
    "\n",
    "1. Verifica que la librería se encuentre instalada tratándola de importar (ejecutar la siguiente celda). Si está instalada no te maracará ningún error.\n",
    "\n",
    "2. Si te marca un error al importar la celda, abre la aplicación Anaconda Prompt y ahí ejecuta la siguiente instrucción y vuelve a importar la librería.\n",
    "    \n",
    "            pip install seaborn"
   ]
  },
  {
   "cell_type": "code",
   "execution_count": 1,
   "metadata": {},
   "outputs": [],
   "source": [
    "import seaborn "
   ]
  },
  {
   "cell_type": "markdown",
   "metadata": {},
   "source": [
    "Importar las librerías necesarias:"
   ]
  },
  {
   "cell_type": "code",
   "execution_count": null,
   "metadata": {},
   "outputs": [],
   "source": [
    "import pandas as pd\n",
    "import numpy as np\n",
    "import matplotlib as mpl\n",
    "import seaborn as sns\n",
    "%matplotlib inline"
   ]
  },
  {
   "cell_type": "markdown",
   "metadata": {},
   "source": [
    "## 13.1 Histogramas\n",
    "\n",
    "Para crear un histograma a partir de una lista de datos, utilizamos la instrucción de la librería de matplotlib:\n",
    "\n",
    "    mpl.pyplot.hist(lista_datos)\n",
    "    \n",
    "Esta instrucción realizará la gráfica del histograma, y asignará por default\n",
    "    \n",
    "Con la librería de seaborn también obtenemos histogramas y podemos observar la forma que toma la distribución estadística:\n",
    "\n",
    "    sns.distplot(lista_datos)\n",
    "    \n",
    "En esta instrucción también podemos cambiar el color:\n",
    "\n",
    "    sns.distplot(lista_datos, color = 'green')\n",
    "\n",
    "Y también cuenta con más parámetros a modificar que pueden consultar en la siguiente liga: https://matplotlib.org/stable/api/_as_gen/matplotlib.pyplot.hist.html\n",
    "\n",
    "   \n",
    "### 1. Crea una lista de 100 datos aleatorios y obtén los histogramas con las instrucciones anteriores."
   ]
  },
  {
   "cell_type": "code",
   "execution_count": null,
   "metadata": {},
   "outputs": [],
   "source": []
  },
  {
   "cell_type": "markdown",
   "metadata": {},
   "source": [
    "Para comparar dos histogramas podemos utilizar la siguiente instrucción:\n",
    "\n",
    "    sns.jointplot(lista_datos1, lista_datos2)\n",
    "    \n",
    "En lugar de graficar puntos, también es posible graficar figuras geométricas y se observará cuál es el área que se correlaciona más:\n",
    "\n",
    "     sns.jointplot(lista_datos1, lista_datos2, kind = 'hex')\n",
    "    \n",
    "Esta instrucción lo que hará será graficar un histograma contra otro, y se podrá observar si existe cierta correlación.\n",
    "\n",
    "\n",
    "### 2. Crea dos listas diferentes de 1000 números aleatorios y ejecuta las instrucciones anteriores.\n"
   ]
  },
  {
   "cell_type": "code",
   "execution_count": null,
   "metadata": {},
   "outputs": [],
   "source": []
  },
  {
   "cell_type": "markdown",
   "metadata": {},
   "source": [
    "## 13.2 Distribuciones\n",
    "\n",
    "En algunas ocasiones, a veces sólo queremos observar las distribuciones sin graficar el histograma para lograrlo usamos la instrucción:\n",
    "\n",
    "     sns.distplot(lista_datos1, color = 'green', rug = False, hist = False)\n",
    "     \n",
    "O si se desea que cada elemento del histograma tenga diferentes atributos como color y nombre utlizamos diccionarios:\n",
    "\n",
    "    argumentos_curva = {'color':'black', 'label':'Curva'}\n",
    "    \n",
    "    argumentos_histograma = {'color':'grey', 'label':'Histograma'}\n",
    "    \n",
    "    sns.distplot(lista_datos1, bins = 25, kde_kws = argumentos_curva, hist_kws = argumentos_histograma)\n",
    "\n",
    "### 3. Con una de las listas de los datos anteriores probar las instrucciones anteriores."
   ]
  },
  {
   "cell_type": "code",
   "execution_count": null,
   "metadata": {},
   "outputs": [],
   "source": []
  },
  {
   "cell_type": "markdown",
   "metadata": {},
   "source": [
    "## 13.3 Diagrama de caja (Boxplot)\n",
    "\n",
    "Para entender mejor cómo se leen los diagramas de cajas, puedes ver el siguiente enlace:\n",
    "\n",
    "https://es.khanacademy.org/math/ap-statistics/summarizing-quantitative-data-ap/stats-box-whisker-plots/v/reading-box-and-whisker-plots\n",
    "\n",
    "Con la librería seaborn es posible graficar diagramas de caja:\n",
    "\n",
    "    sns.boxplot(datos)"
   ]
  },
  {
   "cell_type": "code",
   "execution_count": null,
   "metadata": {},
   "outputs": [],
   "source": []
  },
  {
   "cell_type": "markdown",
   "metadata": {},
   "source": [
    "### 4. Ejercicio:\n",
    "\n",
    "1. Crear una lista de 1000 valores aleatorios que sigan una distribución normal\n",
    "2. Crear un histograma mediante matplotlib con la lista de valores\n",
    "3. Crear un diagrama de caja mediante seaborn\n",
    "4. ¿Dónde se acumula el 50% de los valores?"
   ]
  },
  {
   "cell_type": "code",
   "execution_count": null,
   "metadata": {},
   "outputs": [],
   "source": []
  }
 ],
 "metadata": {
  "kernelspec": {
   "display_name": "Python 3",
   "language": "python",
   "name": "python3"
  },
  "language_info": {
   "codemirror_mode": {
    "name": "ipython",
    "version": 3
   },
   "file_extension": ".py",
   "mimetype": "text/x-python",
   "name": "python",
   "nbconvert_exporter": "python",
   "pygments_lexer": "ipython3",
   "version": "3.10.9"
  },
  "vscode": {
   "interpreter": {
    "hash": "34c967ba3987e07fb7b28f6794edadae7e6af108e1257cc6f54379ffa691cdee"
   }
  }
 },
 "nbformat": 4,
 "nbformat_minor": 2
}
