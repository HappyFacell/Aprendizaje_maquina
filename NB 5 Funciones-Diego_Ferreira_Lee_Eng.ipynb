{
 "cells": [
  {
   "cell_type": "markdown",
   "metadata": {},
   "source": [
    "# NB5. Funciones\n",
    "\n",
    "- Las funciones pueden ser utilizadas para definir código reutilizable, organizar y simplificar código.\n",
    "\n",
    "- La definición de una función consiste en el nombre de la función, parámetros y cuerpo.\n",
    "\n",
    "- El encabezado de una función comienza con la palabra reservada def, seguido del nombre de la función, los parámetros y al final dos puntos (:)\n",
    "\n",
    "- Los parámetros de una función son los valores que se le asignan a la función cuando es invocada. Este valor se le llama argumento.\n",
    "\n",
    "- Algunas funciones regresan un valor (return), mientras otras sólo hacen algunas operaciones.\n",
    "\n",
    "- La función termina cuando la instrucción return es ejecutada.\n",
    "\n",
    "- Sintaxis:\n",
    "\n",
    "        def functionName(list of parameters):\n",
    "            #Instrucciones\n",
    "            \n",
    "- Ejemplo:\n",
    "\n",
    "        def suma(parameter1, parameter2):\n",
    "            r = parameter1 + parameter2\n",
    "        return r\n",
    "        \n",
    "        print(suma(3,5))"
   ]
  },
  {
   "cell_type": "markdown",
   "metadata": {},
   "source": [
    "### 1. Escribe una función que reciba como parámetro una lista de 10 valores y devuelva el promedio de esos valores. Imprimir el resultado"
   ]
  },
  {
   "cell_type": "code",
   "execution_count": 2,
   "metadata": {},
   "outputs": [
    {
     "name": "stdout",
     "output_type": "stream",
     "text": [
      "El promedio es: 5.5\n"
     ]
    }
   ],
   "source": [
    "def promedio(lista):\n",
    "    return sum(lista) / len(lista)\n",
    "\n",
    "\n",
    "valores = [1, 2, 3, 4, 5, 6, 7, 8, 9, 10]\n",
    "resultado = promedio(valores)\n",
    "print(\"El promedio es:\", resultado)\n"
   ]
  },
  {
   "cell_type": "markdown",
   "metadata": {},
   "source": [
    "## 5.1 Funciones Avanzadas\n",
    "\n",
    "## 5.1.1 Función lambda\n",
    "\n",
    "Se trata de crear funciones de manera rápida, just in time, sobre la marcha, para prototipos ligeros que requieren únicamente de una pequeña operación o comprobación. Por lo tanto, toda función lambda también puede expresarse como una convencional (pero no viceversa).\n",
    "\n",
    "- Sintaxis:\n",
    "        \n",
    "        f = lambda argumentos: resultado\n",
    "- Ejemplo:\n",
    "  \n",
    "        b = lambda x, y: x + y\n",
    "        \n",
    "        print(b(3,5))\n",
    "\n"
   ]
  },
  {
   "cell_type": "markdown",
   "metadata": {},
   "source": [
    "### 2. Defina una lista de 15 elementos. Posteriormente escribe una función lambda que obtenga el promedio de los elementos.\n"
   ]
  },
  {
   "cell_type": "code",
   "execution_count": 3,
   "metadata": {},
   "outputs": [
    {
     "name": "stdout",
     "output_type": "stream",
     "text": [
      "16.0\n"
     ]
    }
   ],
   "source": [
    "lista = [2, 4, 6, 8, 10, 12, 14, 16, 18, 20, 22, 24, 26, 28 ,30]\n",
    "\n",
    "promedio = lambda x: sum(x)/len(x)\n",
    "\n",
    "print(promedio(lista))"
   ]
  },
  {
   "cell_type": "markdown",
   "metadata": {},
   "source": [
    "## 5.1.2 Función filter\n",
    "\n",
    "Esta función filtra una lista utilizando una función condicional definida por el usuario.\n",
    "\n",
    "- Sintaxis:\n",
    "\n",
    "        filter(conditional_funcion, iterable_object)\n",
    "        \n",
    "- Ejemplo:\n",
    "        \n",
    "        def positivo(numero):\n",
    "            if(numero > 0):\n",
    "                return True\n",
    "            else:\n",
    "                return False\n",
    "\n",
    "        numeros = [-1, 1, -2, 2, -3, 3]\n",
    "        filtro = filter(positivo, numeros)\n",
    "        resultado = list(filtro)\n",
    "        print(resultado)"
   ]
  },
  {
   "cell_type": "markdown",
   "metadata": {},
   "source": [
    "### 3. En la siguiente casilla ejecuta el código del ejemplo"
   ]
  },
  {
   "cell_type": "code",
   "execution_count": 4,
   "metadata": {},
   "outputs": [
    {
     "name": "stdout",
     "output_type": "stream",
     "text": [
      "[1, 2, 3]\n"
     ]
    }
   ],
   "source": [
    "def positivo(numero):\n",
    "            if (numero > 0):\n",
    "                return True\n",
    "            else:\n",
    "                return False\n",
    "\n",
    "numeros = [-1, 1, -2, 2, -3, 3]\n",
    "filtro = filter(positivo, numeros)\n",
    "resultado = list(filtro)\n",
    "print(resultado)"
   ]
  },
  {
   "cell_type": "markdown",
   "metadata": {},
   "source": [
    "### 4. En el siguiente código realiza lo que se te pide en los comentarios"
   ]
  },
  {
   "cell_type": "code",
   "execution_count": 5,
   "metadata": {},
   "outputs": [
    {
     "name": "stdout",
     "output_type": "stream",
     "text": [
      "[-5, -4, -3, -2, -1]\n"
     ]
    }
   ],
   "source": [
    "#1. Crea una lista con la función range de -5 a 5\n",
    "lista = list(range(-5, 6))\n",
    "\n",
    "#2. Define una función lambda condicional que devuelva los valores que son negativos\n",
    "funcion_lambda = lambda x: x < 0\n",
    "\n",
    "#3. Define un filtro que utilice la función lambda como parámetro\n",
    "filtro = filter(funcion_lambda, lista) \n",
    "\n",
    "#4. Imprime los valores resultantes del filtro\n",
    "print(list(filtro)) "
   ]
  },
  {
   "cell_type": "code",
   "execution_count": 8,
   "metadata": {},
   "outputs": [
    {
     "name": "stdout",
     "output_type": "stream",
     "text": [
      "[-5, -4, -3, -2, -1]\n"
     ]
    }
   ],
   "source": [
    "#5. En una sóla línea de programa ejecuta las funciones lambda, filter y list, para obtener el mismo resultado que el anterior\n",
    "print(list(filter(lambda x: x < 0, lista)))"
   ]
  },
  {
   "cell_type": "markdown",
   "metadata": {},
   "source": [
    "## 5.1.3 Función Map\n",
    "\n",
    "Esta función aplica una función específica a cada elemento de una lista.\n",
    "\n",
    "- Sintaxis: \n",
    "    \n",
    "        map(funcion, lista)\n",
    "        \n",
    "Al igual que la función filter puede utilizarse en una sóla instrucción"
   ]
  },
  {
   "cell_type": "markdown",
   "metadata": {},
   "source": [
    "### 5. Realiza lo que se indica en el siguiente código"
   ]
  },
  {
   "cell_type": "code",
   "execution_count": 7,
   "metadata": {},
   "outputs": [
    {
     "name": "stdout",
     "output_type": "stream",
     "text": [
      "[0, 2, 4, 6, 8, 10, 12, 14, 16, 18]\n"
     ]
    }
   ],
   "source": [
    "#1. Crea una lista de 10 elementos del 0 al 9, utilizando la función range()\n",
    "lista = list(range(10))\n",
    "#2. En una sóla instrucción multiplica por 2 cada elemento de la lista\n",
    "print(list(map(lambda elemento: elemento * 2, lista)))\n"
   ]
  },
  {
   "cell_type": "markdown",
   "metadata": {},
   "source": [
    "### 6. EJERCICIO\n",
    "\n",
    "Escribir un programa que lea como entrada un número N del 0 al 15 y obtenga como resultado una lista de los N números fibonacci y una lista de sus cubos de cada número.\n",
    "\n"
   ]
  },
  {
   "cell_type": "code",
   "execution_count": 1,
   "metadata": {},
   "outputs": [
    {
     "name": "stdout",
     "output_type": "stream",
     "text": [
      "La lista de los 5 númeroes Fibonacci es: [0, 1, 1, 2, 3]\n",
      "La lista con los cuboss es: [0, 1, 1, 8, 27]\n"
     ]
    }
   ],
   "source": [
    "def fibonacci(n):\n",
    "    fibonacci = []\n",
    "    a = 0\n",
    "    b = 1\n",
    "\n",
    "    for i in range(n):\n",
    "        if i == 0:\n",
    "            fibonacci.append(a)\n",
    "        elif i == 1: \n",
    "            fibonacci.append(b)\n",
    "        else: \n",
    "            c = a + b \n",
    "            fibonacci.append(c) \n",
    "            a = b \n",
    "            b = c\n",
    "\n",
    "    print(f\"La lista de los {n} númeroes Fibonacci es: {fibonacci}\")\n",
    "\n",
    "    print(f\"La lista con los cuboss es: {list(map(lambda x: x**3, fibonacci))}\")\n",
    "\n",
    "\n",
    "n = int(input(\"Ingrese un número entero entre 0 y 15: \"))\n",
    "\n",
    "if (n < 0 or n > 15):\n",
    "    print(\"Número inválido\")\n",
    "else:\n",
    "    fibonacci(n)\n"
   ]
  }
 ],
 "metadata": {
  "kernelspec": {
   "display_name": "Python 3",
   "language": "python",
   "name": "python3"
  },
  "language_info": {
   "codemirror_mode": {
    "name": "ipython",
    "version": 3
   },
   "file_extension": ".py",
   "mimetype": "text/x-python",
   "name": "python",
   "nbconvert_exporter": "python",
   "pygments_lexer": "ipython3",
   "version": "3.10.9"
  },
  "vscode": {
   "interpreter": {
    "hash": "34c967ba3987e07fb7b28f6794edadae7e6af108e1257cc6f54379ffa691cdee"
   }
  }
 },
 "nbformat": 4,
 "nbformat_minor": 2
}
