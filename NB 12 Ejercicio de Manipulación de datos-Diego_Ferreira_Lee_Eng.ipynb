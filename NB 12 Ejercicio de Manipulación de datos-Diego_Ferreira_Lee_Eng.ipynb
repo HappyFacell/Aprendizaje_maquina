{
 "cells": [
  {
   "cell_type": "markdown",
   "metadata": {},
   "source": [
    "# 12. Ejercicio de Manipulación de datos\n",
    "\n",
    "### Filtrar datos de un dataframe.\n",
    "\n",
    "    1. Crear una lista de 50 valores aleatorios entre los valores de 0 a 100\n",
    "    2. Convertir esa lista en un dataframe de 5 filas por 10 columnas\n",
    "    3. Filtrar los datos del dataframe para visualizar solo los valores mayores de 50"
   ]
  },
  {
   "cell_type": "code",
   "execution_count": 3,
   "metadata": {},
   "outputs": [],
   "source": [
    "#Importar librerías\n",
    "import numpy as np\n",
    "import pandas as pd\n",
    "\n",
    "# 1. Crear una lista de 50 valores aleatorios entre los valores de 0 a 100\n",
    "# 2. Convertir esa lista en un dataframe de 5 filas por 10 columnas\n",
    "# 3. Filtrar los datos del dataframe para visualizar solo los valores mayores de 50\n"
   ]
  },
  {
   "cell_type": "code",
   "execution_count": 4,
   "metadata": {},
   "outputs": [
    {
     "name": "stdout",
     "output_type": "stream",
     "text": [
      "[ 75  85  33  15  73  27  29  24  82  75  25  68  16  81  90  48  63  15\n",
      "  37  86   0  63  84  61  88  15  66  85  48  14   0  28  23  37  27  87\n",
      "  20 100  65   4  91  63   9  69  87  62  68  57  79  82]\n"
     ]
    }
   ],
   "source": [
    "#1. Crear una lista de 50 valores aleatorios entre los valores de 0 a 100\n",
    "lista = np.random.randint(0, 101, 50)\n",
    "\n",
    "print(lista)"
   ]
  },
  {
   "cell_type": "code",
   "execution_count": 5,
   "metadata": {},
   "outputs": [
    {
     "name": "stdout",
     "output_type": "stream",
     "text": [
      "[[ 75  85  33  15  73  27  29  24  82  75]\n",
      " [ 25  68  16  81  90  48  63  15  37  86]\n",
      " [  0  63  84  61  88  15  66  85  48  14]\n",
      " [  0  28  23  37  27  87  20 100  65   4]\n",
      " [ 91  63   9  69  87  62  68  57  79  82]]\n"
     ]
    }
   ],
   "source": [
    "#Función reshape no modifica la variable\n",
    "\n",
    "lista = np.reshape(lista, (5, 10))\n",
    "print(lista)\n"
   ]
  },
  {
   "cell_type": "code",
   "execution_count": 6,
   "metadata": {},
   "outputs": [
    {
     "name": "stdout",
     "output_type": "stream",
     "text": [
      "    0   1   2   3   4   5   6    7   8   9\n",
      "0  75  85  33  15  73  27  29   24  82  75\n",
      "1  25  68  16  81  90  48  63   15  37  86\n",
      "2   0  63  84  61  88  15  66   85  48  14\n",
      "3   0  28  23  37  27  87  20  100  65   4\n",
      "4  91  63   9  69  87  62  68   57  79  82\n"
     ]
    }
   ],
   "source": [
    "#2. Convertir esa lista en un dataframe de 5 filas por 10 columnas\n",
    "\n",
    "df = pd.DataFrame(lista)\n",
    "\n",
    "print(df)"
   ]
  },
  {
   "cell_type": "code",
   "execution_count": 7,
   "metadata": {},
   "outputs": [
    {
     "name": "stdout",
     "output_type": "stream",
     "text": [
      "      0     1     2     3     4     5     6      7     8     9\n",
      "0  75.0  85.0   NaN   NaN  73.0   NaN   NaN    NaN  82.0  75.0\n",
      "1   NaN  68.0   NaN  81.0  90.0   NaN  63.0    NaN   NaN  86.0\n",
      "2   NaN  63.0  84.0  61.0  88.0   NaN  66.0   85.0   NaN   NaN\n",
      "3   NaN   NaN   NaN   NaN   NaN  87.0   NaN  100.0  65.0   NaN\n",
      "4  91.0  63.0   NaN  69.0  87.0  62.0  68.0   57.0  79.0  82.0\n"
     ]
    }
   ],
   "source": [
    "#3. Filtrar los datos del dataframe para visualizar solo los valores mayores de 50\n",
    "df_filtrado = df[df > 50]\n",
    "print(df_filtrado)\n"
   ]
  },
  {
   "cell_type": "code",
   "execution_count": 8,
   "metadata": {},
   "outputs": [
    {
     "name": "stdout",
     "output_type": "stream",
     "text": [
      "      0     1     2     3     4     5     6      7     8     9\n",
      "0  75.0  85.0   0.0   0.0  73.0   0.0   0.0    0.0  82.0  75.0\n",
      "1   0.0  68.0   0.0  81.0  90.0   0.0  63.0    0.0   0.0  86.0\n",
      "2   0.0  63.0  84.0  61.0  88.0   0.0  66.0   85.0   0.0   0.0\n",
      "3   0.0   0.0   0.0   0.0   0.0  87.0   0.0  100.0  65.0   0.0\n",
      "4  91.0  63.0   0.0  69.0  87.0  62.0  68.0   57.0  79.0  82.0\n"
     ]
    }
   ],
   "source": [
    "df_final = df_filtrado.fillna(0)\n",
    "print(df_final)"
   ]
  },
  {
   "cell_type": "code",
   "execution_count": null,
   "metadata": {},
   "outputs": [],
   "source": []
  }
 ],
 "metadata": {
  "kernelspec": {
   "display_name": "Python 3",
   "language": "python",
   "name": "python3"
  },
  "language_info": {
   "codemirror_mode": {
    "name": "ipython",
    "version": 3
   },
   "file_extension": ".py",
   "mimetype": "text/x-python",
   "name": "python",
   "nbconvert_exporter": "python",
   "pygments_lexer": "ipython3",
   "version": "3.10.9 (tags/v3.10.9:1dd9be6, Dec  6 2022, 20:01:21) [MSC v.1934 64 bit (AMD64)]"
  },
  "vscode": {
   "interpreter": {
    "hash": "34c967ba3987e07fb7b28f6794edadae7e6af108e1257cc6f54379ffa691cdee"
   }
  }
 },
 "nbformat": 4,
 "nbformat_minor": 2
}
