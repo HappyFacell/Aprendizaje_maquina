{
 "cells": [
  {
   "cell_type": "markdown",
   "metadata": {},
   "source": [
    "# 3. Estructuras Repetitivas \n",
    "\n",
    "- Un bucle (loop) puede ser usado para decirle a un programa que se ejecute repetidamente.\n",
    "\n",
    "- Existen dos instrucciones en Python para las estructuras repetitivas: While y For.\n",
    "\n",
    "## 3.1 Bucle WHILE \n",
    "\n",
    "Un bucle While ejecuta un conjunto de instrucciones repetidamente mientras su condición sea verdadera.\n",
    "\n",
    "- Sintaxis:\n",
    "\n",
    "        \n",
    "        while loop-continuation-condition:\n",
    "            Instrucciones\n",
    "\n",
    "### 1. Escribe un programa que inicialice un contador en cero, y que imprima un enunciado 10 veces utilizando el contador en la condición de la estructura WHILE."
   ]
  },
  {
   "cell_type": "code",
   "execution_count": 1,
   "metadata": {},
   "outputs": [
    {
     "name": "stdout",
     "output_type": "stream",
     "text": [
      "Este es el enunciado número 0\n",
      "Este es el enunciado número 1\n",
      "Este es el enunciado número 2\n",
      "Este es el enunciado número 3\n",
      "Este es el enunciado número 4\n",
      "Este es el enunciado número 5\n",
      "Este es el enunciado número 6\n",
      "Este es el enunciado número 7\n",
      "Este es el enunciado número 8\n",
      "Este es el enunciado número 9\n"
     ]
    }
   ],
   "source": [
    "contador = 0\n",
    "\n",
    "while contador < 10:\n",
    "    print(\"Este es el enunciado número\", contador)\n",
    "    contador += 1"
   ]
  },
  {
   "cell_type": "markdown",
   "metadata": {},
   "source": [
    "### 2. Adivinando Números\n",
    "\n",
    "Escribir un programa que genere un entero aleatorio entre 0 y 100. El programa pide al usuario que ingrese números continuamente hasta que el número coincida con el número generado aleatoriamente. Para cada entrada del usuario, el programa reportará si es demasiado alto o demasiado pequeño, de tal forma que el usuario puede escoger la siguiente entrada inteligentemente.\n"
   ]
  },
  {
   "cell_type": "code",
   "execution_count": 2,
   "metadata": {},
   "outputs": [
    {
     "name": "stdout",
     "output_type": "stream",
     "text": [
      "Demasiado bajo\n",
      "Demasiado bajo\n",
      "Demasiado bajo\n",
      "Demasiado alto\n",
      "Demasiado alto\n",
      "Demasiado alto\n",
      "Demasiado bajo\n",
      "¡Correcto!\n"
     ]
    }
   ],
   "source": [
    "import random\n",
    "\n",
    "# Generar un entero aleatorio entre 0 y 100\n",
    "numero_aleatorio = random.randint(0, 100)\n",
    "\n",
    "# Pedir al usuario que ingrese números continuamente hasta que el número coincida con el número generado aleatoriamente\n",
    "while True:\n",
    "    numero_usuario = int(input(\"Ingresa un número entre 0 y 100: \"))\n",
    "\n",
    "    if numero_usuario > numero_aleatorio:\n",
    "        print(\"Demasiado alto\")\n",
    "\n",
    "    elif numero_usuario < numero_aleatorio:\n",
    "        print(\"Demasiado bajo\")\n",
    "\n",
    "    else:  # El número coincide con el número generado aleatoriamente \n",
    "        print(\"¡Correcto!\") \n",
    "        break"
   ]
  },
  {
   "cell_type": "markdown",
   "metadata": {},
   "source": [
    "## 3.2 Bucle FOR\n",
    "\n",
    "- El bucle FOR hace iteraciones a través de cada valor en una secuencia.\n",
    "\n",
    "- Sintaxis:\n",
    "\n",
    "        i = initialValue\n",
    "        while i < endValue:\n",
    "            # Instrucciones\n",
    "            i += 1\n",
    "\n",
    "        for i in range(initialValue, endValue):\n",
    "            # Instrucciones\n",
    "        \n",
    "        for var in sequence:\n",
    "            #Instrucciones\n",
    "            \n",
    "- La función $range(a, b)$ regresa la secuencia de enteros de a hasta b-.\n",
    " \n",
    "- Ejemplo:\n",
    "\n",
    "        for v in range(4, 8):\n",
    "            print(v)\n",
    "\n",
    "- La función $range(a, b, k)$ regresa una secuencia de números que inicia en $a$, incrementa en $k$, y el valor límite es $b$.\n",
    "\n",
    "- Ejemplo:\n",
    "        \n",
    "        for v in range(3, 9, 2):\n",
    "            print(v)\n"
   ]
  },
  {
   "cell_type": "markdown",
   "metadata": {},
   "source": [
    "### 3. Escribe un programa que imprima los valores de la siguientes secuencias utilizando el bucle FOR:\n",
    "- 2, 3, 4, 5, 6, 7, 8, 9, 10, 11\n",
    "- 3, 6, 9, 12, 15"
   ]
  },
  {
   "cell_type": "code",
   "execution_count": 4,
   "metadata": {},
   "outputs": [
    {
     "name": "stdout",
     "output_type": "stream",
     "text": [
      "Primera secuencia\n",
      "2\n",
      "3\n",
      "4\n",
      "5\n",
      "6\n",
      "7\n",
      "8\n",
      "9\n",
      "10\n",
      "11\n",
      "Segunda secuencia\n",
      "3\n",
      "6\n",
      "9\n",
      "12\n",
      "15\n"
     ]
    }
   ],
   "source": [
    "print(\"Primera secuencia\")\n",
    "for num in range(2, 12):\n",
    "    print(num)\n",
    "\n",
    "print(\"Segunda secuencia\")\n",
    "for num in range(3, 16):\n",
    "    if num % 3 == 0:\n",
    "        print(num)"
   ]
  },
  {
   "cell_type": "markdown",
   "metadata": {},
   "source": [
    "### 4. Ejercicio 2\n",
    "\n",
    "Escribir un programa que imprima todos los números Armstrong entre 1 y 500. Si la suma de los cubos de cada dígito del número es igual al número en sí mismo, entonces el número se llama número de Armstrong.\n",
    "\n",
    "Por ejemplo, \n",
    "\n",
    "$153 = ( 1 * 1 * 1 ) + ( 5 * 5 * 5 ) + ( 3 * 3 * 3 )$\n",
    "\n"
   ]
  },
  {
   "cell_type": "code",
   "execution_count": 5,
   "metadata": {},
   "outputs": [
    {
     "name": "stdout",
     "output_type": "stream",
     "text": [
      "1\n",
      "153\n",
      "370\n",
      "371\n",
      "407\n"
     ]
    }
   ],
   "source": [
    "for num in range(1, 501):\n",
    "\n",
    "    # inicializar la suma de los cubos de cada dígito\n",
    "    sum = 0\n",
    "\n",
    "    # encontrar el número de dígitos del número\n",
    "    temp = num\n",
    "    while temp > 0:\n",
    "        digit = temp % 10\n",
    "        sum += digit ** 3\n",
    "        temp //= 10\n",
    "\n",
    "    if num == sum:\n",
    "        print(num)"
   ]
  },
  {
   "cell_type": "markdown",
   "metadata": {},
   "source": [
    "## 3.3 Bucles anidados\n",
    "\n",
    "- Consisten de un bucle exterior y uno o más bucles interiores. Cada vez que el bucle exterior se repite, el bucle interior se reinicia y comienza como si fuera nuevo.\n",
    "\n",
    "\n",
    "### 5. Ejercicio 3\n",
    "\n",
    "Escribir un programa que imprima la tabla de multiplicaciones del 1 al 10.\n"
   ]
  },
  {
   "cell_type": "raw",
   "metadata": {},
   "source": [
    "            Tabla de Multiplicaciones\n",
    " |   1   2   3   4   5   6   7   8   9\n",
    "--------------------------------------------\n",
    "1 |   1   2   3   4   5   6   7   8   9\n",
    "2 |   2   4   6   8  10  12  14  16  18\n",
    "3 |   3   6   9  12  15  18  21  24  27\n",
    "4 |   4   8  12  16  20  24  28  32  36\n",
    "5 |   5  10  15  20  25  30  35  40  45\n",
    "6 |   6  12  18  24  30  36  42  48  54\n",
    "7 |   7  14  21  28  35  42  49  56  63\n",
    "8 |   8  16  24  32  40  48  56  64  72\n",
    "9 |   9  18  27  36  45  54  63  72  81"
   ]
  },
  {
   "cell_type": "code",
   "execution_count": 1,
   "metadata": {},
   "outputs": [
    {
     "name": "stdout",
     "output_type": "stream",
     "text": [
      "\tTabla de Multiplicaciones\n",
      "  |\t 1\t 2\t 3\t 4\t 5\t 6\t 7\t 8\t 9\n",
      "-----------------------------------------------------------------------------\n",
      "1 |\t 1\t 2\t 3\t 4\t 5\t 6\t 7\t 8\t 9\n",
      "2 |\t 2\t 4\t 6\t 8\t 10\t 12\t 14\t 16\t 18\n",
      "3 |\t 3\t 6\t 9\t 12\t 15\t 18\t 21\t 24\t 27\n",
      "4 |\t 4\t 8\t 12\t 16\t 20\t 24\t 28\t 32\t 36\n",
      "5 |\t 5\t 10\t 15\t 20\t 25\t 30\t 35\t 40\t 45\n",
      "6 |\t 6\t 12\t 18\t 24\t 30\t 36\t 42\t 48\t 54\n",
      "7 |\t 7\t 14\t 21\t 28\t 35\t 42\t 49\t 56\t 63\n",
      "8 |\t 8\t 16\t 24\t 32\t 40\t 48\t 56\t 64\t 72\n",
      "9 |\t 9\t 18\t 27\t 36\t 45\t 54\t 63\t 72\t 81\n"
     ]
    }
   ],
   "source": [
    "print(\"\\tTabla de Multiplicaciones\")\n",
    "print(\"  |\\t 1\\t 2\\t 3\\t 4\\t 5\\t 6\\t 7\\t 8\\t 9\") \n",
    "print(\"-\" * 77) \n",
    "for i in range(1, 10): \n",
    "    print(i, \"|\", end=\"\") \n",
    "    for j in range(1, 10): \n",
    "        print(\"\\t\",i*j, end=\"\") \n",
    "    print()"
   ]
  }
 ],
 "metadata": {
  "kernelspec": {
   "display_name": "Python 3",
   "language": "python",
   "name": "python3"
  },
  "language_info": {
   "codemirror_mode": {
    "name": "ipython",
    "version": 3
   },
   "file_extension": ".py",
   "mimetype": "text/x-python",
   "name": "python",
   "nbconvert_exporter": "python",
   "pygments_lexer": "ipython3",
   "version": "3.10.9 (tags/v3.10.9:1dd9be6, Dec  6 2022, 20:01:21) [MSC v.1934 64 bit (AMD64)]"
  },
  "vscode": {
   "interpreter": {
    "hash": "34c967ba3987e07fb7b28f6794edadae7e6af108e1257cc6f54379ffa691cdee"
   }
  }
 },
 "nbformat": 4,
 "nbformat_minor": 2
}
