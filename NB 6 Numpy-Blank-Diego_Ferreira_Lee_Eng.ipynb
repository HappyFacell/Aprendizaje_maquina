{
 "cells": [
  {
   "cell_type": "markdown",
   "metadata": {},
   "source": [
    "# NB6. Numpy\n",
    "\n",
    "Numpy es un paquete que provee a Python con arreglos multidimensionales (vectores o matrices) de alta eficiencia y diseñados para cálculo científico.\n",
    "\n",
    "https://numpy.org/\n",
    "\n",
    "Para utilizar este módulo es necesario importarlo:"
   ]
  },
  {
   "cell_type": "code",
   "execution_count": 1,
   "metadata": {},
   "outputs": [],
   "source": [
    "import numpy as np"
   ]
  },
  {
   "cell_type": "markdown",
   "metadata": {},
   "source": [
    "## 6.1 Funciones básicas de numpy para arreglos\n",
    "\n",
    "- np.zeros(n)\n",
    "- np.ones(n)\n",
    "- np.arange(a, b, i)\n",
    "- np.array(arreglo)\n",
    "- np.shape(arreglo)\n"
   ]
  },
  {
   "cell_type": "markdown",
   "metadata": {},
   "source": [
    "### 1. En el siguiente código realice lo que se le pide:"
   ]
  },
  {
   "cell_type": "code",
   "execution_count": null,
   "metadata": {},
   "outputs": [
    {
     "name": "stdout",
     "output_type": "stream",
     "text": [
      "[0. 0. 0. 0.]\n"
     ]
    }
   ],
   "source": [
    "#1. Crear un arreglo que contenga 4 ceros con la función np.zeros(n). Donde n es el tamaño del arreglo e imprimirlo.\n",
    "\n",
    "import numpy as np\n",
    "\n",
    "arreglo = np.zeros(4)\n",
    "print(arreglo)"
   ]
  },
  {
   "cell_type": "code",
   "execution_count": 2,
   "metadata": {},
   "outputs": [
    {
     "name": "stdout",
     "output_type": "stream",
     "text": [
      "[1. 1. 1. 1. 1.]\n"
     ]
    }
   ],
   "source": [
    "#2. Crear un arreglo que contenga 5 unos con la función np.ones(n). Donde n es el tamaño del arreglo e imprimirlo.\n",
    "\n",
    "import numpy as np\n",
    "\n",
    "arreglo_unos = np.ones(5)\n",
    "print(arreglo_unos)"
   ]
  },
  {
   "cell_type": "code",
   "execution_count": 3,
   "metadata": {},
   "outputs": [
    {
     "name": "stdout",
     "output_type": "stream",
     "text": [
      "[0 1 2 3 4 5 6 7 8 9]\n"
     ]
    }
   ],
   "source": [
    "#3. Crear un arreglo que contenga los números del 0 al 9 consecutivos usando la función np.arange(n+1), \n",
    "# donde n es el último número del arreglo.\n",
    "\n",
    "import numpy as np\n",
    "\n",
    "arreglo = np.arange(10)\n",
    "print(arreglo)\n"
   ]
  },
  {
   "cell_type": "code",
   "execution_count": 6,
   "metadata": {},
   "outputs": [
    {
     "name": "stdout",
     "output_type": "stream",
     "text": [
      "[ 2  5  8 11 14 17 20]\n"
     ]
    }
   ],
   "source": [
    "#4. Crear un arreglo que contenga la secuencia de los números del 2 al 20, \n",
    "# y el incremento entre cada número de la secuencia sea de 3.\n",
    "# Utilice la función arange(a, b, i), donde a es el inicio de la secuencia, b es el final de la secuencia e i es el incremento.\n",
    "\n",
    "import numpy as np\n",
    "\n",
    "arreglo = np.arange(2, 21, 3)\n",
    "print(arreglo)\n",
    "\n"
   ]
  },
  {
   "cell_type": "code",
   "execution_count": 7,
   "metadata": {},
   "outputs": [
    {
     "name": "stdout",
     "output_type": "stream",
     "text": [
      "[1 2 3 4 5]\n"
     ]
    }
   ],
   "source": [
    "#5. Obtenga un arreglo (array) a partir de una lista cualquiera definida por usted utilizando la función np.array(arreglo)\n",
    "import numpy as np \n",
    "\n",
    "lista = [1, 2, 3, 4, 5]\n",
    "arreglo = np.array(lista) \n",
    "print(arreglo)"
   ]
  },
  {
   "cell_type": "code",
   "execution_count": 9,
   "metadata": {},
   "outputs": [
    {
     "name": "stdout",
     "output_type": "stream",
     "text": [
      "[[1, 2, 3], [4, 5, 6]]\n",
      "[[1 2 3]\n",
      " [4 5 6]]\n"
     ]
    }
   ],
   "source": [
    "#6. Obtenga un array doble o matriz a patir de una lista doble\n",
    "#   Defina la lista doble a partir de dos listas simples: (lista1, lista2)\n",
    "#   Convierta a matriz utilizando la función np.array(lista_doble)\n",
    "#   Imprima el resultado\n",
    "\n",
    "import numpy as np\n",
    "\n",
    "lista1 = [1,2,3]\n",
    "lista2 = [4,5,6]\n",
    "lista_doble = [lista1, lista2]\n",
    "matriz = np.array(lista_doble) \n",
    "print(matriz)\n"
   ]
  },
  {
   "cell_type": "code",
   "execution_count": 10,
   "metadata": {},
   "outputs": [
    {
     "name": "stdout",
     "output_type": "stream",
     "text": [
      "(2, 3)\n"
     ]
    }
   ],
   "source": [
    "#7. Imprima las dimensiones de la matriz utilizando la función np.shape(arreglo)\n",
    "import numpy as np\n",
    "\n",
    "arreglo = np.array([[1,2,3],[4,5,6]])\n",
    "\n",
    "print(np.shape(arreglo))"
   ]
  },
  {
   "cell_type": "markdown",
   "metadata": {},
   "source": [
    "## 6.2 Operaciones con arrays\n",
    "\n",
    "A diferencia de las listas, con los arrays sí es posible utilizar los operadores + y * de forma matemática.\n",
    "\n",
    "### 2. Realice el código que se le pide en cada celda:"
   ]
  },
  {
   "cell_type": "code",
   "execution_count": 12,
   "metadata": {},
   "outputs": [
    {
     "name": "stdout",
     "output_type": "stream",
     "text": [
      "[0 1 2 3 4]\n",
      "[5 6 7 8 9]\n"
     ]
    }
   ],
   "source": [
    "#1. Crear dos arrays con valores consecutivos cualesquiera utilizando la función np.arange(), y que sean de tamaño 5.\n",
    "\n",
    "import numpy as np\n",
    "\n",
    "array1 = np.arange(5)\n",
    "array2 = np.arange(5,10)\n",
    "\n",
    "print(array1)\n",
    "print(array2)"
   ]
  },
  {
   "cell_type": "code",
   "execution_count": 13,
   "metadata": {},
   "outputs": [
    {
     "name": "stdout",
     "output_type": "stream",
     "text": [
      "[0, 5, 10, 15, 20]\n"
     ]
    }
   ],
   "source": [
    "# 2. Utilizando el operador *, multiplique por una constante uno de los arrays\n",
    "\n",
    "import numpy as np\n",
    "\n",
    "constante = 5\n",
    "array1 = np.arange(5)\n",
    "\n",
    "resultado = [elemento * constante for elemento in array1]\n",
    "print(resultado)\n"
   ]
  },
  {
   "cell_type": "code",
   "execution_count": 14,
   "metadata": {},
   "outputs": [
    {
     "name": "stdout",
     "output_type": "stream",
     "text": [
      "Array original:  [0 1 2 3 4]\n",
      "Array con la constante sumada:  [5 6 7 8 9]\n"
     ]
    }
   ],
   "source": [
    "#3. Uitlizando el operador +, sume una constante a uno de los arrays.\n",
    "import numpy as np \n",
    "\n",
    "arr = np.arange(5) \n",
    "print(\"Array original: \", arr) \n",
    "\n",
    "constant = 5 \n",
    "new_arr = arr + constant \n",
    "print(\"Array con la constante sumada: \", new_arr)"
   ]
  },
  {
   "cell_type": "code",
   "execution_count": 15,
   "metadata": {},
   "outputs": [
    {
     "name": "stdout",
     "output_type": "stream",
     "text": [
      "[5, 7, 9, 11, 13]\n"
     ]
    }
   ],
   "source": [
    "#4. Sume elemento a elemento los dos arrays utilizando el operador +\n",
    "\n",
    "import numpy as np\n",
    "\n",
    "array1 = np.arange(5)\n",
    "array2 = np.arange(5,10)\n",
    "\n",
    "suma_arrays = []\n",
    "\n",
    "for i in range(len(array1)):\n",
    "    suma_arrays.append(array1[i] + array2[i])\n",
    "\n",
    "print(suma_arrays)"
   ]
  },
  {
   "cell_type": "code",
   "execution_count": 18,
   "metadata": {},
   "outputs": [
    {
     "name": "stdout",
     "output_type": "stream",
     "text": [
      "[0 1 2 3 4]\n",
      "[5 6 7 8 9]\n",
      "[ 0  6 14 24 36]\n"
     ]
    }
   ],
   "source": [
    "#5. Multiplique elemento a elemento los dos arrays utilizando el operador *\n",
    "\n",
    "import numpy as np\n",
    "\n",
    "array1 = np.arange(5)\n",
    "array2 = np.arange(5,10)\n",
    "\n",
    "print(array1)\n",
    "print(array2)\n",
    "\n",
    "resultado = array1 * array2\n",
    "print(resultado)"
   ]
  },
  {
   "cell_type": "markdown",
   "metadata": {},
   "source": [
    "## 6.3 Indexación \n",
    "\n",
    "En los arreglos podemos obtener elementos de ellos a partir de sus índices. Los índices de los arreglos tienen la siguiente sintaxis:\n",
    "\n",
    "        array[a : b]\n",
    "        \n",
    "Este código significa que se obtendrá los elementos de {a} hasta b-1.\n",
    "\n",
    "\n",
    "### 3. Realice las siguientes instrucciones:\n"
   ]
  },
  {
   "cell_type": "code",
   "execution_count": 2,
   "metadata": {},
   "outputs": [
    {
     "name": "stdout",
     "output_type": "stream",
     "text": [
      "[ 0  1  2  3  4  5  6  7  8  9 10]\n"
     ]
    }
   ],
   "source": [
    "#1. Crear un arreglo del 0 al 10 utilizando np.arange()\n",
    "import numpy as np\n",
    "\n",
    "arr = np.arange(0,11)\n",
    "print(arr)"
   ]
  },
  {
   "cell_type": "code",
   "execution_count": 3,
   "metadata": {},
   "outputs": [
    {
     "name": "stdout",
     "output_type": "stream",
     "text": [
      "[0 1 2]\n"
     ]
    }
   ],
   "source": [
    "#2. Obtenga los primeros 3 elementos del arreglo\n",
    "import numpy as np\n",
    "\n",
    "arr = np.arange(0,11)\n",
    "print(arr[:3])"
   ]
  },
  {
   "cell_type": "code",
   "execution_count": 4,
   "metadata": {},
   "outputs": [
    {
     "name": "stdout",
     "output_type": "stream",
     "text": [
      "[2 3 4]\n"
     ]
    }
   ],
   "source": [
    "#3. Obtenga los elementos del 2 al 4\n",
    "import numpy as np\n",
    "\n",
    "arr = np.arange(0,11)\n",
    "print(arr[2:5])"
   ]
  },
  {
   "cell_type": "code",
   "execution_count": 7,
   "metadata": {},
   "outputs": [
    {
     "name": "stdout",
     "output_type": "stream",
     "text": [
      "[ 0  1  2  3  4  5  6  7  8  9 10]\n"
     ]
    }
   ],
   "source": [
    "#4. Ahora haga una copia de su arreglo asignándolo a otra variable, y utilice el método array.copy()\n",
    "\n",
    "import numpy as np\n",
    "\n",
    "arr = np.arange(0,11)\n",
    "arr_copy = arr.copy()\n",
    "print(arr_copy)"
   ]
  },
  {
   "cell_type": "code",
   "execution_count": 8,
   "metadata": {},
   "outputs": [
    {
     "name": "stdout",
     "output_type": "stream",
     "text": [
      "[20 20 20  3  4  5  6  7  8  9 10]\n"
     ]
    }
   ],
   "source": [
    "#5. A la copia del arreglo asigne el número 20 a los tres primeros elementos del mismo.\n",
    "\n",
    "import numpy as np\n",
    "\n",
    "arr = np.arange(0,11)\n",
    "arr_copy = arr.copy()\n",
    "arr_copy[0:3] = [20, 20, 20]\n",
    "print(arr_copy)"
   ]
  },
  {
   "cell_type": "markdown",
   "metadata": {},
   "source": [
    "Si utilizamos matrices para obtener ciertos elementos utilizamos doble corchete:\n",
    "\n",
    "        matriz[a][b]\n",
    "        \n",
    "Es posible formar matrices uniendo los arrays:\n",
    "\n",
    "        matriz = (array1, array2, array3,...)\n",
    "\n",
    "### 4. Ejecute las siguientes instrucciones:"
   ]
  },
  {
   "cell_type": "code",
   "execution_count": 1,
   "metadata": {},
   "outputs": [
    {
     "name": "stdout",
     "output_type": "stream",
     "text": [
      "[0 1 2 3 4]\n",
      "[5 6 7 8 9]\n",
      "[10 11 12 13 14]\n"
     ]
    }
   ],
   "source": [
    "#1. Crear 3 arreglos de 5 elementos utilizando np.arange\n",
    "\n",
    "import numpy as np\n",
    "\n",
    "arr1 = np.arange(5)\n",
    "arr2 = np.arange(5, 10)\n",
    "arr3 = np.arange(10, 15)\n",
    "\n",
    "print(arr1)\n",
    "print(arr2)\n",
    "print(arr3)"
   ]
  },
  {
   "cell_type": "code",
   "execution_count": 3,
   "metadata": {},
   "outputs": [
    {
     "name": "stdout",
     "output_type": "stream",
     "text": [
      "[[ 0  1  2  3  4]\n",
      " [ 5  6  7  8  9]\n",
      " [10 11 12 13 14]]\n",
      "(3, 5)\n"
     ]
    }
   ],
   "source": [
    "#2. Formar la matriz con los tres arrays y obtenga las dimensiones de la matriz utilizando la función np.shape()\n",
    "\n",
    "import numpy as np\n",
    "\n",
    "arr1 = np.arange(5)\n",
    "arr2 = np.arange(5, 10)\n",
    "arr3 = np.arange(10, 15)\n",
    "\n",
    "matriz = np.stack([arr1, arr2, arr3])\n",
    "print(matriz)\n",
    "print(np.shape(matriz))"
   ]
  },
  {
   "cell_type": "code",
   "execution_count": 7,
   "metadata": {},
   "outputs": [
    {
     "name": "stdout",
     "output_type": "stream",
     "text": [
      "12\n"
     ]
    }
   ],
   "source": [
    "#3. Después obtenga el elemento (3,2) de la matriz\n",
    "import numpy as np\n",
    "\n",
    "arr1 = np.arange(5)\n",
    "arr2 = np.arange(5, 10)\n",
    "arr3 = np.arange(10, 15)\n",
    "\n",
    "matriz = np.stack([arr1, arr2, arr3])\n",
    "print(matriz[2][2])"
   ]
  },
  {
   "cell_type": "markdown",
   "metadata": {},
   "source": [
    "## 6.4 Transponer matrices\n",
    "\n",
    "Para transponer matrices utilizamos el método T que seguirá a un arreglo:\n",
    "\n",
    "        array.T\n",
    "\n",
    "### 5. Obtenga la transpuesta de la matriz del ejercicio anterior."
   ]
  },
  {
   "cell_type": "code",
   "execution_count": 9,
   "metadata": {},
   "outputs": [
    {
     "name": "stdout",
     "output_type": "stream",
     "text": [
      "[[ 0  5 10]\n",
      " [ 1  6 11]\n",
      " [ 2  7 12]\n",
      " [ 3  8 13]\n",
      " [ 4  9 14]]\n"
     ]
    }
   ],
   "source": [
    "import numpy as np\n",
    "\n",
    "arr1 = np.arange(5)\n",
    "arr2 = np.arange(5, 10)\n",
    "arr3 = np.arange(10, 15)\n",
    "\n",
    "matriz = np.stack([arr1, arr2, arr3])\n",
    "\n",
    "matriz_transpuesta = matriz.T\n",
    "\n",
    "print(matriz_transpuesta)\n"
   ]
  },
  {
   "cell_type": "markdown",
   "metadata": {},
   "source": [
    "## 6.5 Algunas funciones con arrays\n",
    "\n",
    "- Obtener la raíz cuadrada de cada elemento de un arreglo: np.sqrt(arreglo)\n",
    "- Crear un arreglo que contenga n números aleatorios: np.random.rand(n)\n",
    "- Calcular la exponencial de cada elemento de un arreglo: np.exp(arreglo)\n",
    "- Obtener el logaritmo de cada elemento de un arreglo: np.log(arreglo)\n",
    "\n",
    "### 6. Realice un código que utilice las cuatro funciones:\n"
   ]
  },
  {
   "cell_type": "code",
   "execution_count": 10,
   "metadata": {},
   "outputs": [
    {
     "name": "stdout",
     "output_type": "stream",
     "text": [
      "[1. 2. 3. 4.]\n",
      "[0.1517463  0.28236791 0.4104067  0.55003127 0.58902606 0.65968636\n",
      " 0.5698523  0.40060652 0.69174199 0.57518694]\n",
      "[ 2.71828183  7.3890561  20.08553692 54.59815003]\n",
      "[0.         0.69314718 1.09861229 1.38629436]\n"
     ]
    }
   ],
   "source": [
    "import numpy as np\n",
    "\n",
    "# Metodo np.sqrt()\n",
    "arreglo = np.array([1, 4, 9, 16])\n",
    "raiz_cuadrada = np.sqrt(arreglo)\n",
    "print(raiz_cuadrada)\n",
    "\n",
    "# Metodo np.random.rand()\n",
    "n = 10\n",
    "arr = np.random.rand(n)\n",
    "print(arr)\n",
    "\n",
    "# Metodo np.exp()\n",
    "arreglo = np.array([1, 2, 3, 4])\n",
    "exponencial = np.exp(arreglo)\n",
    "print(exponencial)\n",
    "\n",
    "# Metodo np.log()\n",
    "arreglo = np.array([1, 2, 3, 4])\n",
    "logaritmo_arreglo = np.log(arreglo)\n",
    "print(logaritmo_arreglo)\n"
   ]
  },
  {
   "cell_type": "markdown",
   "metadata": {},
   "source": [
    "### 7. Ejercicio\n",
    "\n",
    "Crear la funcion \"pares\" que devuelva un array o vector de números pares entre dos valores que serán parámetros de la función (inicio, fin)\n",
    "\n",
    "Probar la función \"pares\" con los números 1 y 30\n",
    "Probar la función \"pares\" con los números 2 y 40\n"
   ]
  },
  {
   "cell_type": "code",
   "execution_count": 11,
   "metadata": {},
   "outputs": [
    {
     "name": "stdout",
     "output_type": "stream",
     "text": [
      "[2, 4, 6, 8, 10, 12, 14, 16, 18, 20, 22, 24, 26, 28, 30]\n"
     ]
    }
   ],
   "source": [
    "def pares(inicio, fin):\n",
    "    resultado = []\n",
    "    for numero in range(inicio, fin + 1):\n",
    "        if numero % 2 == 0:\n",
    "            resultado.append(numero)\n",
    "\n",
    "    return resultado\n",
    "\n",
    "\n",
    "print(pares(1, 30))"
   ]
  },
  {
   "cell_type": "code",
   "execution_count": 12,
   "metadata": {},
   "outputs": [
    {
     "name": "stdout",
     "output_type": "stream",
     "text": [
      "[2, 4, 6, 8, 10, 12, 14, 16, 18, 20, 22, 24, 26, 28, 30, 32, 34, 36, 38, 40]\n"
     ]
    }
   ],
   "source": [
    "def pares(inicio, fin):\n",
    "    resultado = []\n",
    "    for numero in range(inicio, fin + 1):\n",
    "        if numero % 2 == 0:\n",
    "            resultado.append(numero)\n",
    "\n",
    "    return resultado\n",
    "\n",
    "print(pares(2, 40))"
   ]
  }
 ],
 "metadata": {
  "kernelspec": {
   "display_name": "Python 3",
   "language": "python",
   "name": "python3"
  },
  "language_info": {
   "codemirror_mode": {
    "name": "ipython",
    "version": 3
   },
   "file_extension": ".py",
   "mimetype": "text/x-python",
   "name": "python",
   "nbconvert_exporter": "python",
   "pygments_lexer": "ipython3",
   "version": "3.9.13 (tags/v3.9.13:6de2ca5, May 17 2022, 16:36:42) [MSC v.1929 64 bit (AMD64)]"
  },
  "vscode": {
   "interpreter": {
    "hash": "929a7dba90add54bbd297275476016f3610a0526afe18ef14e9418e997b6a2cd"
   }
  }
 },
 "nbformat": 4,
 "nbformat_minor": 2
}
