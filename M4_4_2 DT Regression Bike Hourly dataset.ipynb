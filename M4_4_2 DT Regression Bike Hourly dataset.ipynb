{
 "cells": [
  {
   "cell_type": "code",
   "execution_count": 15,
   "metadata": {},
   "outputs": [
    {
     "data": {
      "text/html": [
       "<div>\n",
       "<style scoped>\n",
       "    .dataframe tbody tr th:only-of-type {\n",
       "        vertical-align: middle;\n",
       "    }\n",
       "\n",
       "    .dataframe tbody tr th {\n",
       "        vertical-align: top;\n",
       "    }\n",
       "\n",
       "    .dataframe thead th {\n",
       "        text-align: right;\n",
       "    }\n",
       "</style>\n",
       "<table border=\"1\" class=\"dataframe\">\n",
       "  <thead>\n",
       "    <tr style=\"text-align: right;\">\n",
       "      <th></th>\n",
       "      <th>instant</th>\n",
       "      <th>dteday</th>\n",
       "      <th>season</th>\n",
       "      <th>yr</th>\n",
       "      <th>mnth</th>\n",
       "      <th>hr</th>\n",
       "      <th>holiday</th>\n",
       "      <th>weekday</th>\n",
       "      <th>workingday</th>\n",
       "      <th>weathersit</th>\n",
       "      <th>temp</th>\n",
       "      <th>atemp</th>\n",
       "      <th>hum</th>\n",
       "      <th>windspeed</th>\n",
       "      <th>casual</th>\n",
       "      <th>registered</th>\n",
       "      <th>cnt</th>\n",
       "    </tr>\n",
       "  </thead>\n",
       "  <tbody>\n",
       "    <tr>\n",
       "      <th>0</th>\n",
       "      <td>1</td>\n",
       "      <td>2011-01-01</td>\n",
       "      <td>1</td>\n",
       "      <td>0</td>\n",
       "      <td>1</td>\n",
       "      <td>0</td>\n",
       "      <td>0</td>\n",
       "      <td>6</td>\n",
       "      <td>0</td>\n",
       "      <td>1</td>\n",
       "      <td>0.24</td>\n",
       "      <td>0.2879</td>\n",
       "      <td>0.81</td>\n",
       "      <td>0.0</td>\n",
       "      <td>3</td>\n",
       "      <td>13</td>\n",
       "      <td>16</td>\n",
       "    </tr>\n",
       "    <tr>\n",
       "      <th>1</th>\n",
       "      <td>2</td>\n",
       "      <td>2011-01-01</td>\n",
       "      <td>1</td>\n",
       "      <td>0</td>\n",
       "      <td>1</td>\n",
       "      <td>1</td>\n",
       "      <td>0</td>\n",
       "      <td>6</td>\n",
       "      <td>0</td>\n",
       "      <td>1</td>\n",
       "      <td>0.22</td>\n",
       "      <td>0.2727</td>\n",
       "      <td>0.80</td>\n",
       "      <td>0.0</td>\n",
       "      <td>8</td>\n",
       "      <td>32</td>\n",
       "      <td>40</td>\n",
       "    </tr>\n",
       "    <tr>\n",
       "      <th>2</th>\n",
       "      <td>3</td>\n",
       "      <td>2011-01-01</td>\n",
       "      <td>1</td>\n",
       "      <td>0</td>\n",
       "      <td>1</td>\n",
       "      <td>2</td>\n",
       "      <td>0</td>\n",
       "      <td>6</td>\n",
       "      <td>0</td>\n",
       "      <td>1</td>\n",
       "      <td>0.22</td>\n",
       "      <td>0.2727</td>\n",
       "      <td>0.80</td>\n",
       "      <td>0.0</td>\n",
       "      <td>5</td>\n",
       "      <td>27</td>\n",
       "      <td>32</td>\n",
       "    </tr>\n",
       "    <tr>\n",
       "      <th>3</th>\n",
       "      <td>4</td>\n",
       "      <td>2011-01-01</td>\n",
       "      <td>1</td>\n",
       "      <td>0</td>\n",
       "      <td>1</td>\n",
       "      <td>3</td>\n",
       "      <td>0</td>\n",
       "      <td>6</td>\n",
       "      <td>0</td>\n",
       "      <td>1</td>\n",
       "      <td>0.24</td>\n",
       "      <td>0.2879</td>\n",
       "      <td>0.75</td>\n",
       "      <td>0.0</td>\n",
       "      <td>3</td>\n",
       "      <td>10</td>\n",
       "      <td>13</td>\n",
       "    </tr>\n",
       "    <tr>\n",
       "      <th>4</th>\n",
       "      <td>5</td>\n",
       "      <td>2011-01-01</td>\n",
       "      <td>1</td>\n",
       "      <td>0</td>\n",
       "      <td>1</td>\n",
       "      <td>4</td>\n",
       "      <td>0</td>\n",
       "      <td>6</td>\n",
       "      <td>0</td>\n",
       "      <td>1</td>\n",
       "      <td>0.24</td>\n",
       "      <td>0.2879</td>\n",
       "      <td>0.75</td>\n",
       "      <td>0.0</td>\n",
       "      <td>0</td>\n",
       "      <td>1</td>\n",
       "      <td>1</td>\n",
       "    </tr>\n",
       "  </tbody>\n",
       "</table>\n",
       "</div>"
      ],
      "text/plain": [
       "   instant      dteday  season  yr  mnth  hr  holiday  weekday  workingday  \\\n",
       "0        1  2011-01-01       1   0     1   0        0        6           0   \n",
       "1        2  2011-01-01       1   0     1   1        0        6           0   \n",
       "2        3  2011-01-01       1   0     1   2        0        6           0   \n",
       "3        4  2011-01-01       1   0     1   3        0        6           0   \n",
       "4        5  2011-01-01       1   0     1   4        0        6           0   \n",
       "\n",
       "   weathersit  temp   atemp   hum  windspeed  casual  registered  cnt  \n",
       "0           1  0.24  0.2879  0.81        0.0       3          13   16  \n",
       "1           1  0.22  0.2727  0.80        0.0       8          32   40  \n",
       "2           1  0.22  0.2727  0.80        0.0       5          27   32  \n",
       "3           1  0.24  0.2879  0.75        0.0       3          10   13  \n",
       "4           1  0.24  0.2879  0.75        0.0       0           1    1  "
      ]
     },
     "execution_count": 15,
     "metadata": {},
     "output_type": "execute_result"
    }
   ],
   "source": [
    "import pandas as pd\n",
    "import numpy as np\n",
    "\n",
    "dataset = pd.read_csv('hourly-1.csv')\n",
    "\n",
    "dataset.head()"
   ]
  },
  {
   "cell_type": "code",
   "execution_count": 16,
   "metadata": {},
   "outputs": [
    {
     "name": "stdout",
     "output_type": "stream",
     "text": [
      "<class 'pandas.core.frame.DataFrame'>\n",
      "RangeIndex: 17379 entries, 0 to 17378\n",
      "Data columns (total 17 columns):\n",
      " #   Column      Non-Null Count  Dtype  \n",
      "---  ------      --------------  -----  \n",
      " 0   instant     17379 non-null  int64  \n",
      " 1   dteday      17379 non-null  object \n",
      " 2   season      17379 non-null  int64  \n",
      " 3   yr          17379 non-null  int64  \n",
      " 4   mnth        17379 non-null  int64  \n",
      " 5   hr          17379 non-null  int64  \n",
      " 6   holiday     17379 non-null  int64  \n",
      " 7   weekday     17379 non-null  int64  \n",
      " 8   workingday  17379 non-null  int64  \n",
      " 9   weathersit  17379 non-null  int64  \n",
      " 10  temp        17379 non-null  float64\n",
      " 11  atemp       17379 non-null  float64\n",
      " 12  hum         17379 non-null  float64\n",
      " 13  windspeed   17379 non-null  float64\n",
      " 14  casual      17379 non-null  int64  \n",
      " 15  registered  17379 non-null  int64  \n",
      " 16  cnt         17379 non-null  int64  \n",
      "dtypes: float64(4), int64(12), object(1)\n",
      "memory usage: 2.3+ MB\n"
     ]
    }
   ],
   "source": [
    "dataset.info()"
   ]
  },
  {
   "cell_type": "code",
   "execution_count": 17,
   "metadata": {},
   "outputs": [
    {
     "name": "stdout",
     "output_type": "stream",
     "text": [
      "(17379, 14) (17379, 1)\n"
     ]
    }
   ],
   "source": [
    "data = np.array(dataset)\n",
    "\n",
    "X = data[:,2:-1]\n",
    "y = data[:,-1]\n",
    "\n",
    "y = y.reshape(-1,1)\n",
    "\n",
    "print(X.shape, y.shape)"
   ]
  },
  {
   "cell_type": "code",
   "execution_count": 18,
   "metadata": {},
   "outputs": [],
   "source": [
    "from sklearn.preprocessing import normalize\n",
    "\n",
    "X_norm = normalize(X)\n"
   ]
  },
  {
   "cell_type": "code",
   "execution_count": 19,
   "metadata": {},
   "outputs": [
    {
     "data": {
      "text/plain": [
       "(17379, 15)"
      ]
     },
     "execution_count": 19,
     "metadata": {},
     "output_type": "execute_result"
    }
   ],
   "source": [
    "X1 = np.concatenate((np.ones((len(X_norm),1)), X_norm),axis=1)\n",
    "\n",
    "X1.shape"
   ]
  },
  {
   "cell_type": "code",
   "execution_count": 20,
   "metadata": {},
   "outputs": [
    {
     "name": "stdout",
     "output_type": "stream",
     "text": [
      "(12165, 15) (12165, 1)\n",
      "(5214, 15) (5214, 1)\n"
     ]
    }
   ],
   "source": [
    "from sklearn.model_selection import train_test_split\n",
    "\n",
    "X_train, X_test, y_train, y_test = train_test_split(X1, y, test_size = 0.3, random_state =0)\n",
    "\n",
    "print(X_train.shape, y_train.shape)\n",
    "print(X_test.shape, y_test.shape)"
   ]
  },
  {
   "cell_type": "code",
   "execution_count": 21,
   "metadata": {},
   "outputs": [
    {
     "name": "stdout",
     "output_type": "stream",
     "text": [
      "[[0.19885185 0.68184339 0.06791915 0.64298003 0.10331185 0.34532684\n",
      "  0.07334826 0.00176308 0.87862149 0.15554594 0.19126875 0.97709941\n",
      "  0.37884225 0.45023478 0.16660703]]\n",
      "W: [[141.5349878548534 -80.23538224344091 -18.290149910398096\n",
      "  -191.019400679568 -233.03573764430274 -1.6209918249167314\n",
      "  -115.7718484824381 -25.265486118512854 -61.41827999368409\n",
      "  -17.041037461754232 -16.608195557447008 -27.864640473732443\n",
      "  -6.786679883026498 129.50868805742633 111.15489657991812]]\n",
      "MSE final Training  [[20473.138434855475]]\n",
      "MSE final Testing  [[20931.727145148]]\n",
      "R2 final training  0.3765678890266214\n",
      "R2 final testing  0.36646651464123836\n"
     ]
    },
    {
     "data": {
      "image/png": "[encoded data removed]",
      "text/plain": [
       "<Figure size 640x480 with 1 Axes>"
      ]
     },
     "metadata": {},
     "output_type": "display_data"
    }
   ],
   "source": [
    "import matplotlib.pyplot as plt\n",
    "from sklearn.metrics import r2_score\n",
    "\n",
    "\n",
    "# Initialize W\n",
    "m, n = np.shape(X_train)\n",
    "initw = np.random.rand(1, n)\n",
    "print(initw)\n",
    "\n",
    "\n",
    "# Gradient function\n",
    "def gradient(X, Y, W):\n",
    "    residual = Y - np.dot(X, W.T)  # Salida menos predicción\n",
    "    grad = -2 * np.dot(X.T, residual)\n",
    "    return grad\n",
    "\n",
    "\n",
    "# Cost function\n",
    "def mse(Y, Yt):\n",
    "    m = len(Y)\n",
    "    residual = Y - Yt\n",
    "    cost = (1/m) * np.dot(residual.T, residual)\n",
    "    return cost\n",
    "\n",
    "\n",
    "# GD Algorithm\n",
    "def GD(X, Y, W, alpha, iterations):\n",
    "    grad = gradient(X, Y, W)\n",
    "    it = 0\n",
    "    J = []\n",
    "    while it < iterations:\n",
    "        grad = gradient(X, Y, W)\n",
    "        W = W - np.dot(alpha, grad.T)\n",
    "        it += 1\n",
    "        Yt = np.dot(X, W.T)\n",
    "        costo = mse(Y, Yt)\n",
    "        J.append(costo)\n",
    "    return W, it, J\n",
    "\n",
    "\n",
    "# Testing the GD\n",
    "w, iterations, J = GD(X_train, y_train, initw, 0.00001, 200)\n",
    "J = np.array(J)\n",
    "J = J.reshape(-1, 1)\n",
    "print('W:', w)\n",
    "plt.plot(J)\n",
    "\n",
    "\n",
    "yt = np.dot(X_train, w.T)  # Predicción de training\n",
    "yt_Te = np.dot(X_test, w.T)\n",
    "costoTR = mse(y_train, yt)\n",
    "costoTe = mse(y_test, yt_Te)\n",
    "\n",
    "\n",
    "r2_tr = r2_score(y_train, yt)\n",
    "r2_te = r2_score(y_test, yt_Te)\n",
    "\n",
    "\n",
    "# Crear listas para guardar valores de R2 de cada algoritmo\n",
    "R2_train = []\n",
    "R2_test = []\n",
    "\n",
    "\n",
    "R2_train.append(r2_tr)\n",
    "R2_test.append(r2_te)\n",
    "\n",
    "\n",
    "print('MSE final Training ', costoTR)\n",
    "print('MSE final Testing ', costoTe)\n",
    "print('R2 final training ', r2_tr)\n",
    "print('R2 final testing ', r2_te)\n"
   ]
  },
  {
   "cell_type": "code",
   "execution_count": 22,
   "metadata": {},
   "outputs": [
    {
     "name": "stdout",
     "output_type": "stream",
     "text": [
      "Error (R2) Train 0.5378835112508444\n",
      "Error (R2) Test 0.5307625368622304\n"
     ]
    }
   ],
   "source": [
    "from sklearn.linear_model import LinearRegression\n",
    "\n",
    "reg =  LinearRegression().fit(X_train, y_train)\n",
    "\n",
    "cost1Tr = reg.score(X_train, y_train)\n",
    "cost1Te = reg.score(X_test, y_test)\n",
    "\n",
    "R2_train.append(cost1Tr)\n",
    "R2_test.append(cost1Te)\n",
    "\n",
    "print('Error (R2) Train', cost1Tr)\n",
    "print('Error (R2) Test', cost1Te)"
   ]
  },
  {
   "cell_type": "code",
   "execution_count": 23,
   "metadata": {},
   "outputs": [
    {
     "name": "stdout",
     "output_type": "stream",
     "text": [
      "Error (R2) Train  1.0\n",
      "Error (R2) Test  0.99315182260455\n",
      "[0.3765678890266214, 0.5378835112508444, 1.0] [0.36646651464123836, 0.5307625368622304, 0.99315182260455]\n"
     ]
    }
   ],
   "source": [
    "from sklearn.tree import DecisionTreeRegressor\n",
    "\n",
    "dtreg = DecisionTreeRegressor()\n",
    "DT_reg = dtreg.fit(X_train, y_train)\n",
    "\n",
    "costo2TR = DT_reg.score(X_train, y_train)\n",
    "costo2Te = DT_reg.score(X_test, y_test)\n",
    "\n",
    "\n",
    "R2_train.append(costo2TR)\n",
    "R2_test.append(costo2Te)\n",
    "\n",
    "\n",
    "print('Error (R2) Train ', costo2TR)\n",
    "print('Error (R2) Test ', costo2Te)\n",
    "\n",
    "print(R2_train, R2_test)\n"
   ]
  },
  {
   "cell_type": "code",
   "execution_count": 24,
   "metadata": {},
   "outputs": [
    {
     "data": {
      "text/plain": [
       "<function matplotlib.pyplot.show(close=None, block=None)>"
      ]
     },
     "execution_count": 24,
     "metadata": {},
     "output_type": "execute_result"
    },
    {
     "data": {
      "image/png": "[encoded data removed]",
      "text/plain": [
       "<Figure size 640x480 with 1 Axes>"
      ]
     },
     "metadata": {},
     "output_type": "display_data"
    }
   ],
   "source": [
    "XX = ['GD', 'LinearRegression', 'DT']\n",
    "\n",
    "X_axis = np.arange(len(XX))\n",
    "\n",
    "\n",
    "plt.bar(X_axis - 0.2, R2_train, 0.4, label='Train')\n",
    "plt.bar(X_axis + 0.2, R2_test, 0.4, label='Test')\n",
    "\n",
    "plt.xticks(X_axis, XX)\n",
    "plt.xlabel('Algorithms')\n",
    "plt.ylabel('R2')\n",
    "plt.title('R2_SCORE')\n",
    "plt.legend()\n",
    "plt.show\n"
   ]
  }
 ],
 "metadata": {
  "kernelspec": {
   "display_name": "Python 3",
   "language": "python",
   "name": "python3"
  },
  "language_info": {
   "codemirror_mode": {
    "name": "ipython",
    "version": 3
   },
   "file_extension": ".py",
   "mimetype": "text/x-python",
   "name": "python",
   "nbconvert_exporter": "python",
   "pygments_lexer": "ipython3",
   "version": "3.10.11"
  },
  "orig_nbformat": 4
 },
 "nbformat": 4,
 "nbformat_minor": 2
}
