{
 "cells": [
  {
   "attachments": {},
   "cell_type": "markdown",
   "metadata": {},
   "source": [
    "Investigar si los datasets tienen encabezados, datos nulos, sustituir los datos nulos si es que existieran, y en qué columna se encuentra la salida. Finalmente obtener las matrices X y Y.\n",
    "Obtener el modelo \"W\" óptimo de cada dataset utilizando el optimizador Gradiente Descendente.\n",
    "Obtener el ACCURACY de sus modelos y comparar los desempeños de cada modelo.\n",
    "También obtener ROC, AUC, y la MATRIZ DE CONFUSIÓN de forma gráfica, de cada modelo\n",
    "¿Qué modelo es mejor y cuál es la razón?\n",
    "Implementar la Regresión Logística utilizando la librería de Sklearn, comparar el Score de la librería con el Accuracy que ustedes calcularon del Gradiente Descendente.\n",
    "En un documento en Jupyter deberán incluir:\n",
    "\n",
    "    La lectura de los datasets y su transformación a las matrices X y Y, respectivamente\n",
    "    La implementación de la regresión logística utilizando el GD, y sus mediciones de desempeño\n",
    "    La implementación de la regresión logística utilizando la librería Sklearn y su score para cada dataset\n",
    "    Hacer dos comparaciones:\n",
    "        Las mediciones de cada dataset utilizando GD y Sklearn\n",
    "        Las resultados obtenidos entre datasets\n",
    "    Responder la pregunta: ¿Por qué el modelo de un dataset tiene mejor desempeño que el otro?, sustentar su respuesta.\n",
    "\n",
    "Subir el Notebook correspondiente, incluyendo anotaciones, comentarios, títulos y subtítulos."
   ]
  },
  {
   "attachments": {},
   "cell_type": "markdown",
   "metadata": {},
   "source": [
    "# Normalize funtion\n",
    "water potability data set"
   ]
  },
  {
   "cell_type": "code",
   "execution_count": 46,
   "metadata": {},
   "outputs": [],
   "source": [
    "#Import libraries\n",
    "import numpy as np\n",
    "import pandas as pd\n",
    "from sklearn.model_selection import train_test_split\n",
    "import matplotlib.pyplot as plt\n",
    "from sklearn.linear_model import LogisticRegression"
   ]
  },
  {
   "cell_type": "code",
   "execution_count": 47,
   "metadata": {},
   "outputs": [
    {
     "name": "stdout",
     "output_type": "stream",
     "text": [
      "Rows: 2011 Columns: 10\n",
      "x: (2011, 9)\n",
      "y: (2011, 1)\n"
     ]
    }
   ],
   "source": [
    "#1. Load dataset\n",
    "data = pd.read_csv('water_potability.csv')\n",
    "# data.head()\n",
    "data = data.dropna()\n",
    "# data\n",
    "\n",
    "dataset = np.array(data)\n",
    "m, n = np.shape(dataset)\n",
    "print('Rows:', m, 'Columns:', n)\n",
    "\n",
    "x = dataset[:, 0:9]\n",
    "y = dataset[:, -1]\n",
    "y = y.reshape(-1, 1)\n",
    "print('x:', np.shape(x))\n",
    "print('y:', np.shape(y))"
   ]
  },
  {
   "cell_type": "code",
   "execution_count": 48,
   "metadata": {},
   "outputs": [],
   "source": [
    "#Normalize\n",
    "def normalize(x):\n",
    "    x_norm = (x - np.mean(x, axis=0)) / np.std(x,axis=0)\n",
    "    return x_norm\n",
    "\n",
    "\n",
    "X_norm = normalize(x)\n"
   ]
  },
  {
   "cell_type": "code",
   "execution_count": 49,
   "metadata": {},
   "outputs": [
    {
     "name": "stdout",
     "output_type": "stream",
     "text": [
      "(2011, 9)\n",
      "x shape:  (2011, 10)\n",
      "Split X 2011 rows into train with 1608 and test with 403\n",
      "Split Y 2011 rows into train with 1608 and test with 403\n",
      "xTrain shape: (1608, 10) yTrain shape: (1608, 1)\n",
      "xTest shape: (403, 10) yTest shape: (403, 1)\n"
     ]
    }
   ],
   "source": [
    "#2. Prepare data: add Bias and split dataset\n",
    "\n",
    "print(np.shape(X_norm))\n",
    "\n",
    "def Bias(X):\n",
    "    ones = np.ones((len(X),1))\n",
    "    X1 = np.concatenate((ones, X), axis=1)\n",
    "    return X1\n",
    "\n",
    "x = Bias(X_norm)\n",
    "\n",
    "print('x shape: ', np.shape(x))\n",
    "\n",
    "test_size = 0.2\n",
    "xTrain, xTest, yTrain, yTest = train_test_split(x, y,test_size = test_size)\n",
    "print('Split X', len(x), 'rows into train with', len(xTrain), 'and test with', len(xTest))\n",
    "print('Split Y', len(y), 'rows into train with', len(yTrain), 'and test with', len(yTest))\n",
    "\n",
    "yTrain = yTrain.reshape(-1,1)\n",
    "yTest = yTest.reshape(-1,1)\n",
    "\n",
    "print('xTrain shape:',np.shape(xTrain), 'yTrain shape:', np.shape(yTrain))\n",
    "print('xTest shape:', np.shape(xTest), 'yTest shape:', np.shape(yTest))\n"
   ]
  },
  {
   "cell_type": "code",
   "execution_count": 50,
   "metadata": {},
   "outputs": [],
   "source": [
    "#3.1 Logistic function\n",
    "def h(x, w):\n",
    "    wx = np.dot(x, w.T)\n",
    "    z = 1 / (1 + np.exp(-wx))\n",
    "    return z"
   ]
  },
  {
   "cell_type": "code",
   "execution_count": 51,
   "metadata": {},
   "outputs": [],
   "source": [
    "#3.2 Cost function\n",
    "def cost(x, y, w):\n",
    "    m, n = np.shape(x)\n",
    "    c = (-1 / m)*np.sum(y * np.log(h(x, w)) + (1 - y) * np.log((1 - h(x, w))))\n",
    "    return c\n"
   ]
  },
  {
   "cell_type": "code",
   "execution_count": 52,
   "metadata": {},
   "outputs": [],
   "source": [
    "#3.3 Gradient function\n",
    "def grad(x, y, w):\n",
    "    m, n = np.shape(x)\n",
    "    g = (1 / m) * np.dot(x.T,(h(x, w)-y))\n",
    "    return g"
   ]
  },
  {
   "cell_type": "code",
   "execution_count": 53,
   "metadata": {},
   "outputs": [],
   "source": [
    "# 3.4 Gradient Descent function\n",
    "def gd(x, y, w, alpha = 0.001, its = 1000):\n",
    "    it = 0\n",
    "    costo = 0\n",
    "    J = {}\n",
    "    while it < its:\n",
    "        # Gradient\n",
    "        gradiente = grad(x, y, w)\n",
    "            \n",
    "        #Cost function\n",
    "        costo = cost(x, y, w)\n",
    "            \n",
    "        #Updating w\n",
    "        w = w - alpha * gradiente.T\n",
    "                \n",
    "        #Storing cost\n",
    "        J[it] = costo\n",
    "   \n",
    "        it += 1\n",
    "              \n",
    "    return w, J"
   ]
  },
  {
   "cell_type": "code",
   "execution_count": 54,
   "metadata": {},
   "outputs": [
    {
     "name": "stdout",
     "output_type": "stream",
     "text": [
      "Initial Cost (training data): 0.6931471805599452\n",
      "Cost after training (training data): 0.669920710071694\n",
      "Cost after training (testing data): 0.6871496505523897\n",
      "W: [[-0.42433766  0.05201196 -0.00203155  0.07133064 -0.0116222  -0.02498461\n",
      "   0.0097463  -0.01927042  0.02681849  0.0207847 ]]\n"
     ]
    },
    {
     "data": {
      "image/png": "[encoded data removed]",
      "text/plain": [
       "<Figure size 640x480 with 1 Axes>"
      ]
     },
     "metadata": {},
     "output_type": "display_data"
    }
   ],
   "source": [
    "# Test the gradient descent\n",
    "alpha = 0.1\n",
    "its = 1000\n",
    "\n",
    "m, n = np.shape(x)\n",
    "w = np.zeros((1, n))\n",
    "\n",
    "print('Initial Cost (training data):', cost(xTrain, yTrain, w))\n",
    "\n",
    "#Gradient\n",
    "w, J = gd(xTrain, yTrain, w, alpha, its)\n",
    "\n",
    "print('Cost after training (training data):', cost(xTrain, yTrain, w))\n",
    "print('Cost after training (testing data):', cost(xTest, yTest, w))\n",
    "\n",
    "print('W:',w)\n",
    "\n",
    "#Plot the cost over the iterations\n",
    "plt.plot(J.keys(), J.values())\n",
    "plt.xlabel('Iterations')\n",
    "plt.ylabel('Cost');"
   ]
  },
  {
   "cell_type": "code",
   "execution_count": 55,
   "metadata": {},
   "outputs": [
    {
     "name": "stdout",
     "output_type": "stream",
     "text": [
      "Training accuracy: 0.6057213930348259 974 out of 1608\n",
      "Testing accuracy: 0.5682382133995038 229 out of 403\n"
     ]
    }
   ],
   "source": [
    "# 4.1 Accuracy\n",
    "\n",
    "def accuracy(x, y, w):\n",
    "\n",
    "    Ynew = list(map(lambda x: 1 if x >= 0.5 else 0, h(x, w)))\n",
    "\n",
    "    Ynew = np.array(Ynew)\n",
    "    Ynew = Ynew.reshape(-1, 1)\n",
    "    suma = (y == Ynew).sum()\n",
    "\n",
    "    a = suma/len(y)\n",
    "\n",
    "    return a, suma\n",
    "\n",
    "\n",
    "accTrain, tptnTrain = accuracy(xTrain, yTrain, w)\n",
    "accTest, tptnTest = accuracy(xTest, yTest, w)\n",
    "print('Training accuracy:', accTrain, tptnTrain, 'out of', len(yTrain))\n",
    "print('Testing accuracy:', accTest, tptnTest, 'out of', len(yTest))\n"
   ]
  },
  {
   "cell_type": "code",
   "execution_count": 56,
   "metadata": {},
   "outputs": [
    {
     "name": "stdout",
     "output_type": "stream",
     "text": [
      "Prediction shape:  (2011,)\n",
      "Values:  {'TP': 2, 'TN': 972, 'FN': 634, 'FP': 0}\n",
      "Sensitivity (TPR): 0.00 portion were correctly classified as TP\n",
      "FPR: 0.00 portion were classified as FP\n"
     ]
    }
   ],
   "source": [
    "# 4.2 Obtain TPR and FPR\n",
    "\n",
    "# a) Define the prediction function for a variable threshold\n",
    "def predict(p, threshold):\n",
    "    y_hat = list(map(lambda x: 1 if x >= threshold else 0, p))\n",
    "    return y_hat\n",
    "\n",
    "# b) Define the values function, where you can count the tp, tn, fp, and fn\n",
    "\n",
    "\n",
    "def values(y, pred):\n",
    "\n",
    "    # YOURCODE\n",
    "    tp = tn = fn = fp = 0\n",
    "    for i in range(len(y)):\n",
    "        if y[i]:\n",
    "            if y[i] == pred[i]:\n",
    "                tp += 1\n",
    "            else:\n",
    "                fn += 1\n",
    "        else:\n",
    "            if y[i] == pred[i]:\n",
    "                tn += 1\n",
    "            else:\n",
    "                fp += 1\n",
    "\n",
    "    V = {'TP': tp, 'TN': tn, 'FN': fn, 'FP': fp}\n",
    "    return V\n",
    "\n",
    "# c) Define the TPR function\n",
    "\n",
    "\n",
    "def tpr(V):\n",
    "\n",
    "    tpr = V[\"TP\"] / (V[\"TP\"] + V[\"FN\"])\n",
    "\n",
    "    return tpr\n",
    "\n",
    "# d) Define the FPR function\n",
    "\n",
    "\n",
    "def fpr(V):\n",
    "\n",
    "    fpr = V[\"FP\"] / (V[\"FP\"] + V['TN'])\n",
    "\n",
    "    return fpr\n",
    "\n",
    "\n",
    "# Test your functions\n",
    "pred = predict(h(x, w), 0.5)\n",
    "Val = values(yTrain, pred)\n",
    "print('Prediction shape: ', np.shape(pred))\n",
    "print('Values: ', Val)\n",
    "\n",
    "print('Sensitivity (TPR): %.2F' %\n",
    "      tpr(Val), 'portion were correctly classified as TP')\n",
    "print('FPR: %.2F' % fpr(Val), 'portion were classified as FP')\n"
   ]
  },
  {
   "cell_type": "code",
   "execution_count": 57,
   "metadata": {},
   "outputs": [
    {
     "data": {
      "text/plain": [
       "Text(0.5, 1.0, 'Receiver Operating Characteristic')"
      ]
     },
     "execution_count": 57,
     "metadata": {},
     "output_type": "execute_result"
    },
    {
     "data": {
      "image/png": "[encoded data removed]",
      "text/plain": [
       "<Figure size 640x480 with 1 Axes>"
      ]
     },
     "metadata": {},
     "output_type": "display_data"
    }
   ],
   "source": [
    "def ROC(y, p):\n",
    "\n",
    "    # YOURCODE\n",
    "    threshold = np.arange(0, 1, 0.005)\n",
    "    TPR = np.zeros(len(threshold))\n",
    "    FPR = np.zeros(len(threshold))\n",
    "\n",
    "    for thr in range(len(threshold)):\n",
    "        pred = predict(p, threshold[thr])\n",
    "        TPR[thr] = tpr(values(y, pred))\n",
    "        FPR[thr] = fpr(values(y, pred))\n",
    "\n",
    "    return TPR, FPR\n",
    "\n",
    "\n",
    "# ROC curve for Training\n",
    "Tpr, Fpr = ROC(yTrain, h(xTrain, w))\n",
    "plt.plot([0, 1], [0, 1], 'k--',)\n",
    "plt.plot(Fpr, Tpr, '-', label=\"Train\")\n",
    "\n",
    "# ROC curve for Testing\n",
    "Tpr1, Fpr1 = ROC(yTest, h(xTest, w))\n",
    "plt.plot(Fpr1, Tpr1, '-', label=\"Test\")\n",
    "\n",
    "# Plot the curves\n",
    "plt.xlabel('FPR')\n",
    "plt.ylabel('TPR')\n",
    "plt.legend()\n",
    "plt.title('Receiver Operating Characteristic')\n"
   ]
  },
  {
   "cell_type": "code",
   "execution_count": 58,
   "metadata": {},
   "outputs": [
    {
     "name": "stdout",
     "output_type": "stream",
     "text": [
      "AUC Training:  0.5499440303336183\n",
      "AUC Testing:  0.5454135338345866\n"
     ]
    }
   ],
   "source": [
    "# AUC (Area under curve) calculus\n",
    "\n",
    "# AUC for Training\n",
    "rectangle_roc = 0\n",
    "rectangle_roc1 = 0\n",
    "for i in range(len(Tpr)-1):\n",
    "    rectangle_roc += (Fpr[i] - Fpr[i+1]) * Tpr[i]\n",
    "print('AUC Training: ', rectangle_roc)\n",
    "\n",
    "# AUC for Testing\n",
    "\n",
    "for i in range(len(Tpr1)-1):\n",
    "    rectangle_roc1 += (Fpr1[i] - Fpr1[i+1]) * Tpr1[i]\n",
    "print('AUC Testing: ', rectangle_roc1)\n"
   ]
  },
  {
   "cell_type": "code",
   "execution_count": 59,
   "metadata": {},
   "outputs": [
    {
     "data": {
      "text/plain": [
       "[<matplotlib.lines.Line2D at 0x2414c121cd0>]"
      ]
     },
     "execution_count": 59,
     "metadata": {},
     "output_type": "execute_result"
    },
    {
     "data": {
      "image/png": "[encoded data removed]",
      "text/plain": [
       "<Figure size 640x480 with 1 Axes>"
      ]
     },
     "metadata": {},
     "output_type": "display_data"
    }
   ],
   "source": [
    "# Specificity and Sensitivity behaviour\n",
    "\n",
    "thrs = np.arange(0, 1, 0.005)\n",
    "plt.plot(thrs, Tpr)\n",
    "plt.plot(thrs, 1 - Fpr)\n"
   ]
  },
  {
   "cell_type": "code",
   "execution_count": 60,
   "metadata": {},
   "outputs": [
    {
     "name": "stdout",
     "output_type": "stream",
     "text": [
      "[[588 384]\n",
      " [360 276]]\n"
     ]
    }
   ],
   "source": [
    "from sklearn.metrics import confusion_matrix\n",
    "\n",
    "pred = predict(h(xTrain, w), 0.4)\n",
    "cm = confusion_matrix(yTrain, pred)\n",
    "print(cm)"
   ]
  },
  {
   "cell_type": "code",
   "execution_count": 61,
   "metadata": {},
   "outputs": [
    {
     "data": {
      "image/png": "[encoded data removed]",
      "text/plain": [
       "<Figure size 500x500 with 2 Axes>"
      ]
     },
     "metadata": {},
     "output_type": "display_data"
    }
   ],
   "source": [
    "def plot_confusion_matrix(values, classes):\n",
    "    import itertools\n",
    "    m, n = values.shape\n",
    "\n",
    "    accuracy = np.trace(values) / float(np.sum(values))\n",
    "    misclass = 1 - accuracy\n",
    "\n",
    "    plt.figure(figsize=(5, 5))\n",
    "    plt.imshow(values, interpolation='nearest', cmap=plt.get_cmap('Blues'))\n",
    "    plt.title('Confusion matrix')\n",
    "    plt.colorbar()\n",
    "\n",
    "    marks = np.arange(len(classes))\n",
    "    plt.xticks(marks, classes, rotation=45)\n",
    "    plt.yticks(marks, classes)\n",
    "\n",
    "    thresh = values.max() / 2\n",
    "    for i, j in itertools.product(range(m), range(n)):\n",
    "        plt.text(j, i, \"{:,}\".format(values[i, j]),\n",
    "                 horizontalalignment=\"center\",\n",
    "                 color=\"white\" if values[i, j] > thresh else \"black\")\n",
    "    plt.tight_layout()\n",
    "    plt.ylabel('Predicted label')\n",
    "    plt.xlabel('True label\\naccuracy={:0.4f}; misclass={:0.4f}'.format(accuracy, misclass))\n",
    "    plt.show()\n",
    "    \n",
    "#Testing the function\n",
    "\n",
    "plot_confusion_matrix(values = cm, classes = ['0', '1'])\n"
   ]
  },
  {
   "attachments": {},
   "cell_type": "markdown",
   "metadata": {},
   "source": [
    "# Skalearn library\n",
    "water potability data set"
   ]
  },
  {
   "cell_type": "code",
   "execution_count": 62,
   "metadata": {},
   "outputs": [],
   "source": [
    "#Import libraries\n",
    "import numpy as np\n",
    "import pandas as pd\n",
    "from sklearn.model_selection import train_test_split\n",
    "import matplotlib.pyplot as plt\n",
    "from sklearn.linear_model import LogisticRegression"
   ]
  },
  {
   "cell_type": "code",
   "execution_count": 63,
   "metadata": {},
   "outputs": [
    {
     "name": "stdout",
     "output_type": "stream",
     "text": [
      "Rows: 2011 Columns: 10\n",
      "x: (2011, 9)\n",
      "y: (2011, 1)\n"
     ]
    }
   ],
   "source": [
    "#1. Load dataset\n",
    "data = pd.read_csv('water_potability.csv')\n",
    "# data.head()\n",
    "data = data.dropna()\n",
    "# data\n",
    "\n",
    "dataset = np.array(data)\n",
    "m, n = np.shape(dataset)\n",
    "print('Rows:', m, 'Columns:', n)\n",
    "\n",
    "x = dataset[:, 0:9]\n",
    "y = dataset[:, -1]\n",
    "y = y.reshape(-1, 1)\n",
    "print('x:', np.shape(x))\n",
    "print('y:', np.shape(y))"
   ]
  },
  {
   "cell_type": "code",
   "execution_count": 64,
   "metadata": {},
   "outputs": [],
   "source": [
    "#Normalize\n",
    "def normalize(x):\n",
    "    x_norm = (x - np.mean(x, axis=0)) / np.std(x,axis=0)\n",
    "    return x_norm\n",
    "\n",
    "\n",
    "X_norm = normalize(x)\n"
   ]
  },
  {
   "cell_type": "code",
   "execution_count": 65,
   "metadata": {},
   "outputs": [
    {
     "name": "stdout",
     "output_type": "stream",
     "text": [
      "(2011, 9)\n",
      "x shape:  (2011, 10)\n",
      "Split X 2011 rows into train with 1608 and test with 403\n",
      "Split Y 2011 rows into train with 1608 and test with 403\n",
      "xTrain shape: (1608, 10) yTrain shape: (1608, 1)\n",
      "xTest shape: (403, 10) yTest shape: (403, 1)\n"
     ]
    }
   ],
   "source": [
    "#2. Prepare data: add Bias and split dataset\n",
    "\n",
    "print(np.shape(X_norm))\n",
    "\n",
    "def Bias(X):\n",
    "    ones = np.ones((len(X),1))\n",
    "    X1 = np.concatenate((ones, X), axis=1)\n",
    "    return X1\n",
    "\n",
    "x = Bias(X_norm)\n",
    "\n",
    "print('x shape: ', np.shape(x))\n",
    "\n",
    "test_size = 0.2\n",
    "xTrain, xTest, yTrain, yTest = train_test_split(x, y,test_size = test_size)\n",
    "print('Split X', len(x), 'rows into train with', len(xTrain), 'and test with', len(xTest))\n",
    "print('Split Y', len(y), 'rows into train with', len(yTrain), 'and test with', len(yTest))\n",
    "\n",
    "yTrain = yTrain.reshape(-1,1)\n",
    "yTest = yTest.reshape(-1,1)\n",
    "\n",
    "print('xTrain shape:',np.shape(xTrain), 'yTrain shape:', np.shape(yTrain))\n",
    "print('xTest shape:', np.shape(xTest), 'yTest shape:', np.shape(yTest))\n"
   ]
  },
  {
   "cell_type": "code",
   "execution_count": 66,
   "metadata": {},
   "outputs": [
    {
     "name": "stderr",
     "output_type": "stream",
     "text": [
      "C:\\Users\\armaf\\AppData\\Local\\Packages\\PythonSoftwareFoundation.Python.3.9_qbz5n2kfra8p0\\LocalCache\\local-packages\\Python39\\site-packages\\sklearn\\utils\\validation.py:1143: DataConversionWarning: A column-vector y was passed when a 1d array was expected. Please change the shape of y to (n_samples, ), for example using ravel().\n",
      "  y = column_or_1d(y, warn=True)\n"
     ]
    },
    {
     "data": {
      "text/plain": [
       "0.6004962779156328"
      ]
     },
     "execution_count": 66,
     "metadata": {},
     "output_type": "execute_result"
    }
   ],
   "source": [
    "logReg = LogisticRegression(solver = 'lbfgs')\n",
    "logReg.fit(xTrain, yTrain)\n",
    "logReg.score(xTest, yTest)"
   ]
  }
 ],
 "metadata": {
  "kernelspec": {
   "display_name": "Python 3",
   "language": "python",
   "name": "python3"
  },
  "language_info": {
   "codemirror_mode": {
    "name": "ipython",
    "version": 3
   },
   "file_extension": ".py",
   "mimetype": "text/x-python",
   "name": "python",
   "nbconvert_exporter": "python",
   "pygments_lexer": "ipython3",
   "version": "3.9.13"
  },
  "orig_nbformat": 4
 },
 "nbformat": 4,
 "nbformat_minor": 2
}
