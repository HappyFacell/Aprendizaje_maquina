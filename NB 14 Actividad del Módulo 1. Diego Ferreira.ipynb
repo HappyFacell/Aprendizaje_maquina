{
 "cells": [
  {
   "cell_type": "markdown",
   "metadata": {},
   "source": [
    "# 14. Actividad del Módulo 1\n",
    "# Caso del consumo de alcohol en estudiantes\n",
    "\n",
    "## Instrucciones\n",
    "\n",
    "1. La base de datos utilizada en esta actividad se deberá bajar desde la base de datos UCI.\n",
    "2. Sigue los pasos que se te proponen\n"
   ]
  },
  {
   "cell_type": "markdown",
   "metadata": {},
   "source": [
    "## Paso 1: Importar las librerías necesarias"
   ]
  },
  {
   "cell_type": "code",
   "execution_count": 1,
   "metadata": {},
   "outputs": [],
   "source": [
    "import numpy as np\n",
    "import matplotlib.pyplot as plt\n",
    "import pandas as pd\n",
    "import seaborn as sns"
   ]
  },
  {
   "cell_type": "markdown",
   "metadata": {},
   "source": [
    "## Paso 2: Importar la base de datos del siguiente enlace y asignarla a la variable 'df':\n",
    "\n"
   ]
  },
  {
   "cell_type": "code",
   "execution_count": 49,
   "metadata": {},
   "outputs": [
    {
     "name": "stdout",
     "output_type": "stream",
     "text": [
      "    school sex  age address famsize Pstatus  Medu  Fedu      Mjob      Fjob  \\\n",
      "0       GP   F   18       U     GT3       A     4     4   at_home   teacher   \n",
      "1       GP   F   17       U     GT3       T     1     1   at_home     other   \n",
      "2       GP   F   15       U     LE3       T     1     1   at_home     other   \n",
      "3       GP   F   15       U     GT3       T     4     2    health  services   \n",
      "4       GP   F   16       U     GT3       T     3     3     other     other   \n",
      "..     ...  ..  ...     ...     ...     ...   ...   ...       ...       ...   \n",
      "390     MS   M   20       U     LE3       A     2     2  services  services   \n",
      "391     MS   M   17       U     LE3       T     3     1  services  services   \n",
      "392     MS   M   21       R     GT3       T     1     1     other     other   \n",
      "393     MS   M   18       R     LE3       T     3     2  services     other   \n",
      "394     MS   M   19       U     LE3       T     1     1     other   at_home   \n",
      "\n",
      "     ... famrel freetime  goout  Dalc  Walc health absences  G1  G2  G3  \n",
      "0    ...      4        3      4     1     1      3        6   5   6   6  \n",
      "1    ...      5        3      3     1     1      3        4   5   5   6  \n",
      "2    ...      4        3      2     2     3      3       10   7   8  10  \n",
      "3    ...      3        2      2     1     1      5        2  15  14  15  \n",
      "4    ...      4        3      2     1     2      5        4   6  10  10  \n",
      "..   ...    ...      ...    ...   ...   ...    ...      ...  ..  ..  ..  \n",
      "390  ...      5        5      4     4     5      4       11   9   9   9  \n",
      "391  ...      2        4      5     3     4      2        3  14  16  16  \n",
      "392  ...      5        5      3     3     3      3        3  10   8   7  \n",
      "393  ...      4        4      1     3     4      5        0  11  12  10  \n",
      "394  ...      3        2      3     3     3      5        5   8   9   9  \n",
      "\n",
      "[395 rows x 33 columns]\n"
     ]
    }
   ],
   "source": [
    "url = \"https://raw.githubusercontent.com/guipsamora/pandas_exercises/master/04_Apply/Students_Alcohol_Consumption/student-mat.csv\"\n",
    "\n",
    "df = pd.read_csv(url, sep= ',')\n",
    "\n",
    "print(df)\n"
   ]
  },
  {
   "cell_type": "markdown",
   "metadata": {},
   "source": [
    "## Paso 3: Para el propósito de este ejercicio, divide la base de datos desde la columna 'school' hasta la columna 'guardian':\n"
   ]
  },
  {
   "cell_type": "code",
   "execution_count": 50,
   "metadata": {},
   "outputs": [
    {
     "name": "stdout",
     "output_type": "stream",
     "text": [
      "    school sex  age address famsize Pstatus  Medu  Fedu      Mjob      Fjob  \\\n",
      "0       GP   F   18       U     GT3       A     4     4   at_home   teacher   \n",
      "1       GP   F   17       U     GT3       T     1     1   at_home     other   \n",
      "2       GP   F   15       U     LE3       T     1     1   at_home     other   \n",
      "3       GP   F   15       U     GT3       T     4     2    health  services   \n",
      "4       GP   F   16       U     GT3       T     3     3     other     other   \n",
      "..     ...  ..  ...     ...     ...     ...   ...   ...       ...       ...   \n",
      "390     MS   M   20       U     LE3       A     2     2  services  services   \n",
      "391     MS   M   17       U     LE3       T     3     1  services  services   \n",
      "392     MS   M   21       R     GT3       T     1     1     other     other   \n",
      "393     MS   M   18       R     LE3       T     3     2  services     other   \n",
      "394     MS   M   19       U     LE3       T     1     1     other   at_home   \n",
      "\n",
      "     reason guardian  \n",
      "0    course   mother  \n",
      "1    course   father  \n",
      "2     other   mother  \n",
      "3      home   mother  \n",
      "4      home   father  \n",
      "..      ...      ...  \n",
      "390  course    other  \n",
      "391  course   mother  \n",
      "392  course    other  \n",
      "393  course   mother  \n",
      "394  course   father  \n",
      "\n",
      "[395 rows x 12 columns]\n"
     ]
    }
   ],
   "source": [
    "df = df.loc[:, :'guardian']\n",
    "print(df)\n"
   ]
  },
  {
   "cell_type": "markdown",
   "metadata": {},
   "source": [
    "## Paso 4: Crea una función lambda que cambie por mayúscula la primera letra de las cadenas:"
   ]
  },
  {
   "cell_type": "code",
   "execution_count": 52,
   "metadata": {},
   "outputs": [
    {
     "name": "stdout",
     "output_type": "stream",
     "text": [
      "    school sex  age address famsize Pstatus  Medu  Fedu      Mjob      Fjob  \\\n",
      "0       GP   F   18       U     GT3       A     4     4   At_home   Teacher   \n",
      "1       GP   F   17       U     GT3       T     1     1   At_home     Other   \n",
      "2       GP   F   15       U     LE3       T     1     1   At_home     Other   \n",
      "3       GP   F   15       U     GT3       T     4     2    Health  Services   \n",
      "4       GP   F   16       U     GT3       T     3     3     Other     Other   \n",
      "..     ...  ..  ...     ...     ...     ...   ...   ...       ...       ...   \n",
      "390     MS   M   20       U     LE3       A     2     2  Services  Services   \n",
      "391     MS   M   17       U     LE3       T     3     1  Services  Services   \n",
      "392     MS   M   21       R     GT3       T     1     1     Other     Other   \n",
      "393     MS   M   18       R     LE3       T     3     2  Services     Other   \n",
      "394     MS   M   19       U     LE3       T     1     1     Other   At_home   \n",
      "\n",
      "     reason guardian  \n",
      "0    Course   Mother  \n",
      "1    Course   Father  \n",
      "2     Other   Mother  \n",
      "3      Home   Mother  \n",
      "4      Home   Father  \n",
      "..      ...      ...  \n",
      "390  Course    Other  \n",
      "391  Course   Mother  \n",
      "392  Course    Other  \n",
      "393  Course   Mother  \n",
      "394  Course   Father  \n",
      "\n",
      "[395 rows x 12 columns]\n"
     ]
    }
   ],
   "source": [
    "cambiar_mayuscula = lambda cadena: cadena[0].upper() + cadena[1:]\n",
    "for col in df.columns:\n",
    "    if not np.issubdtype(df[col].dtype, np.number):\n",
    "        df[col] = df[col].apply(lambda x: cambiar_mayuscula(x)) \n",
    "\n",
    "        \n",
    "print(df)"
   ]
  },
  {
   "cell_type": "markdown",
   "metadata": {},
   "source": [
    "## Paso 5: Imprime los último 20 elementos de la base de datos"
   ]
  },
  {
   "cell_type": "code",
   "execution_count": 53,
   "metadata": {},
   "outputs": [
    {
     "name": "stdout",
     "output_type": "stream",
     "text": [
      "    school sex  age address famsize Pstatus  Medu  Fedu      Mjob      Fjob  \\\n",
      "375     MS   F   18       R     GT3       T     1     1     Other     Other   \n",
      "376     MS   F   20       U     GT3       T     4     2    Health     Other   \n",
      "377     MS   F   18       R     LE3       T     4     4   Teacher  Services   \n",
      "378     MS   F   18       U     GT3       T     3     3     Other     Other   \n",
      "379     MS   F   17       R     GT3       T     3     1   At_home     Other   \n",
      "380     MS   M   18       U     GT3       T     4     4   Teacher   Teacher   \n",
      "381     MS   M   18       R     GT3       T     2     1     Other     Other   \n",
      "382     MS   M   17       U     GT3       T     2     3     Other  Services   \n",
      "383     MS   M   19       R     GT3       T     1     1     Other  Services   \n",
      "384     MS   M   18       R     GT3       T     4     2     Other     Other   \n",
      "385     MS   F   18       R     GT3       T     2     2   At_home     Other   \n",
      "386     MS   F   18       R     GT3       T     4     4   Teacher   At_home   \n",
      "387     MS   F   19       R     GT3       T     2     3  Services     Other   \n",
      "388     MS   F   18       U     LE3       T     3     1   Teacher  Services   \n",
      "389     MS   F   18       U     GT3       T     1     1     Other     Other   \n",
      "390     MS   M   20       U     LE3       A     2     2  Services  Services   \n",
      "391     MS   M   17       U     LE3       T     3     1  Services  Services   \n",
      "392     MS   M   21       R     GT3       T     1     1     Other     Other   \n",
      "393     MS   M   18       R     LE3       T     3     2  Services     Other   \n",
      "394     MS   M   19       U     LE3       T     1     1     Other   At_home   \n",
      "\n",
      "         reason guardian  \n",
      "375        Home   Mother  \n",
      "376      Course    Other  \n",
      "377      Course   Mother  \n",
      "378        Home   Mother  \n",
      "379  Reputation   Mother  \n",
      "380        Home   Father  \n",
      "381       Other   Mother  \n",
      "382        Home   Father  \n",
      "383       Other   Mother  \n",
      "384        Home   Father  \n",
      "385       Other   Mother  \n",
      "386  Reputation   Mother  \n",
      "387      Course   Mother  \n",
      "388      Course   Mother  \n",
      "389      Course   Mother  \n",
      "390      Course    Other  \n",
      "391      Course   Mother  \n",
      "392      Course    Other  \n",
      "393      Course   Mother  \n",
      "394      Course   Father  \n"
     ]
    }
   ],
   "source": [
    "print(df.tail(20))"
   ]
  },
  {
   "cell_type": "markdown",
   "metadata": {},
   "source": [
    "## Paso 6: Crea una función llamada 'majority' que regresa un valor booleano en una nueva columna llamada 'legal_drinker' (Considera que la mayoría de edad sea más que 17 años)"
   ]
  },
  {
   "cell_type": "code",
   "execution_count": 54,
   "metadata": {},
   "outputs": [
    {
     "name": "stdout",
     "output_type": "stream",
     "text": [
      "    school sex  age address famsize Pstatus  Medu  Fedu      Mjob      Fjob  \\\n",
      "0       GP   F   18       U     GT3       A     4     4   At_home   Teacher   \n",
      "1       GP   F   17       U     GT3       T     1     1   At_home     Other   \n",
      "2       GP   F   15       U     LE3       T     1     1   At_home     Other   \n",
      "3       GP   F   15       U     GT3       T     4     2    Health  Services   \n",
      "4       GP   F   16       U     GT3       T     3     3     Other     Other   \n",
      "..     ...  ..  ...     ...     ...     ...   ...   ...       ...       ...   \n",
      "390     MS   M   20       U     LE3       A     2     2  Services  Services   \n",
      "391     MS   M   17       U     LE3       T     3     1  Services  Services   \n",
      "392     MS   M   21       R     GT3       T     1     1     Other     Other   \n",
      "393     MS   M   18       R     LE3       T     3     2  Services     Other   \n",
      "394     MS   M   19       U     LE3       T     1     1     Other   At_home   \n",
      "\n",
      "     reason guardian  legal_drinker  \n",
      "0    Course   Mother           True  \n",
      "1    Course   Father          False  \n",
      "2     Other   Mother          False  \n",
      "3      Home   Mother          False  \n",
      "4      Home   Father          False  \n",
      "..      ...      ...            ...  \n",
      "390  Course    Other           True  \n",
      "391  Course   Mother          False  \n",
      "392  Course    Other           True  \n",
      "393  Course   Mother           True  \n",
      "394  Course   Father           True  \n",
      "\n",
      "[395 rows x 13 columns]\n"
     ]
    }
   ],
   "source": [
    "def majority(age):\n",
    "    if age > 17:\n",
    "        return True\n",
    "    else:\n",
    "        return False\n",
    "    \n",
    "df['legal_drinker'] = df['age'].apply(majority)\n",
    "\n",
    "print(df)\n"
   ]
  },
  {
   "cell_type": "markdown",
   "metadata": {},
   "source": [
    "## Paso 7: Multiplica cada número del dataset por 10"
   ]
  },
  {
   "cell_type": "code",
   "execution_count": 55,
   "metadata": {},
   "outputs": [
    {
     "name": "stdout",
     "output_type": "stream",
     "text": [
      "    school sex  age address famsize Pstatus  Medu  Fedu      Mjob      Fjob  \\\n",
      "0       GP   F  180       U     GT3       A    40    40   At_home   Teacher   \n",
      "1       GP   F  170       U     GT3       T    10    10   At_home     Other   \n",
      "2       GP   F  150       U     LE3       T    10    10   At_home     Other   \n",
      "3       GP   F  150       U     GT3       T    40    20    Health  Services   \n",
      "4       GP   F  160       U     GT3       T    30    30     Other     Other   \n",
      "..     ...  ..  ...     ...     ...     ...   ...   ...       ...       ...   \n",
      "390     MS   M  200       U     LE3       A    20    20  Services  Services   \n",
      "391     MS   M  170       U     LE3       T    30    10  Services  Services   \n",
      "392     MS   M  210       R     GT3       T    10    10     Other     Other   \n",
      "393     MS   M  180       R     LE3       T    30    20  Services     Other   \n",
      "394     MS   M  190       U     LE3       T    10    10     Other   At_home   \n",
      "\n",
      "     reason guardian  legal_drinker  \n",
      "0    Course   Mother           True  \n",
      "1    Course   Father          False  \n",
      "2     Other   Mother          False  \n",
      "3      Home   Mother          False  \n",
      "4      Home   Father          False  \n",
      "..      ...      ...            ...  \n",
      "390  Course    Other           True  \n",
      "391  Course   Mother          False  \n",
      "392  Course    Other           True  \n",
      "393  Course   Mother           True  \n",
      "394  Course   Father           True  \n",
      "\n",
      "[395 rows x 13 columns]\n"
     ]
    }
   ],
   "source": [
    "for col in df:\n",
    "    if df[col].dtype == 'int64':\n",
    "        df[col] = df[col] * 10\n",
    "\n",
    "print(df)\n"
   ]
  }
 ],
 "metadata": {
  "kernelspec": {
   "display_name": "Python 3",
   "language": "python",
   "name": "python3"
  },
  "language_info": {
   "codemirror_mode": {
    "name": "ipython",
    "version": 3
   },
   "file_extension": ".py",
   "mimetype": "text/x-python",
   "name": "python",
   "nbconvert_exporter": "python",
   "pygments_lexer": "ipython3",
   "version": "3.10.9"
  },
  "vscode": {
   "interpreter": {
    "hash": "34c967ba3987e07fb7b28f6794edadae7e6af108e1257cc6f54379ffa691cdee"
   }
  }
 },
 "nbformat": 4,
 "nbformat_minor": 2
}
