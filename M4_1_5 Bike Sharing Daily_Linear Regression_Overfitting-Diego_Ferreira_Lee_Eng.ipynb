{
 "cells": [
  {
   "cell_type": "markdown",
   "metadata": {},
   "source": [
    "# Ejercicio 4.1.5 Bike Sharing Daily, Regression, Gradient Descent, Overfitting"
   ]
  },
  {
   "cell_type": "markdown",
   "metadata": {},
   "source": [
    "El modelo de regresión es un procedimiento estadístico que permite al investigador estimar la relación linel que relacion dos o más variables."
   ]
  },
  {
   "cell_type": "markdown",
   "metadata": {},
   "source": [
    "- El algoritmo de programacion para implementar el modelo de regresión lineal es el siguiente: \n",
    "\n",
    "    1. Cargar el dataset, normalizar y dividir los datos en datos de entrenamiento y datos de prueba, añadir la columna de unos para w0.\n",
    "    2. Inicializar W, y calcular el gradiente de W\n",
    "    3. Mientras el gradiente sea más grande que epsilon, calcular:\n",
    "        - El gradiente para el valor actual de W\n",
    "        - Actualizar el valor para el siguiente W\n",
    "        - Cacular el costo y almacenarlo en una variable\n",
    "    4. Obtener la función de costo o error para el último valor de W\n",
    "    5. Predecir la salida con los datos de prueba y obtener el valor del error. \n",
    "\n",
    "- Para comprobar el Overfitting realizar el algoritmo de GD con 9 tamaños de datos de prueba: 0.1, 0.2,..., 0.9, y graficar el costo.\n",
    "\n",
    "- ¿Con qué tamaño de prueba (test_size) tendremos overfitting y con cuál underfiting?\n",
    "- Finalmente utilizar el test size que se eligió y hacer regresión polinomial de grado 1 al 5 y graficar el comportamiento del costo."
   ]
  },
  {
   "cell_type": "markdown",
   "metadata": {},
   "source": [
    "## 1. Cargar el dataset, normalizar y dividir los datos en datos de entrenamiento y datos de prueba, añadir la columna de unos para w0.\n",
    "\n",
    "Para este caso utilizaremos los datos del ejercicio de las Bicis, el dataset de horas. "
   ]
  },
  {
   "cell_type": "code",
   "execution_count": 19,
   "metadata": {},
   "outputs": [],
   "source": [
    "#Import libraries\n",
    "import math\n",
    "import pandas as pd\n",
    "import numpy as np\n",
    "from sklearn.model_selection import train_test_split\n",
    "import matplotlib.pyplot as plt\n",
    "from numpy.linalg import norm\n",
    "from numpy.random import rand\n",
    "import math\n",
    "from sklearn.preprocessing import StandardScaler"
   ]
  },
  {
   "cell_type": "code",
   "execution_count": 20,
   "metadata": {},
   "outputs": [
    {
     "name": "stdout",
     "output_type": "stream",
     "text": [
      "X size: (731, 11) Y size: (731, 1)\n"
     ]
    }
   ],
   "source": [
    "#1. Load the dataset and convert to numpy arrays\n",
    "\n",
    "def loadCsv(filename):\n",
    "    data = pd.read_csv(filename)\n",
    "    dataset = np.array(data)\n",
    "    m, n = np.shape(dataset)\n",
    "    x = dataset[:, 0:n-1]\n",
    "    y = dataset[:, -1]\n",
    "    y = np.reshape(y ,(m,1))\n",
    "    \n",
    "    return x, y\n",
    "\n",
    "#Testing\n",
    "filename = 'bike-day.csv'\n",
    "x, y = loadCsv(filename)\n",
    "print('X size:',np.shape(x), 'Y size:',  np.shape(y))"
   ]
  },
  {
   "cell_type": "code",
   "execution_count": 21,
   "metadata": {},
   "outputs": [],
   "source": [
    "# Definir funciones\n",
    "\n",
    "def addOnes(X):\n",
    "    X1 = np.array(X)\n",
    "    m, n = np.shape(X1)\n",
    "    ones = np.ones((m, 1))\n",
    "    X1 = np.concatenate((ones, X1), axis=1)\n",
    "    return X1\n",
    "\n",
    "\n",
    "def mse(Y, Yt):\n",
    "    residual = Y - Yt\n",
    "    cost = np.dot(residual.T, residual) / len(Y)\n",
    "    return cost\n",
    "\n",
    "\n",
    "def gradient(X, Y, W):\n",
    "    residual = Y - np.dot(X, W.T)\n",
    "    grad = -2 * np.dot(X.T, residual)\n",
    "    return grad\n",
    "\n",
    "\n",
    "def GD(X, Y, W, alpha, epsilon, iterations):\n",
    "    grad = gradient(X, Y, W)\n",
    "    gradNorm = np.linalg.norm(grad)\n",
    "    Yt = np.dot(X, W.T)\n",
    "    cost = mse(Y, Yt)\n",
    "    it = 0\n",
    "    # Lista donde guardaremos el valor del error (MSE) en cada iteración\n",
    "    J = []\n",
    "\n",
    "    while gradNorm > epsilon and it < iterations:\n",
    "\n",
    "        # calcular gradiente\n",
    "        grad = gradient(X, Y, W)\n",
    "        gradNorm = np.linalg.norm(grad)\n",
    "\n",
    "        # Actualizar W\n",
    "        W = W - alpha * grad.T\n",
    "\n",
    "        # Incrementar contador de iteraciones\n",
    "        it += 1\n",
    "\n",
    "        # Calcular la predicción y el error (MSE)\n",
    "        Yt = np.dot(X, W.T)\n",
    "        cost = mse(Y, Yt)\n",
    "\n",
    "        # Guardar el vector del error\n",
    "        J.append(float(cost))\n",
    "\n",
    "    return W, it, J\n"
   ]
  },
  {
   "cell_type": "code",
   "execution_count": 22,
   "metadata": {},
   "outputs": [],
   "source": [
    "# Escalar X\n",
    "\n",
    "scaler = StandardScaler()\n",
    "scaler.fit(x)\n",
    "x = scaler.transform(x)"
   ]
  },
  {
   "cell_type": "code",
   "execution_count": 23,
   "metadata": {},
   "outputs": [
    {
     "name": "stdout",
     "output_type": "stream",
     "text": [
      "[0.1 0.2 0.3 0.4 0.5 0.6 0.7 0.8 0.9]\n"
     ]
    }
   ],
   "source": [
    "# paso 4\n",
    "\n",
    "testsize = np.arange(0.1, 1, 0.1)\n",
    "\n",
    "print(testsize)\n"
   ]
  },
  {
   "cell_type": "code",
   "execution_count": 24,
   "metadata": {},
   "outputs": [
    {
     "name": "stdout",
     "output_type": "stream",
     "text": [
      "Testsize:  0.1\n",
      "Training cost: [[736048.03528628]]\n",
      "Training cost: [[876272.98543673]]\n",
      "Testsize:  0.2\n",
      "Training cost: [[733745.88857631]]\n",
      "Training cost: [[831250.90683429]]\n",
      "Testsize:  0.30000000000000004\n",
      "Training cost: [[746827.55171944]]\n",
      "Training cost: [[780473.83513267]]\n",
      "Testsize:  0.4\n",
      "Training cost: [[715532.3331936]]\n",
      "Training cost: [[834805.55354166]]\n",
      "Testsize:  0.5\n",
      "Training cost: [[742452.69246831]]\n",
      "Training cost: [[791084.75033799]]\n",
      "Testsize:  0.6\n",
      "Training cost: [[732512.56381877]]\n",
      "Training cost: [[812011.66269108]]\n",
      "Testsize:  0.7000000000000001\n",
      "Training cost: [[626687.99437567]]\n",
      "Training cost: [[849850.13963803]]\n",
      "Testsize:  0.8\n",
      "Training cost: [[678242.3690894]]\n",
      "Training cost: [[851912.56134752]]\n",
      "Testsize:  0.9\n",
      "Training cost: [[716465.57001976]]\n",
      "Training cost: [[909703.58183992]]\n"
     ]
    }
   ],
   "source": [
    "# paso 5. iniciazar variables\n",
    "alpha = 0.0001\n",
    "epsilon = 0.01\n",
    "itera = 100000\n",
    "costosTraining = [] \n",
    "costosTesting = []\n",
    "\n",
    "# paso 6 para cada tamaño de test size\n",
    "for tsize in testsize:\n",
    "    #split dataset\n",
    "    xTrain, xTest, yTrain, yTest = train_test_split(x, y, test_size = tsize , random_state = 0)\n",
    "\n",
    "    #añadir 1s a xTrain y xTest\n",
    "    xTr = addOnes(xTrain)\n",
    "    xTe = addOnes(xTest)\n",
    "\n",
    "    #inicializar w de forma aleatoria\n",
    "    m,n = np.shape(xTr)\n",
    "    init_w = np.random.rand(1,n)\n",
    "\n",
    "    print(\"Testsize: \", tsize)\n",
    "\n",
    "    #GD\n",
    "    w, iterations, J = GD(xTr, yTrain, init_w, alpha, epsilon, itera)\n",
    "\n",
    "    #calcular costos\n",
    "    cTr = mse(yTrain, np.dot(xTr, w.T)) #testing\n",
    "    cTe = mse(yTest, np.dot(xTe, w.T))\n",
    "\n",
    "    print(\"Training cost:\", cTr)\n",
    "    print(\"Training cost:\", cTe)\n",
    "\n",
    "\n",
    "    #Guardar en listas de costos \n",
    "    costosTraining.append(cTr)\n",
    "    costosTesting.append(cTe)\n"
   ]
  },
  {
   "cell_type": "code",
   "execution_count": 25,
   "metadata": {},
   "outputs": [
    {
     "data": {
      "text/plain": [
       "<matplotlib.legend.Legend at 0x1fb2a1254e0>"
      ]
     },
     "execution_count": 25,
     "metadata": {},
     "output_type": "execute_result"
    },
    {
     "data": {
      "image/png": "[encoded data removed]",
      "text/plain": [
       "<Figure size 640x480 with 1 Axes>"
      ]
     },
     "metadata": {},
     "output_type": "display_data"
    }
   ],
   "source": [
    "# paso 7\n",
    "\n",
    "costosTraining = np.array(costosTraining)\n",
    "costosTesting = np.array(costosTesting)\n",
    "\n",
    "costosTraining = costosTraining.reshape(-1,1)\n",
    "costosTesting = costosTesting.reshape(-1,1)\n",
    "\n",
    "plt.plot(testsize,costosTraining, label = 'Training')\n",
    "plt.plot(testsize,costosTesting, label = 'Testing')\n",
    "\n",
    "plt.xlabel('Test Size')\n",
    "plt.ylabel('MSE')\n",
    "\n",
    "plt.legend()\n"
   ]
  },
  {
   "cell_type": "markdown",
   "metadata": {},
   "source": [
    "## 2. Inicializar W, y calcular el gradiente de W\n",
    "\n",
    "\n",
    "El gradiente es: $$ \\nabla J(W) = \\frac{\\partial J(W) }{\\partial W} = \\frac{\\partial}{\\partial W} (Y - XW)^2 = -2X(Y-XW)$$"
   ]
  },
  {
   "cell_type": "markdown",
   "metadata": {},
   "source": [
    "## 3. Iteración del Gradiente Descendente \n",
    "\n",
    "    Mientras la norma del gradiente sea más grande que epsilon, calcular:\n",
    "    \n",
    "       - El gradiente para el valor actual de W\n",
    "       - Actualizar el valor siguiente de W\n",
    "       - Almacenar el valor del error o del costo para ese W\n"
   ]
  },
  {
   "cell_type": "markdown",
   "metadata": {},
   "source": [
    "Primero definiremos la función que evalua el error utilizando MSE: $$MSE(w) = \\frac{1}{N} \\sum_{i=1}^{N} (y_i - x_i w)^2$$"
   ]
  },
  {
   "cell_type": "markdown",
   "metadata": {},
   "source": [
    "## 4. Medir el MSE del algoritmo\n",
    "\n"
   ]
  },
  {
   "cell_type": "markdown",
   "metadata": {},
   "source": [
    "## 5. Predecir los datos de prueba y calcular su error"
   ]
  },
  {
   "cell_type": "markdown",
   "metadata": {},
   "source": [
    "## 6. Overfitting y Underfitting"
   ]
  },
  {
   "cell_type": "markdown",
   "metadata": {},
   "source": []
  },
  {
   "cell_type": "markdown",
   "metadata": {},
   "source": []
  },
  {
   "cell_type": "markdown",
   "metadata": {},
   "source": [
    "## 7. Add Polynomial features\n",
    "\n",
    "- Para observar el Underfitting y el Overfitting de estos datos hacer un modelo para cada grado polinomial hasta grado 5.  \n",
    "\n",
    "    - Prueba 1: $ X = [x]$\n",
    "    - Prueba 2: $ X = [x \\quad x^2]$\n",
    "    - Prueba 3: $ X = [x \\quad x^2 \\quad x^3]$\n",
    "    - Prueba 4: $ X = [x \\quad x^2 \\quad x^3 \\quad x^4]$\n",
    "    - Prueba 5: $ X = [x \\quad x^2 \\quad x^3 \\quad x^4 \\quad x^5]$\n",
    "\n",
    "- De cada prueba obtener sus W's correspondientes y su error MSE (Costo)\n",
    "\n",
    "- Graficar el MSE de cada prueba con respecto al grado utilizado\n",
    "\n"
   ]
  },
  {
   "cell_type": "code",
   "execution_count": 26,
   "metadata": {},
   "outputs": [
    {
     "name": "stdout",
     "output_type": "stream",
     "text": [
      "X size: (731, 11) Y size: (731, 1)\n",
      "Grade: 1\n",
      "W:  (1, 12)\n",
      "Iteraciones: 1000000\n",
      "Training cost: [[7452305.65551837]]\n",
      "Testing cost: [[6872217.12832819]]\n",
      "Grade: 2\n",
      "W:  (1, 23)\n",
      "Iteraciones: 1000000\n",
      "Training cost: [[6989468.96986383]]\n",
      "Testing cost: [[6716938.83769469]]\n",
      "Grade: 3\n",
      "W:  (1, 34)\n",
      "Iteraciones: 1000000\n",
      "Training cost: [[2978948.32982242]]\n",
      "Testing cost: [[3958420.47931381]]\n",
      "Grade: 4\n",
      "W:  (1, 45)\n"
     ]
    },
    {
     "name": "stderr",
     "output_type": "stream",
     "text": [
      "No artists with labels found to put in legend.  Note that artists whose label start with an underscore are ignored when legend() is called with no argument.\n"
     ]
    },
    {
     "name": "stdout",
     "output_type": "stream",
     "text": [
      "Iteraciones: 1000000\n",
      "Training cost: [[3388068.45503536]]\n",
      "Testing cost: [[4261334.13750764]]\n"
     ]
    },
    {
     "data": {
      "text/plain": [
       "<matplotlib.legend.Legend at 0x1fb2a038640>"
      ]
     },
     "execution_count": 26,
     "metadata": {},
     "output_type": "execute_result"
    },
    {
     "data": {
      "image/png": "[encoded data removed]",
      "text/plain": [
       "<Figure size 640x480 with 1 Axes>"
      ]
     },
     "metadata": {},
     "output_type": "display_data"
    }
   ],
   "source": [
    "# Incializar parámetros\n",
    "#Learning rate o índice de aprendizaje pasito tun \n",
    "alpha = 0.0000000001\n",
    "#Precisión (qué tan cercano a cero debe estar el error) margen de error permitido\n",
    "epsilon = 0.01\n",
    "#Número máximo de iteraciones (es útil para que el algoritmo no se cicle)\n",
    "itera = 1000000\n",
    "\n",
    "#lista de costos para cada prueba \n",
    "costosTraining = [] \n",
    "costosTesting = []\n",
    "\n",
    "#nuevas variables\n",
    "\n",
    "#Random \n",
    "seed = 1\n",
    "\n",
    "#elegir el testsize con menor error\n",
    "testsize = 0.3\n",
    "\n",
    "#variable para formar matrices polinomiales\n",
    "xtemp = x\n",
    "\n",
    "#Grados que voy a evaluar del 1-5\n",
    "poly = range(1,5)\n",
    "\n",
    "filename = 'bike-day.csv'\n",
    "x, y = loadCsv(filename)\n",
    "print('X size:',np.shape(x), 'Y size:',  np.shape(y))\n",
    "\n",
    "# Para cada grado polinomial realizar el gradiente descendente, obtener W's y calcular el MSE (error o costo)\n",
    "for grade in poly:\n",
    "    print('Grade:', grade)\n",
    "\n",
    "    if grade == 1:\n",
    "        xtemp = x\n",
    "    else:\n",
    "        xtemp = np.concatenate((xtemp, x**(grade)),axis =1)\n",
    "    # Añadir unos a la matriz polinomial\n",
    "    x_1s = addOnes(xtemp)\n",
    "    \n",
    "    # Split dataset en Training and Testing\n",
    "    xTrain, xTest, yTrain, yTest = train_test_split(x_1s, y, test_size = tsize , random_state = seed)\n",
    "    yTrain = yTrain.reshape(-1,1)\n",
    "    yTest = yTest.reshape(-1,1)\n",
    "    \n",
    "    # Incializar W de forma aleatoria\n",
    "    m,n = np.shape(xTrain)\n",
    "    init_w = np.random.rand(1,n)\n",
    "\n",
    "    print('W: ',init_w.shape)\n",
    "\n",
    "    # Obtener W y el error MSE (J) a través del GD\n",
    "    w, it, J = GD(xTrain, yTrain, init_w, alpha, epsilon, itera)\n",
    "    \n",
    "    #Imprimir la iteración it\n",
    "    print('Iteraciones:', it)\n",
    "    \n",
    "    #Calcular errores MSE de Training y Testing  \n",
    "    cTr = mse(yTrain, np.dot(xTrain, w.T)) #testing\n",
    "    cTe = mse(yTest, np.dot(xTest, w.T))\n",
    "    \n",
    "    print(\"Training cost:\", cTr)\n",
    "    print(\"Testing cost:\", cTe)\n",
    "\n",
    "    #Guardar en listas de costos \n",
    "    costosTraining.append(cTr)\n",
    "    costosTesting.append(cTe)\n",
    "\n",
    "#Convertir a arrays las listas\n",
    "costosTraining = np.array(costosTraining)\n",
    "costosTesting = np.array(costosTesting)\n",
    "\n",
    "#Adecuar dimensiones\n",
    "costosTraining = costosTraining.reshape(len(costosTraining), 1)\n",
    "costosTest = costosTesting.reshape(len(costosTesting), 1)\n",
    "\n",
    "\n",
    "##Graficar los errores con respecto al grado\n",
    "plt.plot(poly, costosTraining, 'b')\n",
    "plt.plot(poly, costosTest, 'r')\n",
    "\n",
    "\n",
    "\n",
    "plt.xlabel('Tamaño de prueba')\n",
    "plt.ylabel('MSE')\n",
    "plt.legend()\n",
    "\n"
   ]
  },
  {
   "cell_type": "code",
   "execution_count": 27,
   "metadata": {},
   "outputs": [
    {
     "name": "stdout",
     "output_type": "stream",
     "text": [
      "(658,)\n",
      "(658,)\n",
      "          Y        Ypred\n",
      "0    3830.0  2261.593410\n",
      "1    2114.0  1573.200836\n",
      "2    3915.0  5626.078985\n",
      "3    4322.0   684.124582\n",
      "4    6591.0  2928.653033\n",
      "..      ...          ...\n",
      "653  7359.0  6502.670833\n",
      "654  5062.0  2264.442114\n",
      "655  5041.0  4663.090432\n",
      "656  7691.0  5699.040448\n",
      "657  3767.0  5623.610250\n",
      "\n",
      "[658 rows x 2 columns]\n",
      "          Y        Ypred\n",
      "201    22.0  5086.424461\n",
      "388   441.0  1041.867714\n",
      "146   623.0  3013.627260\n",
      "136   627.0  6948.605234\n",
      "168   683.0   741.427478\n",
      "..      ...          ...\n",
      "65   8294.0  4940.544675\n",
      "131  8362.0  3566.218018\n",
      "306  8395.0  7607.939319\n",
      "344  8555.0  7386.009972\n",
      "408  8714.0  7605.306822\n",
      "\n",
      "[658 rows x 2 columns]\n",
      "[ 5.08642446e+03  1.04186771e+03  3.01362726e+03  6.94860523e+03\n",
      "  7.41427478e+02  1.03269560e+03 -2.61309370e+02  4.25525202e+03\n",
      "  3.29090674e+02  2.18093457e+02 -3.55092495e+00  2.23364663e+03\n",
      "  2.34764337e+03  4.09921743e+02  2.65888901e+03  2.90432262e+02\n",
      "  2.28672015e+03  2.22409378e+02  2.23819706e+03  7.23229610e+02\n",
      "  7.55705763e+03  2.57327095e+02  1.20460941e+03  2.51952313e+03\n",
      "  2.34163749e+03  7.37838318e+02  2.39580406e+03 -1.77061541e+02\n",
      "  3.20243723e+02  1.91131073e+03  3.20365548e+02  1.05104467e+03\n",
      "  1.89870098e+03  3.19655427e+02  2.41053512e+03  7.45284469e+02\n",
      "  9.42330087e+02  2.83142804e+03  4.26471964e+03  2.54783355e+03\n",
      "  4.59545734e+03  4.26840354e+02  2.51537718e+03  1.62372157e+03\n",
      "  5.79075403e+02  9.42600931e+02  2.30344773e+03  2.20859486e+03\n",
      "  2.41010324e+03  2.20918947e+03  6.32123362e+02  1.20326709e+03\n",
      "  1.61813050e+03  1.89952480e+03  3.61743158e+03  5.31784493e+02\n",
      "  2.54785381e+03  1.31300931e+03  4.26287553e+03  2.74627977e+03\n",
      "  3.16529393e+03  1.31662643e+03  2.82711400e+03  2.72105345e+03\n",
      "  1.80318844e+03 -2.13735275e+02  2.48371123e+03 -2.13681545e+02\n",
      "  2.31868559e+03  5.30105671e+02  9.40865593e+02  1.67546355e+03\n",
      "  7.49159774e+03  1.48108134e+03  3.00153283e+03  1.17132875e+03\n",
      "  2.16221763e+03  6.33962917e+02  1.51356526e+03  2.00537436e+03\n",
      "  3.36626446e+03  3.55078074e+02  2.54848792e+03  3.77917035e+02\n",
      "  3.36762315e+03  7.37534541e+02  6.79467295e+03  2.48647903e+03\n",
      "  1.58815218e+03  1.42442642e+03  3.19670279e+03  1.57320084e+03\n",
      "  1.51514040e+03  2.30735562e+03  3.08805301e+03  1.48009100e+03\n",
      "  2.05381897e+03  3.05882119e+03  2.86730803e+03  1.36453380e+03\n",
      "  2.16334078e+03  3.40333348e+03  4.26175007e+03  4.08725296e+03\n",
      "  4.99596178e+03  2.74420389e+02  3.55312334e+02  7.21209790e+02\n",
      "  2.68240499e+02  1.35651066e+03  4.78828795e+02  7.62237960e+03\n",
      "  5.34129138e+02  5.92081774e+03  1.41686953e+03  2.97881755e+03\n",
      "  5.92053007e+03  4.64526308e+03  1.62256180e+03  6.78686145e+03\n",
      " -2.27583072e+02  4.09123192e+03  1.06957015e+03  2.21353942e+03\n",
      "  1.75709625e+03  2.28575947e+03  3.22803468e+03  4.02497986e+03\n",
      "  4.60561469e+02  3.96340958e+03  6.45149437e+03  8.33288142e+02\n",
      "  6.86144479e+02  1.62820504e+03  6.22122269e+03 -6.87347542e+00\n",
      "  2.59757179e+03  1.89432887e+03 -2.29018821e+02  2.75245214e+03\n",
      "  3.30677977e+03  5.12390128e+03  1.67274399e+03  2.94872720e+03\n",
      "  2.70651346e+03  3.13435514e+03  2.07520397e+03  6.45502331e+03\n",
      "  3.45384590e+03  4.76927905e+03  2.72658696e+03  6.88084626e+02\n",
      "  1.92986148e+03  2.36976162e+03  4.71633285e+03  4.95018300e+03\n",
      "  1.52677963e+03  2.93500682e+03  2.08335367e+03  2.06910407e+03\n",
      "  3.08842940e+03  4.14305470e+03  6.66899694e+02  3.64655484e+03\n",
      "  2.56527631e+03  1.78909145e+03  3.41834485e+03  2.48508972e+03\n",
      "  2.46210572e+03 -6.52988730e+01  3.26504296e+03  1.96417658e+03\n",
      "  3.64618557e+03  1.95054487e+03  6.84512599e+03  1.94932847e+03\n",
      " -1.24809993e+02  1.45278597e+03  4.66131363e+03  1.22053043e+03\n",
      "  2.17786054e+03  5.73375505e+03  2.97969614e+03  5.10506353e+03\n",
      "  3.39363309e+03  1.25490400e+03  7.02079611e+03  5.80094984e+02\n",
      "  5.11974301e+03 -1.24681752e+02  5.00092569e+03  6.81037317e+02\n",
      "  1.11906820e+03  2.71020327e+02  2.06881520e+03  2.57245123e+03\n",
      " -2.23567038e+02  2.88251074e+03  3.03962449e+03  1.84854093e+02\n",
      "  7.21836358e+03  7.84039431e+03  4.87073322e+03  6.52170224e+03\n",
      "  2.06960309e+03  6.84576963e+02  4.82831672e+03  3.91595244e+03\n",
      "  1.96591127e+03  2.08436054e+03  3.71044637e+02  6.05909528e+03\n",
      "  6.96269656e+03  2.93357787e+03  7.32507457e+03  4.94739804e+03\n",
      "  4.76441011e+03  1.56081236e+03  1.45276390e+03  8.63569108e+02\n",
      "  1.96570361e+03  6.95713386e+03  2.91116244e+02  2.36995991e+03\n",
      "  5.62361025e+03  9.94166772e+02  6.84333126e+02  6.61534452e+03\n",
      "  5.43475320e+03  7.11232908e+03 -1.53979987e+01  5.53885069e+03\n",
      "  2.26159341e+03  2.87760091e+03  4.93054995e+03  3.96778973e+03\n",
      "  3.03796337e+03  3.06277545e+03  5.43426451e+03  5.75438868e+03\n",
      "  6.41379869e+03  5.17308487e+03  5.62607899e+03  1.09833763e+03\n",
      "  4.94748268e+03  1.96523933e+03  2.95392411e+03  1.53017454e+03\n",
      "  2.97922944e+03  3.50042335e+03  4.93084963e+03  4.61402883e+03\n",
      "  3.29127890e+03  4.04615030e+03  2.28873190e+03  3.03627776e+03\n",
      "  4.09355004e+03  7.12425231e+03  5.22926887e+03  3.75629708e+03\n",
      "  3.24459686e+03  4.94843159e+03  3.34535556e+03  2.07386552e+03\n",
      "  6.11058930e+03  4.92956247e+03  3.49945856e+03  2.06116247e+03\n",
      "  2.46309339e+03  2.96472839e+03  5.17393734e+03  3.91897244e+03\n",
      "  3.13488891e+03  5.84191454e+03  3.39506690e+03  6.18656336e+03\n",
      "  1.60970801e+03  7.55475630e+03  7.72856629e+03  2.77509101e+03\n",
      "  1.56675816e+03  3.85884872e+03  3.91804445e+03  4.76741046e+03\n",
      "  3.64511769e+03  2.07709949e+03  3.45255976e+03  6.34462644e+03\n",
      "  3.34596686e+03  4.13614243e+03  5.23899111e+03  5.53377732e+03\n",
      "  1.25672327e+03  3.08569493e+03  5.53848904e+03  7.55593671e+03\n",
      "  4.82631959e+03  6.85377036e+03  6.67992586e+03  2.59961593e+03\n",
      "  6.84124582e+02  5.53427699e+03  5.81305755e+03  2.87421687e+03\n",
      "  5.43106636e+03  5.53372453e+03  6.87950647e+02  5.81106077e+03\n",
      "  6.63245016e+03  3.13520934e+03  2.97568434e+03  9.92920380e+02\n",
      "  3.10579408e+03  9.93867764e+02  3.42258928e+03  4.66449490e+03\n",
      "  6.50729041e+03  2.38397496e+03  3.08276913e+03  4.82533401e+03\n",
      "  4.55117319e+03  3.39392462e+03  4.92908270e+03  4.82035647e+03\n",
      "  7.16128381e+03  3.84087830e+03  6.84318654e+03  7.55907555e+03\n",
      "  3.03671872e+03  3.39500077e+03  4.93640307e+03  6.83187961e+02\n",
      "  7.66049393e+03  2.28963131e+03  5.74566085e+03  5.23986479e+03\n",
      "  3.93993268e+03  5.58619475e+03  2.98355527e+03  5.18481014e+03\n",
      "  3.41685993e+03  4.76591227e+03  4.66219403e+03  1.56849565e+03\n",
      "  3.64667415e+01  6.03154944e+03  5.23793998e+03  6.50710520e+03\n",
      "  4.15756057e+03  5.84434578e+03  5.06442731e+03  5.81231428e+03\n",
      "  5.53143165e+03  5.53103083e+03  5.39811668e+03 -6.74932493e+01\n",
      "  4.93188009e+03  5.80893015e+03  7.62470803e+03  5.23802056e+03\n",
      "  2.98313664e+03  4.87844292e+03  4.55859516e+03  5.06910612e+03\n",
      "  6.41554458e+03  4.15648565e+03  4.01623997e+03  5.84274269e+03\n",
      "  7.83757792e+03  3.94444386e+03  5.18241168e+03  4.89539404e+03\n",
      "  5.53134372e+03  7.83250731e+03  5.95306068e+03  6.34399031e+03\n",
      "  1.56803780e+03  6.41478864e+03  6.52593931e+03  2.87996614e+03\n",
      "  5.73698789e+03  7.10938338e+03  5.64959637e+03  4.25084600e+03\n",
      "  4.46838494e+03  7.00202804e+03  6.89544218e+03  6.03093904e+03\n",
      "  5.84346695e+03  4.55630933e+03  7.62309428e+03  4.82619274e+03\n",
      "  4.24802065e+03  7.62039799e+03  1.12025274e+03  5.06707292e+03\n",
      "  5.54332367e+03  5.85732180e+03  5.51626184e+03  4.40819433e+03\n",
      "  2.80397797e+03  6.14114240e+03  1.37551485e+03  2.12229598e+03\n",
      "  5.42919443e+03  3.93838040e+03  3.80477822e+03  4.06966898e+03\n",
      "  4.66309043e+03  5.54136240e+03  1.84160605e+03  6.41424825e+03\n",
      "  2.26444211e+03  6.50366665e+03  3.08212273e+03  1.67270950e+03\n",
      "  2.98071623e+03  3.44501827e+03  7.22042994e+03  5.85671623e+03\n",
      "  6.84119154e+03  5.10244307e+03  3.96631479e+03  2.01455871e+03\n",
      "  3.77002397e+01  4.82013610e+03  1.94842408e+03  7.44902880e+03\n",
      "  7.51177827e+03  5.96531012e+03  5.84081412e+03  6.67996451e+03\n",
      "  4.93337662e+03  5.58892090e+03  3.08189842e+03  3.96424849e+03\n",
      "  8.08756093e+02  1.22378150e+03  4.82605906e+03  3.94806829e+03\n",
      "  6.02611458e+03  3.98315908e+03  4.65941982e+03  9.11834758e+02\n",
      "  4.66027967e+03  6.84312319e+03  5.85281797e+03  7.01453453e+03\n",
      "  1.50183982e+03  2.80478967e+03  6.68255108e+03  3.69465121e+03\n",
      "  7.44624973e+03  7.01445240e+03  6.19328684e+03  5.48413771e+03\n",
      "  4.90422192e+03  3.96464019e+03  3.18930364e+03  3.41079512e+02\n",
      "  5.62763748e+03  4.87727718e+03  1.50213125e+03  7.01582888e+03\n",
      "  2.38054670e+02  1.36694573e+03  5.80171517e+03  2.22324588e+03\n",
      "  1.95172480e+03  2.11667724e+03  2.01514122e+03  4.99789395e+03\n",
      "  2.42643916e+03  3.49984773e+03  3.39216716e+03  6.01814838e+03\n",
      "  2.24994604e+03  5.17217537e+03  5.86178401e+03  3.44312367e+03\n",
      "  8.08971949e+02  3.44295055e+03  3.34118287e+03  7.77959016e+03\n",
      "  4.89260990e+03  5.69883240e+03  6.19269109e+03  1.53718814e+03\n",
      "  5.17252401e+03  7.17466730e+03  1.23132236e+03  5.83996264e+03\n",
      "  5.68195115e+03  2.42679506e+03  2.11745763e+03  4.76672038e+03\n",
      "  5.17266462e+03  5.67973498e+03  5.01668208e+03  7.60410737e+03\n",
      "  3.44454762e+03  1.53975141e+03  2.92550867e+03  2.94550080e+03\n",
      "  7.71459655e+03  1.22826326e+03  3.91184922e+03  2.80457823e+03\n",
      "  2.99952131e+03  7.37900447e+03  7.06799049e+03  4.87502974e+03\n",
      "  4.97716690e+03  2.35993796e+03  4.20649265e+03 -6.99939856e+01\n",
      "  3.38987289e+03  6.55699117e+03  3.07180348e+03  3.13184488e+03\n",
      "  5.39335869e+03  5.11912142e+03  2.01668870e+03  2.10821960e+03\n",
      "  3.03154373e+03  5.23208191e+03  4.71185672e+03  3.00131378e+03\n",
      "  3.69424712e+03  4.20514731e+03  5.68826162e+03  4.99994641e+03\n",
      "  4.94626224e+03  5.48025680e+03  3.69766854e+03  5.08335782e+03\n",
      "  4.60342352e+03  6.55716166e+03  2.92865303e+03  4.87627023e+03\n",
      "  3.88869578e+03  2.40046175e+02  4.03740228e+03  4.71523419e+03\n",
      "  5.28752863e+03  4.09588124e+03  6.89396340e+03  2.42957006e+03\n",
      "  5.12026825e+03  4.60805580e+03  2.42646856e+03  4.92146420e+03\n",
      "  4.10091071e+03  5.89485654e+03  5.28885325e+03  7.50117911e+03\n",
      "  4.71231840e+03  4.30188660e+03  2.98373384e+03  4.03038843e+03\n",
      "  6.55779536e+03  6.00593284e+03  5.79702239e+03  2.95148671e+03\n",
      "  5.67873064e+03  5.58261879e+03  5.36894745e+03  3.99915608e+03\n",
      "  7.06874338e+03  5.58482772e+03  4.97940948e+03  6.99890330e+03\n",
      "  3.88687442e+03  3.98770117e+03  4.40279288e+03  5.89265067e+03\n",
      "  5.11304459e+03  5.89387519e+03  4.87046183e+03  4.81496737e+03\n",
      "  4.97886880e+03  6.72798912e+03  6.57853104e+03  2.92510892e+03\n",
      "  2.01865134e+03  7.66905349e+03  5.28898248e+03  7.16333772e+03\n",
      "  5.86037238e+03  6.00018109e+03  6.90366798e+03  7.16281887e+03\n",
      "  4.21077832e+03  6.50336105e+03  5.58814283e+03  4.98157886e+03\n",
      "  4.60574911e+03  6.46593488e+03  7.67370155e+03  6.50267083e+03\n",
      "  5.56795295e+03  6.46566678e+03  4.60451284e+03  7.15749305e+03\n",
      "  5.84506860e+03  4.98180799e+03  7.66824501e+03  4.87255715e+03\n",
      "  3.91159850e+03  5.46933100e+03  7.01397996e+03  6.55482188e+03\n",
      "  6.01652039e+03  4.03359555e+03  5.69869493e+03  5.12699714e+03\n",
      "  5.56659644e+03  5.90429362e+03  7.17064763e+03  7.78439178e+03\n",
      "  6.50130484e+03  5.68951801e+03  5.12474572e+03  6.57255718e+03\n",
      "  6.39137162e+03  5.80858660e+03  6.46696284e+03  7.77736095e+03\n",
      "  5.28937902e+03  7.16052769e+03  3.88584905e+03  6.07893316e+03\n",
      "  5.69904045e+03  5.70014124e+03  6.46447315e+03  5.90351831e+03\n",
      "  7.16105928e+03  7.26818013e+03  6.35605384e+03  6.07761200e+03\n",
      "  7.16136270e+03  5.99918288e+03  3.24819448e+03  6.57288201e+03\n",
      "  5.36784586e+03  6.73321597e+03  7.78174181e+03  6.73034292e+03\n",
      "  5.90325749e+03  6.90762880e+03  7.78119062e+03  5.85836374e+03\n",
      "  5.58866907e+03  4.94054467e+03  3.56621802e+03  7.60793932e+03\n",
      "  7.38600997e+03  7.60530682e+03]\n"
     ]
    },
    {
     "data": {
      "text/plain": [
       "[<matplotlib.lines.Line2D at 0x1fb243ce5f0>]"
      ]
     },
     "execution_count": 27,
     "metadata": {},
     "output_type": "execute_result"
    },
    {
     "data": {
      "image/png": "[encoded data removed]",
      "text/plain": [
       "<Figure size 640x480 with 1 Axes>"
      ]
     },
     "metadata": {},
     "output_type": "display_data"
    }
   ],
   "source": [
    "predTest = np.dot(xTest, w.T)\n",
    "pT = predTest.reshape(len(predTest))\n",
    "print(pT.shape)\n",
    "yT = yTest.reshape(len(yTest))\n",
    "print(yT.shape)\n",
    "Ys = np.column_stack((yT,pT))\n",
    "#print(Ys)\n",
    "df_Ys = pd.DataFrame(data = Ys, columns = ['Y', 'Ypred'])\n",
    "print(df_Ys)\n",
    "df1 = df_Ys.sort_values(by=['Y'], ascending=True)\n",
    "print(df1)\n",
    "y1 = np.array(df1['Y'])\n",
    "y2 = np.array(df1['Ypred'])\n",
    "print(y2)\n",
    "plt.plot(y1, 'g')\n",
    "plt.plot(y2, 'y')\n",
    "#plt.plot(y1,y2)"
   ]
  },
  {
   "cell_type": "markdown",
   "metadata": {},
   "source": [
    "## Conclusiones"
   ]
  },
  {
   "cell_type": "markdown",
   "metadata": {},
   "source": [
    "Escribir conclusiones y observaciones del ejercicio."
   ]
  }
 ],
 "metadata": {
  "kernelspec": {
   "display_name": "Python 3",
   "language": "python",
   "name": "python3"
  },
  "language_info": {
   "codemirror_mode": {
    "name": "ipython",
    "version": 3
   },
   "file_extension": ".py",
   "mimetype": "text/x-python",
   "name": "python",
   "nbconvert_exporter": "python",
   "pygments_lexer": "ipython3",
   "version": "3.10.10"
  },
  "vscode": {
   "interpreter": {
    "hash": "34c967ba3987e07fb7b28f6794edadae7e6af108e1257cc6f54379ffa691cdee"
   }
  }
 },
 "nbformat": 4,
 "nbformat_minor": 2
}
