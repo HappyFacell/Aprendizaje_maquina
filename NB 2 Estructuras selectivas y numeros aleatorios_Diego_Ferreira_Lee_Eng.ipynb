{
 "cells": [
  {
   "cell_type": "markdown",
   "metadata": {},
   "source": [
    "# 2. Estructuras Selectivas\n",
    "\n",
    "- Una expresión booleana es una expression que evalúa sobre un valor booleano: Verdadero (True = 1) o Falso (False = 0).\n",
    "\n",
    "- La variable que guarda un valor booleano (True, False) es una variable de tipo booleano.\n",
    "\n",
    "- Las palabras True y False son palabras reservadas en Python y no pueden ser utilizadas como identificadores.\n",
    "\n",
    "## 2.1 Estructuras selectivas simples\n",
    "\n",
    "- Sintaxis:\n",
    "\n",
    "#### if boolean-expression:\n",
    "\n",
    "    instrucciones\n",
    "\n"
   ]
  },
  {
   "cell_type": "markdown",
   "metadata": {},
   "source": [
    "### 1. Escribe un programa que calcule el área de un círculo solo si el radio es mayor que cero"
   ]
  },
  {
   "cell_type": "code",
   "execution_count": 8,
   "metadata": {},
   "outputs": [
    {
     "name": "stdout",
     "output_type": "stream",
     "text": [
      "El área del círculo es: 78.53981633974483\n"
     ]
    }
   ],
   "source": [
    "# Programa para calcular el área de un círculo\n",
    "import math \n",
    "radio = float(input(\"Ingrese el radio del círculo: \")) \n",
    "if radio > 0: \n",
    "    area = math.pi * radio**2 \n",
    "    print(\"El área del círculo es:\", area) "
   ]
  },
  {
   "cell_type": "markdown",
   "metadata": {},
   "source": [
    "## 2.2 Estructuras selectivas dobles\n",
    "\n",
    "- Sintaxis:\n",
    "\n",
    "#### if boolean-expression: \n",
    "    \n",
    "    instrucciones para el caso verdadero\n",
    "\n",
    "#### else:\n",
    "\n",
    "    instrucciones para el caso falso\n",
    "\n",
    "\n",
    "### 2. Escribe un programa que calcule el área de un círculo solo si el radio es mayor que cero y que devuelva un mensaje de error en el caso que el radio sea un valor negativo"
   ]
  },
  {
   "cell_type": "code",
   "execution_count": 6,
   "metadata": {},
   "outputs": [
    {
     "name": "stdout",
     "output_type": "stream",
     "text": [
      "El área del círculo es 78.53981633974483\n"
     ]
    }
   ],
   "source": [
    "import math\n",
    "\n",
    "radio = float(input(\"Ingrese el radio del círculo: \"))\n",
    "if radio > 0:\n",
    "    area = math.pi * (radio**2)\n",
    "    print(\"El área del círculo es\", area)\n",
    "else:\n",
    "    print(\"Error: El radio no puede ser un valor negativo o menor que 0\")"
   ]
  },
  {
   "cell_type": "markdown",
   "metadata": {},
   "source": [
    "## 2.3 Estructuras selectivas múltiples\n",
    "\n",
    "- Sintaxis:\n",
    "\n",
    "#### if boolean-expression: \n",
    "    \n",
    "    instrucciones para el caso verdadero\n",
    "\n",
    "#### else:\n",
    "\n",
    "    instrucciones para el caso falso\n",
    "\n",
    "    if boolean-expression:\n",
    "        \n",
    "        instrucciones para el caso verdadero\n",
    "        \n",
    "    else:\n",
    "        ....\n",
    "\n",
    "- Es lo mismo que:\n",
    "\n",
    "if boolean-expression: \n",
    "    \n",
    "    instrucciones para el caso verdadero\n",
    "\n",
    "elif boolean-expression: \n",
    "\n",
    "    instrucciones para el caso verdadero\n",
    "    \n",
    "elif boolean-expression: \n",
    "\n",
    "    instrucciones para el caso verdadero\n",
    "\n",
    "else:\n",
    "\n",
    "    instrucciones para el caso falso (no se cumplió ninguna condición anterior)\n",
    "    \n",
    "### 3. Escribe un programa que asigne una letra a cada rango de calificación.\n",
    "- A si la calificación es mayor o igual que 90\n",
    "- B si la calificación es menor que 90 y mayor o igual que 80\n",
    "- C si la calificación es menor que 80 y mayor o igual que 70\n",
    "- D si la calificación es menor que 70 y mayor o igual que 60\n",
    "- F si es menor que 60"
   ]
  },
  {
   "cell_type": "code",
   "execution_count": 10,
   "metadata": {},
   "outputs": [
    {
     "name": "stdout",
     "output_type": "stream",
     "text": [
      "A\n"
     ]
    }
   ],
   "source": [
    "nota = int(input(\"Ingresa tu nota: \"))\n",
    "\n",
    "if nota >= 90:\n",
    "    print(\"A\")\n",
    "elif nota >= 80: \n",
    "    print(\"B\")\n",
    "elif nota >= 70: \n",
    "    print(\"C\")\n",
    "elif nota >= 60: \n",
    "    print(\"D\")\n",
    "else: \n",
    "    print(\"F\")"
   ]
  },
  {
   "cell_type": "markdown",
   "metadata": {},
   "source": [
    "## 2.4 Operadores lógicos o booleanos\n",
    "\n",
    "- not --> logical negation\n",
    "- and --> logical conjuction\n",
    "- or --> logical disjunction"
   ]
  },
  {
   "cell_type": "markdown",
   "metadata": {},
   "source": [
    "### 4. Ejercicio 1 \n",
    "\n",
    "Dado un año, determinar si es bisiesto. Un año es bisiesto si es divisible entre 4 pero no es divisible entre 100, o si es divisible entre 400."
   ]
  },
  {
   "cell_type": "code",
   "execution_count": 11,
   "metadata": {},
   "outputs": [
    {
     "name": "stdout",
     "output_type": "stream",
     "text": [
      "El año 2008 es bisiesto.\n"
     ]
    }
   ],
   "source": [
    "year = int(input(\"Ingrese un año: \"))\n",
    "\n",
    "if (year % 4 == 0 and year % 100 != 0) or year % 400 == 0: \n",
    "    print(f\"El año {year} es bisiesto.\") \n",
    "else: \n",
    "    print(f\"El año {year} no es bisiesto.\")"
   ]
  },
  {
   "cell_type": "markdown",
   "metadata": {},
   "source": [
    "## 2. 5 Números aleatorios\n",
    "\n",
    "La función randint(a,b), se utiliza para generar un número entero aleatorio entre a y b.\n",
    "\n",
    "Esta función se encuentra en la librería random, por lo que es necesario importarla al inicio del programa con:\n",
    "\n",
    "    import random\n",
    "\n",
    "Y al utilizarla en el programa se deberá emplear la siguiente sintaxis: \n",
    "\n",
    "    random.randint(a,b)\n",
    "    \n",
    "La función random(), genera un número aletorio de tipo flotante entre 0 y 1.0, excluyendo el 1.0, y al utilizarla en el programa se deberá emplear la siguiente sintaxis: \n",
    "\n",
    "    random.random()\n",
    "\n"
   ]
  },
  {
   "cell_type": "markdown",
   "metadata": {},
   "source": [
    "### 5. Ejercicio 2\n",
    "\n",
    "Suponer que quieren desarrollar un programa para jugar a la lotería, el programa genera aleatoriamente un número de 2 dígitos, pide al usuario ingresar un número de 2 dígitos y determina si el usuario es ganador de acuerdo a las siguientes reglas:\n",
    "\n",
    "- Si el usuario coincide exactamente en el orden de los números gana $10,000.00$\n",
    "\n",
    "- Si todos los dígitos del usuario coinciden con los números de la lotería, gana $3,000$\n",
    "\n",
    "- Si un dígito del usuario coincide con un número de la lotería el premio es de $1,000$\n"
   ]
  },
  {
   "cell_type": "code",
   "execution_count": 5,
   "metadata": {},
   "outputs": [
    {
     "name": "stdout",
     "output_type": "stream",
     "text": [
      "Lo sentimos, no has ganado nada.\n",
      "Lo sentimos, no has ganado nada.\n"
     ]
    }
   ],
   "source": [
    "import random\n",
    "\n",
    "# Generar un número aleatorio de 2 dígitos\n",
    "numero_aleatorio = random.randint(10, 99)\n",
    "# Se agrega para que el usuario sepa cual es el número aleatorio generado.\n",
    "# print(\"El número aleatorio es:\", numero_aleatorio)\n",
    "\n",
    "# Pedir al usuario que ingrese un número de 2 dígitos\n",
    "numero_usuario = int(input(\"Ingrese un número de 2 dígitos: \"))\n",
    "\n",
    "# Comparar los números y mostrar el resultado\n",
    "# Se cambia == por is para que se compare si los dos numeros son iguales.\n",
    "if numero_aleatorio == numero_usuario:\n",
    "    print(\"¡Felicidades! Has ganado $10,000.\")  # Se agrega el monto a ganar.\n",
    "else:\n",
    "    coincidencias = 0\n",
    "    for i in range(2):\n",
    "        if numero_aleatorio % 10 == numero_usuario % 10:\n",
    "            coincidencias += 1\n",
    "        numero_aleatorio //= 10\n",
    "        numero_usuario //= 10\n",
    "        if coincidencias == 0:  # Si no hay coincidencias se imprime lo siguiente.\n",
    "            print(\"Lo sentimos, no has ganado nada.\")\n",
    "        elif coincidencias == 1:  # Si hay una coincidencia se imprime lo siguiente.\n",
    "            print(\"¡Felicidades! Has ganado $1,000.\")\n",
    "        else:  # Si hay dos coincidencias se imprime lo siguiente.\n",
    "            print(\"¡Felicidades! Has ganado $3,000.\")\n"
   ]
  }
 ],
 "metadata": {
  "kernelspec": {
   "display_name": "Python 3",
   "language": "python",
   "name": "python3"
  },
  "language_info": {
   "codemirror_mode": {
    "name": "ipython",
    "version": 3
   },
   "file_extension": ".py",
   "mimetype": "text/x-python",
   "name": "python",
   "nbconvert_exporter": "python",
   "pygments_lexer": "ipython3",
   "version": "3.10.9 (tags/v3.10.9:1dd9be6, Dec  6 2022, 20:01:21) [MSC v.1934 64 bit (AMD64)]"
  },
  "vscode": {
   "interpreter": {
    "hash": "34c967ba3987e07fb7b28f6794edadae7e6af108e1257cc6f54379ffa691cdee"
   }
  }
 },
 "nbformat": 4,
 "nbformat_minor": 2
}
