{
 "cells": [
  {
   "cell_type": "markdown",
   "metadata": {},
   "source": [
    "# Exercise 4.2.1 Banknote Authentication, Logistic Regression"
   ]
  },
  {
   "cell_type": "markdown",
   "metadata": {},
   "source": [
    "Logistic Regression (LoR) belongs to the Supervised Learning classification. Then, the learning algorithm is the same as Linear Regression. There are three things that are different: \n",
    "\n",
    "    - Cost function\n",
    "    - Prediction function\n",
    "    - Performance measurement.\n",
    "\n",
    "The LoR algorithm is as follows:\n",
    "\n",
    "1. Load the dataset\n",
    "2. Prepare data: add Bias or Ones' column and split dataset\n",
    "3. Gradient Descent algorthim\n",
    "4. Performance Measurement"
   ]
  },
  {
   "cell_type": "markdown",
   "metadata": {},
   "source": [
    "## 1. Load Dataset: Banknote Authentication\n",
    "\n",
    "The dataset used for this exercise can be downloaded from: https://archive.ics.uci.edu/ml/machine-learning-databases/00267/\n",
    "\n",
    "Download the file: 'data_banknote_authentication.txt', and open it to observe how the data is distributed."
   ]
  },
  {
   "cell_type": "code",
   "execution_count": 47,
   "metadata": {},
   "outputs": [],
   "source": [
    "#Import libraries\n",
    "import numpy as np\n",
    "import pandas as pd\n",
    "from sklearn.model_selection import train_test_split\n",
    "import matplotlib.pyplot as plt\n"
   ]
  },
  {
   "cell_type": "code",
   "execution_count": 48,
   "metadata": {},
   "outputs": [
    {
     "name": "stdout",
     "output_type": "stream",
     "text": [
      "x: (1372, 4)\n",
      "y: (1372,)\n"
     ]
    }
   ],
   "source": [
    "#1. Load dataset\n",
    "data = pd.read_csv(\"data_banknote_authentication.csv\", header=None)\n",
    "\n",
    "#YOUR CODE\n",
    "datanp = np.array(data)\n",
    "x = datanp[:,0:4]\n",
    "y = datanp[:,-1]\n",
    "\n",
    "print('x:', np.shape(x))\n",
    "print('y:', np.shape(y))"
   ]
  },
  {
   "cell_type": "markdown",
   "metadata": {},
   "source": [
    "## 2. Prepare data\n",
    "\n",
    "This step requires to add Bias, and then split dataset. We will define the Bias function to add the intercept column to the features matrix (input).\n",
    "\n",
    "For spliting dataset we will use the train_test_split() function. Be sure to import the function before use it."
   ]
  },
  {
   "cell_type": "code",
   "execution_count": 49,
   "metadata": {},
   "outputs": [
    {
     "name": "stdout",
     "output_type": "stream",
     "text": [
      "x shape:  (1372, 5)\n",
      "Split X 1372 rows into train with 1097 and test with 275\n",
      "Split Y 1372 rows into train with 1097 and test with 275\n",
      "xTrain shape: (1097, 5) yTrain shape: (1097, 1)\n",
      "xTest shape: (275, 5) yTest shape: (275, 1)\n"
     ]
    }
   ],
   "source": [
    "#2. Prepare data: add Bias and split dataset\n",
    "def Bias(X):\n",
    "    #YOUR CODE \n",
    "    ones = np.ones((len(X), 1))\n",
    "    X1 = np.concatenate((ones, X), axis=1)\n",
    "    return X1\n",
    "\n",
    "x = Bias(x)\n",
    "\n",
    "print('x shape: ', np.shape(x))\n",
    "\n",
    "#SPLIT DATASET\n",
    "test_size = 0.2\n",
    "xTrain, xTest, yTrain, yTest = train_test_split(x, y,test_size = test_size)\n",
    "print('Split X', len(x), 'rows into train with', len(xTrain), 'and test with', len(xTest))\n",
    "print('Split Y', len(y), 'rows into train with', len(yTrain), 'and test with', len(yTest))\n",
    "\n",
    "yTrain = yTrain.reshape(-1,1)\n",
    "yTest = yTest.reshape(-1,1)\n",
    "\n",
    "print('xTrain shape:',np.shape(xTrain), 'yTrain shape:', np.shape(yTrain))\n",
    "print('xTest shape:', np.shape(xTest), 'yTest shape:', np.shape(yTest))"
   ]
  },
  {
   "cell_type": "markdown",
   "metadata": {},
   "source": [
    "## 3. Gradient Descent algorithm\n",
    "\n",
    "As we learnt from previous lesson, the Gradient Descent (GD) consists in two main steps:\n",
    "\n",
    "1. Calculate the gradient\n",
    "2. Update the W values\n",
    "\n",
    "We will add the cost calculation to evaluate the algorithm performance and W convergence.\n",
    "\n",
    "The LoR algorithm will be implemented using the number of iterarions as the while condition ends.\n",
    "\n",
    "We will define four functios to implement the GD algorithm:\n",
    "\n",
    "1. Logistic: h(  )\n",
    "2. Cost: cost(  )\n",
    "3. Gradient: grad(  ) \n",
    "4. Gradient Descent: GD(  )"
   ]
  },
  {
   "cell_type": "markdown",
   "metadata": {},
   "source": [
    "### 3.1 Logistic function \n",
    "\n",
    "The logistic function is implemented using the formula:\n",
    "$$h(w, x) = \\frac{1}{1+e^{-w^Tx}}$$\n"
   ]
  },
  {
   "cell_type": "code",
   "execution_count": 50,
   "metadata": {},
   "outputs": [],
   "source": [
    "# 3.1 Logistic function\n",
    "\n",
    "def h(x, w):\n",
    "\n",
    "    # your code\n",
    "    wx = np.dot(x, w.T)\n",
    "    hz = 1 / (1+np.exp(-wx))\n",
    "    return hz\n"
   ]
  },
  {
   "cell_type": "markdown",
   "metadata": {},
   "source": [
    "### 3.2 Cost function\n",
    "\n",
    "The cost function is defined by: \n",
    "\n",
    "$$\n",
    "J(w) = -\\frac{1}{m}\\left(\\sum_{i=1}^{m}y_i\\ log[h(x_i, w)] + (1 - y_i)\\ log[1 - h(x_i, w)] \\right)\n",
    "$$"
   ]
  },
  {
   "cell_type": "code",
   "execution_count": 51,
   "metadata": {},
   "outputs": [],
   "source": [
    "# 3.2 Cost function\n",
    "\n",
    "def cost(x, y, w):\n",
    "\n",
    "    # YOUR CODE\n",
    "    m = len(y)\n",
    "    c = (-1 / m) * np.sum(y * np.log(h(x, w)) + (1 - y) * np.log(1 - h(x, w)))\n",
    "    return c\n"
   ]
  },
  {
   "cell_type": "markdown",
   "metadata": {},
   "source": [
    "### 3.3 Gradient function\n",
    "\n",
    "The gradient function is defined by:\n",
    "\n",
    "$$\n",
    "\\frac{\\partial J(w)}{\\partial w_j} = \\frac{1}{m} \\sum_{i=1}^{m} (h(x_i, w) - y_i) x_i[j] \n",
    "$$\n",
    "\n",
    "The gradient for the vector form is: \n",
    "\n",
    "\n",
    "$$\n",
    "\\frac{\\partial J(\\mathbf{w})}{\\partial \\mathbf{w}} = \\frac{1}{m} X^T(h(X, w) - y) \n",
    "$$\n"
   ]
  },
  {
   "cell_type": "code",
   "execution_count": 52,
   "metadata": {},
   "outputs": [],
   "source": [
    "# 3.3 Gradient function\n",
    "\n",
    "def grad(x, y, w):\n",
    "\n",
    "    # YOUR CODE\n",
    "    m, n = np.shape(x)\n",
    "    g = (1 / m) * np.dot(x.T, (h(x, w) - y))\n",
    "    return g\n"
   ]
  },
  {
   "cell_type": "markdown",
   "metadata": {},
   "source": [
    "### 3.4 Gradient Descent function\n",
    "\n",
    "The GD function will be define with the next steps.\n",
    "\n",
    "1. Initialize variables: it, costo, and J\n",
    "2. While the actual iteration (it) is less than iterations:\n",
    "    - Calculate the gradient\n",
    "    - Calculate the cost\n",
    "    - Update W\n",
    "    - Store the cost in J\n",
    "3. The GD function will return the W vector and J"
   ]
  },
  {
   "cell_type": "code",
   "execution_count": 53,
   "metadata": {},
   "outputs": [],
   "source": [
    "# 3.4 Gradient Descent function\n",
    "\n",
    "def gd(x, y, w, alpha=0.001, its=1000):\n",
    "    it = 0\n",
    "    costo = 0\n",
    "    J = []\n",
    "    while it < its:\n",
    "        # Gradient\n",
    "        gradiente = grad(x, y, w)\n",
    "\n",
    "        # Cost function\n",
    "        costo = cost(x, y, w)\n",
    "\n",
    "        # Updating w\n",
    "        w = w - alpha * gradiente.T\n",
    "\n",
    "        # Storing cost\n",
    "        J.append(costo)\n",
    "\n",
    "        it += 1\n",
    "\n",
    "    return w, J\n"
   ]
  },
  {
   "cell_type": "markdown",
   "metadata": {},
   "source": [
    "## Testing the Gradient Descent "
   ]
  },
  {
   "cell_type": "code",
   "execution_count": 54,
   "metadata": {},
   "outputs": [
    {
     "name": "stdout",
     "output_type": "stream",
     "text": [
      "Initial Cost (training data): 0.6931471805599453\n",
      "Cost after training (training data): 0.08763237665410713\n",
      "Cost after training (testing data): 0.07122635630318337\n",
      "W: [[ 0.76736222 -1.32635517 -0.71366655 -0.76396562 -0.24015968]]\n"
     ]
    },
    {
     "data": {
      "image/png": "[encoded data removed]",
      "text/plain": [
       "<Figure size 640x480 with 1 Axes>"
      ]
     },
     "metadata": {},
     "output_type": "display_data"
    }
   ],
   "source": [
    "alpha = 0.001\n",
    "its = 15000\n",
    "\n",
    "m, n = np.shape(x)\n",
    "\n",
    "w = np.zeros((1, n))\n",
    "\n",
    "\n",
    "print('Initial Cost (training data):', cost(xTrain, yTrain, w))\n",
    "\n",
    "#Gradient\n",
    "w, J = gd(xTrain, yTrain, w, alpha, its)\n",
    "\n",
    "print('Cost after training (training data):', cost(xTrain, yTrain, w))\n",
    "print('Cost after training (testing data):', cost(xTest, yTest, w))\n",
    "\n",
    "print('W:',w)\n",
    "\n",
    "#Plot the cost over the iterations\n",
    "plt.plot(J)\n",
    "plt.xlabel('Iterations')\n",
    "plt.ylabel('Cost');"
   ]
  },
  {
   "cell_type": "markdown",
   "metadata": {},
   "source": [
    "## 4. Performance Measurement\n",
    "\n",
    "The accuracy for LoR is defined by:\n",
    "\n",
    "$$ Acc = \\frac{TP + TN}{m} $$\n"
   ]
  },
  {
   "cell_type": "code",
   "execution_count": 57,
   "metadata": {},
   "outputs": [
    {
     "name": "stdout",
     "output_type": "stream",
     "text": [
      "Training accuracy: 0.9762989972652689 1071 out of 1097\n",
      "Testing accuracy: 0.9854545454545455 271 out of 275\n"
     ]
    }
   ],
   "source": [
    "# 4. Accuracy\n",
    "\n",
    "def accuracy(x, y, w):\n",
    "\n",
    "    # YOUR CODE\n",
    "    Ynew = list(map(lambda x: 1 if x > 0.5 else 0, h(x, w)))\n",
    "    Ynew = np.array(Ynew)\n",
    "    Ynew = Ynew.reshape(-1,1)\n",
    "    suma = (y == Ynew).sum()\n",
    "    a = suma/ len(Ynew)\n",
    "    return a, suma\n",
    "\n",
    "\n",
    "accTrain, tptnTrain = accuracy(xTrain, yTrain, w)\n",
    "accTest, tptnTest = accuracy(xTest, yTest, w)\n",
    "print('Training accuracy:', accTrain, tptnTrain, 'out of', len(yTrain))\n",
    "print('Testing accuracy:', accTest, tptnTest, 'out of', len(yTest))\n"
   ]
  },
  {
   "cell_type": "code",
   "execution_count": null,
   "metadata": {},
   "outputs": [],
   "source": []
  }
 ],
 "metadata": {
  "kernelspec": {
   "display_name": "Python 3",
   "language": "python",
   "name": "python3"
  },
  "language_info": {
   "codemirror_mode": {
    "name": "ipython",
    "version": 3
   },
   "file_extension": ".py",
   "mimetype": "text/x-python",
   "name": "python",
   "nbconvert_exporter": "python",
   "pygments_lexer": "ipython3",
   "version": "3.10.10"
  }
 },
 "nbformat": 4,
 "nbformat_minor": 2
}
