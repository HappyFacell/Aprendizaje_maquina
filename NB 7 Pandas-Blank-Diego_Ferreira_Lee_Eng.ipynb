{
 "cells": [
  {
   "cell_type": "markdown",
   "metadata": {},
   "source": [
    "# 7. Pandas\n",
    "\n",
    "Es una librería de código abierto que provee un alto desempeño, y un fácil manejo de estructuras de datos y herramientas de análisis de datos para el lenguaje de programación Python*\n",
    "\n",
    "* https://pandas.pydata.org/\n",
    "\n",
    "Para utilizar este módulo es necesario importarlo:"
   ]
  },
  {
   "cell_type": "code",
   "execution_count": 1,
   "metadata": {},
   "outputs": [],
   "source": [
    "import pandas as pd"
   ]
  },
  {
   "cell_type": "markdown",
   "metadata": {},
   "source": [
    "## 7.1 Series\n",
    "\n",
    "Pandas utiliza un formato para bases de datos. Crea las columnas de esas bases datos (series) y las indexa automáticamente utilizando la función series:\n",
    "\n",
    "        lista = [1, 2, 3]\n",
    "        columna = pd.Series(lista)\n",
    "        \n",
    "### 1. Imprima una serie a partir de una lista de números del 1 al 20. Utilice range() para crear la lista.\n",
    "        "
   ]
  },
  {
   "cell_type": "code",
   "execution_count": 2,
   "metadata": {},
   "outputs": [
    {
     "name": "stdout",
     "output_type": "stream",
     "text": [
      "0    1\n",
      "1    2\n",
      "2    3\n",
      "dtype: int64\n"
     ]
    }
   ],
   "source": [
    "import pandas as pd\n",
    "\n",
    "lista = [1, 2, 3]\n",
    "columna = pd.Series(lista)\n",
    "\n",
    "print(columna)\n"
   ]
  },
  {
   "cell_type": "markdown",
   "metadata": {},
   "source": [
    "## 7.1.1 Índices en Series\n",
    "\n",
    "Observe que a diferencia de los arreglos de numpy, las series están indexadas por default. Este índice también se puede determinar con la siguiente sintaxis:\n",
    "\n",
    "        indices = lista1\n",
    "        valores = lista2\n",
    "        serie1 = pd.Series(valores, index = indices)\n",
    "\n",
    "\n",
    "### 2. Obtenga una serie en la que se desplieguen las calificaciones de un alumno. Los índices será la lista de materias: matemáticas, historia, física y literatura, y usted asigne las calificaciones correspondientes en cada materia, ejemplo:\n",
    "\n",
    "        matematicas    8\n",
    "        historia       6\n",
    "        fisica         9\n",
    "        literatura     7"
   ]
  },
  {
   "cell_type": "code",
   "execution_count": 3,
   "metadata": {},
   "outputs": [
    {
     "name": "stdout",
     "output_type": "stream",
     "text": [
      "matematicas    8\n",
      "historia       6\n",
      "fisica         9\n",
      "literatura     7\n",
      "dtype: int64\n"
     ]
    }
   ],
   "source": [
    "import pandas as pd\n",
    "\n",
    "indices = [\"matematicas\", \"historia\", \"fisica\", \"literatura\"]\n",
    "valores = [8, 6, 9, 7]\n",
    "\n",
    "serie1 = pd.Series(valores, index=indices)\n",
    "\n",
    "print(serie1)\n"
   ]
  },
  {
   "cell_type": "markdown",
   "metadata": {},
   "source": [
    "## 7.1.2 Convirtiendo una serie a un diccionario y viceversa\n",
    "\n",
    "A veces por el manejo de datos es necesario convertir series a diccionarios y diccionarios a series, para este objetivo existen dos funciones complementarias:\n",
    "\n",
    "- De serie a diccionario:\n",
    "\n",
    "        diccionario = serie1.to_dict()\n",
    "        \n",
    "- De diccionario a serie:\n",
    "\n",
    "        serie1 = pd.Series(diccionario)\n",
    "        \n",
    "### 3. Utilice estas funciones en la serie que creó de las calificaciones e imprima los resultados."
   ]
  },
  {
   "cell_type": "code",
   "execution_count": 4,
   "metadata": {},
   "outputs": [
    {
     "name": "stdout",
     "output_type": "stream",
     "text": [
      "{'matematicas': 8, 'historia': 6, 'fisica': 9, 'literatura': 7}\n",
      "matematicas    8\n",
      "historia       6\n",
      "fisica         9\n",
      "literatura     7\n",
      "dtype: int64\n"
     ]
    }
   ],
   "source": [
    "import pandas as pd\n",
    "\n",
    "indices = [\"matematicas\", \"historia\", \"fisica\", \"literatura\"]\n",
    "valores = [8, 6, 9, 7]\n",
    "\n",
    "serie1 = pd.Series(valores, index=indices)\n",
    "\n",
    "diccionario = serie1.to_dict()\n",
    "print(diccionario)\n",
    "serie2 = pd.Series(diccionario)\n",
    "print(serie2)\n"
   ]
  },
  {
   "cell_type": "markdown",
   "metadata": {},
   "source": [
    "## 7.2 Dataframes\n",
    "\n",
    "Los dataframes son bases de datos, formados por series. Hay muchas formas de crear dataframes.\n",
    "\n",
    "Como primer ejemplo crearemos un dataframe desde un sitio web: 'https://es.wikipedia.org/wiki/Anexo:Campeones_de_la_NBA'\n",
    "\n",
    "Para abrir este sitio utilizamos la librería webbroser la cual se deberá importar previamente antes de utilizar la siguiente función:\n",
    "\n",
    "        webbrowser.open(website)\n",
    "        \n",
    "donde la variable website previamente se le asignó el link de la página.\n",
    "\n",
    "### 4. Abra la página utilizando esta función anteriormente descrita:"
   ]
  },
  {
   "cell_type": "code",
   "execution_count": 5,
   "metadata": {},
   "outputs": [
    {
     "data": {
      "text/plain": [
       "True"
      ]
     },
     "execution_count": 5,
     "metadata": {},
     "output_type": "execute_result"
    }
   ],
   "source": [
    "import webbrowser\n",
    "\n",
    "website = \"https://es.wikipedia.org/wiki/Anexo:Campeones_de_la_NBA\"\n",
    "\n",
    "webbrowser.open(website)"
   ]
  },
  {
   "cell_type": "markdown",
   "metadata": {},
   "source": [
    "Posteriormente en esa página seleccione toda la tabla que tiene como título: \"Campeones de la BAA\" y copiela al clipboard presionando las teclas Ctrl + C. \n",
    "\n",
    "Después guarde la tabla en un Dataframe en la que se asigne la siguiente instrucción, donde se le está indicando que la separación es un tabulador:\n",
    "\n",
    "        df = pd.read_clipboard(sep='\\t')"
   ]
  },
  {
   "cell_type": "code",
   "execution_count": 6,
   "metadata": {},
   "outputs": [
    {
     "name": "stdout",
     "output_type": "stream",
     "text": [
      "     Año         Campeón del Oeste  Resultado      Campeón del Este     Ref.\n",
      "0   1950   Minneapolis Lakersn. 2​        4–2   Syracuse Nationals†   19​18​\n",
      "1   1951          Rochester Royals        4–3       New York Knicks      20​\n",
      "2   1952        Minneapolis Lakers        4–3       New York Knicks      21​\n",
      "3   1953       Minneapolis Lakers†        4–1       New York Knicks      22​\n",
      "4   1954       Minneapolis Lakers†        4–3    Syracuse Nationals      23​\n",
      "..    ...                       ...        ...                   ...     ...\n",
      "68  2018     Golden State Warriors        4–0   Cleveland Cavaliers      86​\n",
      "69  2019     Golden State Warriors        2–4       Toronto Raptors      87​\n",
      "70  2020        Los Angeles Lakers        4–2            Miami Heat      88​\n",
      "71  2021              Phoenix Suns        2–4       Milwaukee Bucks      89​\n",
      "72  2022     Golden State Warriors        4–2        Boston Celtics     90​ \n",
      "\n",
      "[73 rows x 5 columns]\n"
     ]
    }
   ],
   "source": [
    "import pandas as pd\n",
    "\n",
    "df = pd.read_clipboard(sep=\"\\t\")\n",
    "print(df)\n"
   ]
  },
  {
   "cell_type": "markdown",
   "metadata": {},
   "source": [
    "## 7.2.1 Nombres de columnas\n",
    "\n",
    "Para obtener los nombres de las columnas usamos el método columns directamente en la variable que contiene el dataframe:\n",
    "\n",
    "        df.columns\n",
    "        \n",
    "### 5. Obtenga los nombres de las columnas de la tabla que guardó."
   ]
  },
  {
   "cell_type": "code",
   "execution_count": 7,
   "metadata": {},
   "outputs": [
    {
     "name": "stdout",
     "output_type": "stream",
     "text": [
      "Index(['Año ', 'Campeón del Oeste ', 'Resultado ', 'Campeón del Este ',\n",
      "       'Ref.'],\n",
      "      dtype='object')\n"
     ]
    }
   ],
   "source": [
    "import pandas as pd\n",
    "\n",
    "df = pd.read_clipboard(sep=\"\\t\")\n",
    "\n",
    "print(df.columns)"
   ]
  },
  {
   "cell_type": "markdown",
   "metadata": {},
   "source": [
    "## 7.2.2 Obtener solo una columna\n",
    "\n",
    "Sí solo se requiere obtener una columna del dataframe podemos hacer utilizando el nombre de la columna directamente:\n",
    "\n",
    "        df['nombre_columna']\n",
    "\n",
    "### 6. Imprima la columna 'Campeón del Oeste':"
   ]
  },
  {
   "cell_type": "code",
   "execution_count": 8,
   "metadata": {},
   "outputs": [
    {
     "name": "stdout",
     "output_type": "stream",
     "text": [
      "0     Syracuse Nationals† \n",
      "1         New York Knicks \n",
      "2         New York Knicks \n",
      "3         New York Knicks \n",
      "4      Syracuse Nationals \n",
      "              ...         \n",
      "68    Cleveland Cavaliers \n",
      "69        Toronto Raptors \n",
      "70             Miami Heat \n",
      "71        Milwaukee Bucks \n",
      "72         Boston Celtics \n",
      "Name: Campeón del Este , Length: 73, dtype: object\n"
     ]
    }
   ],
   "source": [
    "print(df[\"Campeón del Este \"])"
   ]
  },
  {
   "cell_type": "markdown",
   "metadata": {},
   "source": [
    "## 7.2.3 Obtener solo un registro\n",
    "\n",
    "Para obtener solo un registro determinado utilizaremos su índice i:\n",
    "\n",
    "        df[i]\n",
    "\n",
    "### 7. Obtenga el registro número 5 "
   ]
  },
  {
   "cell_type": "code",
   "execution_count": 9,
   "metadata": {},
   "outputs": [
    {
     "name": "stdout",
     "output_type": "stream",
     "text": [
      "Año                                  1955 \n",
      "Campeón del Oeste       Ft. Wayne Pistons \n",
      "Resultado                             3–4 \n",
      "Campeón del Este      Syracuse Nationals† \n",
      "Ref.                                   24​\n",
      "Name: 5, dtype: object\n"
     ]
    }
   ],
   "source": [
    "\n",
    "\n",
    "print(df.loc[5])"
   ]
  },
  {
   "cell_type": "markdown",
   "metadata": {},
   "source": [
    "## 7.2.4 Obtener solo los primeros 'n' registros\n",
    "\n",
    "Si solo queremos obtener los primeros n registros utilizamos el método:\n",
    "\n",
    "        df.head(n)\n",
    "        \n",
    "### 8. Obtenga los primeros 10 registros de la tabla"
   ]
  },
  {
   "cell_type": "code",
   "execution_count": 48,
   "metadata": {},
   "outputs": [
    {
     "data": {
      "text/html": [
       "<div>\n",
       "<style scoped>\n",
       "    .dataframe tbody tr th:only-of-type {\n",
       "        vertical-align: middle;\n",
       "    }\n",
       "\n",
       "    .dataframe tbody tr th {\n",
       "        vertical-align: top;\n",
       "    }\n",
       "\n",
       "    .dataframe thead th {\n",
       "        text-align: right;\n",
       "    }\n",
       "</style>\n",
       "<table border=\"1\" class=\"dataframe\">\n",
       "  <thead>\n",
       "    <tr style=\"text-align: right;\">\n",
       "      <th></th>\n",
       "      <th>Año</th>\n",
       "      <th>Campeón del Oeste</th>\n",
       "      <th>Resultado</th>\n",
       "      <th>Campeón del Este</th>\n",
       "      <th>Ref.</th>\n",
       "    </tr>\n",
       "  </thead>\n",
       "  <tbody>\n",
       "    <tr>\n",
       "      <th>0</th>\n",
       "      <td>1950</td>\n",
       "      <td>Minneapolis Lakersn. 2​</td>\n",
       "      <td>4–2</td>\n",
       "      <td>Syracuse Nationals†</td>\n",
       "      <td>19​18​</td>\n",
       "    </tr>\n",
       "    <tr>\n",
       "      <th>1</th>\n",
       "      <td>1951</td>\n",
       "      <td>Rochester Royals</td>\n",
       "      <td>4–3</td>\n",
       "      <td>New York Knicks</td>\n",
       "      <td>20​</td>\n",
       "    </tr>\n",
       "    <tr>\n",
       "      <th>2</th>\n",
       "      <td>1952</td>\n",
       "      <td>Minneapolis Lakers</td>\n",
       "      <td>4–3</td>\n",
       "      <td>New York Knicks</td>\n",
       "      <td>21​</td>\n",
       "    </tr>\n",
       "    <tr>\n",
       "      <th>3</th>\n",
       "      <td>1953</td>\n",
       "      <td>Minneapolis Lakers†</td>\n",
       "      <td>4–1</td>\n",
       "      <td>New York Knicks</td>\n",
       "      <td>22​</td>\n",
       "    </tr>\n",
       "    <tr>\n",
       "      <th>4</th>\n",
       "      <td>1954</td>\n",
       "      <td>Minneapolis Lakers†</td>\n",
       "      <td>4–3</td>\n",
       "      <td>Syracuse Nationals</td>\n",
       "      <td>23​</td>\n",
       "    </tr>\n",
       "    <tr>\n",
       "      <th>5</th>\n",
       "      <td>1955</td>\n",
       "      <td>Ft. Wayne Pistons</td>\n",
       "      <td>3–4</td>\n",
       "      <td>Syracuse Nationals†</td>\n",
       "      <td>24​</td>\n",
       "    </tr>\n",
       "    <tr>\n",
       "      <th>6</th>\n",
       "      <td>1956</td>\n",
       "      <td>Ft. Wayne Pistons</td>\n",
       "      <td>1–4</td>\n",
       "      <td>Philadelphia Warriors†</td>\n",
       "      <td>25​</td>\n",
       "    </tr>\n",
       "    <tr>\n",
       "      <th>7</th>\n",
       "      <td>1957</td>\n",
       "      <td>St. Louis Hawks</td>\n",
       "      <td>3–4</td>\n",
       "      <td>Boston Celtics†</td>\n",
       "      <td>26​</td>\n",
       "    </tr>\n",
       "    <tr>\n",
       "      <th>8</th>\n",
       "      <td>1958</td>\n",
       "      <td>St. Louis Hawks</td>\n",
       "      <td>4–2</td>\n",
       "      <td>Boston Celtics†</td>\n",
       "      <td>27​</td>\n",
       "    </tr>\n",
       "    <tr>\n",
       "      <th>9</th>\n",
       "      <td>1959</td>\n",
       "      <td>Minneapolis Lakers</td>\n",
       "      <td>0–4</td>\n",
       "      <td>Boston Celtics†</td>\n",
       "      <td>28​</td>\n",
       "    </tr>\n",
       "  </tbody>\n",
       "</table>\n",
       "</div>"
      ],
      "text/plain": [
       "    Año         Campeón del Oeste  Resultado         Campeón del Este     Ref.\n",
       "0  1950   Minneapolis Lakersn. 2​        4–2      Syracuse Nationals†   19​18​\n",
       "1  1951          Rochester Royals        4–3          New York Knicks      20​\n",
       "2  1952        Minneapolis Lakers        4–3          New York Knicks      21​\n",
       "3  1953       Minneapolis Lakers†        4–1          New York Knicks      22​\n",
       "4  1954       Minneapolis Lakers†        4–3       Syracuse Nationals      23​\n",
       "5  1955         Ft. Wayne Pistons        3–4      Syracuse Nationals†      24​\n",
       "6  1956         Ft. Wayne Pistons        1–4   Philadelphia Warriors†      25​\n",
       "7  1957           St. Louis Hawks        3–4          Boston Celtics†      26​\n",
       "8  1958           St. Louis Hawks        4–2          Boston Celtics†      27​\n",
       "9  1959        Minneapolis Lakers        0–4          Boston Celtics†      28​"
      ]
     },
     "execution_count": 48,
     "metadata": {},
     "output_type": "execute_result"
    }
   ],
   "source": [
    "df.head(10)"
   ]
  },
  {
   "cell_type": "markdown",
   "metadata": {},
   "source": [
    "## 7.2.5 Obtener los últimos 'n' registros\n",
    "\n",
    "Si queremos obtener los últimos n registros utilizamos el método:\n",
    "\n",
    "        df.tail(n)\n",
    "        \n",
    "### 8. Obtenga los últimos 10 registros de la tabla"
   ]
  },
  {
   "cell_type": "code",
   "execution_count": 49,
   "metadata": {},
   "outputs": [
    {
     "data": {
      "text/html": [
       "<div>\n",
       "<style scoped>\n",
       "    .dataframe tbody tr th:only-of-type {\n",
       "        vertical-align: middle;\n",
       "    }\n",
       "\n",
       "    .dataframe tbody tr th {\n",
       "        vertical-align: top;\n",
       "    }\n",
       "\n",
       "    .dataframe thead th {\n",
       "        text-align: right;\n",
       "    }\n",
       "</style>\n",
       "<table border=\"1\" class=\"dataframe\">\n",
       "  <thead>\n",
       "    <tr style=\"text-align: right;\">\n",
       "      <th></th>\n",
       "      <th>Año</th>\n",
       "      <th>Campeón del Oeste</th>\n",
       "      <th>Resultado</th>\n",
       "      <th>Campeón del Este</th>\n",
       "      <th>Ref.</th>\n",
       "    </tr>\n",
       "  </thead>\n",
       "  <tbody>\n",
       "    <tr>\n",
       "      <th>63</th>\n",
       "      <td>2013</td>\n",
       "      <td>San Antonio Spurs</td>\n",
       "      <td>3–4</td>\n",
       "      <td>Miami Heat†</td>\n",
       "      <td>81​</td>\n",
       "    </tr>\n",
       "    <tr>\n",
       "      <th>64</th>\n",
       "      <td>2014</td>\n",
       "      <td>San Antonio Spurs†</td>\n",
       "      <td>4–1</td>\n",
       "      <td>Miami Heat</td>\n",
       "      <td>82​</td>\n",
       "    </tr>\n",
       "    <tr>\n",
       "      <th>65</th>\n",
       "      <td>2015</td>\n",
       "      <td>Golden State Warriors†</td>\n",
       "      <td>4–2</td>\n",
       "      <td>Cleveland Cavaliers</td>\n",
       "      <td>83​</td>\n",
       "    </tr>\n",
       "    <tr>\n",
       "      <th>66</th>\n",
       "      <td>2016</td>\n",
       "      <td>Golden State Warriors†</td>\n",
       "      <td>3–4</td>\n",
       "      <td>Cleveland Cavaliers</td>\n",
       "      <td>84​</td>\n",
       "    </tr>\n",
       "    <tr>\n",
       "      <th>67</th>\n",
       "      <td>2017</td>\n",
       "      <td>Golden State Warriors†</td>\n",
       "      <td>4–1</td>\n",
       "      <td>Cleveland Cavaliers</td>\n",
       "      <td>85​</td>\n",
       "    </tr>\n",
       "    <tr>\n",
       "      <th>68</th>\n",
       "      <td>2018</td>\n",
       "      <td>Golden State Warriors</td>\n",
       "      <td>4–0</td>\n",
       "      <td>Cleveland Cavaliers</td>\n",
       "      <td>86​</td>\n",
       "    </tr>\n",
       "    <tr>\n",
       "      <th>69</th>\n",
       "      <td>2019</td>\n",
       "      <td>Golden State Warriors</td>\n",
       "      <td>2–4</td>\n",
       "      <td>Toronto Raptors</td>\n",
       "      <td>87​</td>\n",
       "    </tr>\n",
       "    <tr>\n",
       "      <th>70</th>\n",
       "      <td>2020</td>\n",
       "      <td>Los Angeles Lakers</td>\n",
       "      <td>4–2</td>\n",
       "      <td>Miami Heat</td>\n",
       "      <td>88​</td>\n",
       "    </tr>\n",
       "    <tr>\n",
       "      <th>71</th>\n",
       "      <td>2021</td>\n",
       "      <td>Phoenix Suns</td>\n",
       "      <td>2–4</td>\n",
       "      <td>Milwaukee Bucks</td>\n",
       "      <td>89​</td>\n",
       "    </tr>\n",
       "    <tr>\n",
       "      <th>72</th>\n",
       "      <td>2022</td>\n",
       "      <td>Golden State Warriors</td>\n",
       "      <td>4–2</td>\n",
       "      <td>Boston Celtics</td>\n",
       "      <td>90​</td>\n",
       "    </tr>\n",
       "  </tbody>\n",
       "</table>\n",
       "</div>"
      ],
      "text/plain": [
       "     Año        Campeón del Oeste  Resultado      Campeón del Este   Ref.\n",
       "63  2013        San Antonio Spurs        3–4           Miami Heat†    81​\n",
       "64  2014       San Antonio Spurs†        4–1            Miami Heat    82​\n",
       "65  2015   Golden State Warriors†        4–2   Cleveland Cavaliers    83​\n",
       "66  2016   Golden State Warriors†        3–4   Cleveland Cavaliers    84​\n",
       "67  2017   Golden State Warriors†        4–1   Cleveland Cavaliers    85​\n",
       "68  2018    Golden State Warriors        4–0   Cleveland Cavaliers    86​\n",
       "69  2019    Golden State Warriors        2–4       Toronto Raptors    87​\n",
       "70  2020       Los Angeles Lakers        4–2            Miami Heat    88​\n",
       "71  2021             Phoenix Suns        2–4       Milwaukee Bucks    89​\n",
       "72  2022    Golden State Warriors        4–2        Boston Celtics   90​ "
      ]
     },
     "execution_count": 49,
     "metadata": {},
     "output_type": "execute_result"
    }
   ],
   "source": [
    "df.tail(10)"
   ]
  },
  {
   "cell_type": "markdown",
   "metadata": {},
   "source": [
    "## 7.3 Construyendo Dataframes desde cero\n",
    "\n",
    "Existen dos formas básicas:\n",
    "\n",
    "1. Construir Dataframes desde diccionarios\n",
    "2. Construir Dataframes desde listas\n",
    "\n",
    "### 7.3.1 Dataframes desde diccionarios\n",
    "\n",
    "Primero se deberá crear el diccionario el cual en sus claves (key), tendrá  los nombres de las columnas, y en sus valores (value), listas con los elementos del dataframe, es decir:\n",
    "\n",
    "    columna1 = lista1\n",
    "    columna2 = lista2\n",
    "    \n",
    "    diccionario = {'Nombre_de_columna1': columna1, 'Nombre_de_columna2': columna2}\n",
    "    \n",
    "    df = pd.dataframe(diccionario\n",
    "    \n",
    "### 9. Invente un ejemplo para ilustrar este caso"
   ]
  },
  {
   "cell_type": "code",
   "execution_count": 3,
   "metadata": {},
   "outputs": [
    {
     "name": "stdout",
     "output_type": "stream",
     "text": [
      "   campos  datos\n",
      "0       1      5\n",
      "1       2      6\n",
      "2       3      7\n",
      "3       4      8\n"
     ]
    }
   ],
   "source": [
    "import pandas as pd\n",
    "\n",
    "columna1 = [1, 2, 3, 4]\n",
    "columna2 = [5, 6, 7, 8]\n",
    "\n",
    "diccionario = {'campos': columna1, 'datos': columna2}\n",
    "\n",
    "df = pd.DataFrame(diccionario)\n",
    "\n",
    "print(df)\n"
   ]
  },
  {
   "cell_type": "markdown",
   "metadata": {},
   "source": [
    "### 7.3.2 Dataframes desde listas\n",
    "\n",
    "En este caso, se crearán 3 listas diferentes: la de los nombres de los índices, la de valores del dataframe, la de los nombres de las columnas. La lista de valores en realidad será una matriz, o lista de listas que contengan los valores:\n",
    "\n",
    "        lista_indices = ['registro_1', 'registro_2',....,'registro_n'\n",
    "        lista_valores = [[valores_columna_1], [valores_columna_2], ...,[valores_columna_n]]\n",
    "        lista_columnas = ['Columna_1', 'Columna_2',....,'Columna_n']\n",
    "        \n",
    "        df = pd.DataFrame(lista_valores, index = lista_indices, columns = lista_columnas)\n",
    "        \n",
    " ### 10. Realice un código que obtenga el siguiente dataframe:\n",
    " \n",
    "       \n",
    "              Antonio  Maria\tPedro    Sara\n",
    "    matematicas \t6\t    7\t  8       10\n",
    "    historia\t    8\t    9\t  5        8\n",
    "    fisica\t       6\t   9\t 7        9\n",
    "    arte           9       10      9      8\n",
    "    inglés         7       8      6       10"
   ]
  },
  {
   "cell_type": "code",
   "execution_count": 10,
   "metadata": {},
   "outputs": [
    {
     "name": "stdout",
     "output_type": "stream",
     "text": [
      "             Antonio  Maria  Pedro  Sara\n",
      "matematicas        6      7      8    10\n",
      "historia           8      9      5     8\n",
      "fisica             6      9      7     9\n",
      "arte               9     10      9     8\n",
      "inglés             7      8      6    10\n"
     ]
    }
   ],
   "source": [
    "import pandas as pd\n",
    "\n",
    "lista_indices = [\"matematicas\", \"historia\", \"fisica\", \"arte\", \"inglés\"]\n",
    "lista_valores = [[6, 7, 8, 10], [8, 9, 5, 8], [\n",
    "    6, 9, 7, 9], [9, 10, 9, 8], [7, 8, 6, 10]]\n",
    "lista_columnas = [\"Antonio\", \"Maria\", \"Pedro\", \"Sara\"]\n",
    "\n",
    "df = pd.DataFrame(lista_valores, columns=lista_columnas, index=lista_indices)\n",
    "\n",
    "print(df)"
   ]
  },
  {
   "cell_type": "markdown",
   "metadata": {},
   "source": [
    "- ¿Cuáles son ls índices de un dataframe? Utilizamos el método index:\n",
    "\n",
    "        df.index\n",
    "        df.index[i]\n"
   ]
  },
  {
   "cell_type": "code",
   "execution_count": 12,
   "metadata": {},
   "outputs": [
    {
     "name": "stdout",
     "output_type": "stream",
     "text": [
      "Index(['matematicas', 'historia', 'fisica', 'arte', 'inglés'], dtype='object')\n"
     ]
    }
   ],
   "source": [
    "# Obtenga todos los índices del ejemplo anterior\n",
    "\n",
    "print(df.index)\n"
   ]
  },
  {
   "cell_type": "code",
   "execution_count": 11,
   "metadata": {},
   "outputs": [
    {
     "name": "stdout",
     "output_type": "stream",
     "text": [
      "matematicas\n"
     ]
    }
   ],
   "source": [
    "# Obtenga el índice del registro 0\n",
    "print(df.index[0])\n"
   ]
  },
  {
   "cell_type": "markdown",
   "metadata": {},
   "source": [
    "## 7.3 Eliminar elementos\n",
    "\n",
    "Para eliminar elementos utilizamos la función $drop()$ que elimina un registro o columna, la sintaxis es la siguiente:\n",
    "\n",
    "        df2 = df.drop('nombre_registro')    #para borrar registros\n",
    "        \n",
    "        df2 = df.drop('nombre_columna', axis = 1)     #para borrar columnas\n",
    "        \n",
    "        \n",
    "\n",
    "### 11. En el dataframe del ejercicio 10 elimine el registro de la materia de inglés, y las calificaciones de Maria. Imprima el dataframe resultante."
   ]
  },
  {
   "cell_type": "code",
   "execution_count": 15,
   "metadata": {},
   "outputs": [
    {
     "name": "stdout",
     "output_type": "stream",
     "text": [
      "             Antonio  Maria  Pedro  Sara\n",
      "matematicas        6      7      8    10\n",
      "historia           8      9      5     8\n",
      "fisica             6      9      7     9\n",
      "arte               9     10      9     8\n",
      "inglés             7      8      6    10\n",
      "             Antonio  Pedro  Sara\n",
      "matematicas        6      8    10\n",
      "historia           8      5     8\n",
      "fisica             6      7     9\n",
      "arte               9      9     8\n"
     ]
    }
   ],
   "source": [
    "import pandas as pd\n",
    "\n",
    "lista_indices = [\"matematicas\", \"historia\", \"fisica\", \"arte\", \"inglés\"]\n",
    "lista_valores = [[6, 7, 8, 10], [8, 9, 5, 8], [\n",
    "    6, 9, 7, 9], [9, 10, 9, 8], [7, 8, 6, 10]]\n",
    "lista_columnas = [\"Antonio\", \"Maria\", \"Pedro\", \"Sara\"]\n",
    "\n",
    "df = pd.DataFrame(lista_valores, columns=lista_columnas, index=lista_indices)\n",
    "\n",
    "df2 = df.drop(\"Maria\", axis=1)\n",
    "df2 = df2.drop(\"inglés\")\n",
    "\n",
    "\n",
    "print(df)\n",
    "print(df2)"
   ]
  },
  {
   "cell_type": "markdown",
   "metadata": {},
   "source": [
    "## 7.4 Seleccionar datos\n",
    "\n",
    "Para seleccionar ciertos datos se utilizan los corchetes y el nombre de las columnas o de los registros.\n",
    "\n",
    "- Para seleccionar un dato de las series la sintaxis es:\n",
    "\n",
    "        serie['nombre_registro']     # nombre_registro también equivale al índice \n",
    "        \n",
    "- Para seleccionar una columna de los dataframes la sintaxis es:\n",
    "\n",
    "        df['columna']\n",
    "        \n",
    "- Para seleccionar un dato individual de los dataframes la sintaxis es:\n",
    "\n",
    "        df['renglon']['columna']\n",
    "        \n",
    "- Para seleccionar un dos columnas específicas: \n",
    "        \n",
    "         df[['columna1', 'columna2']]\n",
    "         \n",
    "- Para seleccionar un rango de columnas y todos los renglones, se utiliza loc o iloc:\n",
    "        \n",
    "        - df.loc[ : , 'columna1':'columna2']  #Nombres de las columnas\n",
    "        - df.iloc[ : , columna1 : columna2]   #Números de las columnas \n",
    " \n",
    "- Para seleccionar un rango de renglones y todos las columnas, se utiliza loc o iloc:\n",
    "        \n",
    "        - df.loc['renglon1':'renglon2', :] #Nombres de los renglones\n",
    "        - df.iloc[renglon1 : renglon, :]   #Números de los renglones\n",
    "        \n",
    "- Para seleccionar columnas o filas específicas que no están dentro de un rango, use una lista:\n",
    "\n",
    "\n",
    "        - df.loc['renglon1':'renglon4',['columna1','columna3']]\n",
    "        - df.iloc[1:4, [1,3]]\n",
    "        \n",
    "- Para seleccionar aquellos registros donde los valores de la columna 2 sean mayores que 8:\n",
    "\n",
    "        - df[df['columna2'] > 8]\n",
    "\n",
    "- Para cambiar los datos bajo una condición:\n",
    "\n",
    "        - df[df['columna2'] > 8] = 10"
   ]
  },
  {
   "cell_type": "markdown",
   "metadata": {},
   "source": [
    "### 12. Ejecute de nuevo el ejercicio 10 y realice el código a continuación:\n"
   ]
  },
  {
   "cell_type": "code",
   "execution_count": 4,
   "metadata": {},
   "outputs": [
    {
     "name": "stdout",
     "output_type": "stream",
     "text": [
      "matematicas    8\n",
      "historia       5\n",
      "fisica         7\n",
      "arte           9\n",
      "inglés         6\n",
      "Name: Pedro, dtype: int64\n"
     ]
    }
   ],
   "source": [
    "#12.1 Seleccione las calificaciones de Pedro\n",
    "import pandas as pd\n",
    "\n",
    "lista_indices = [\"matematicas\", \"historia\", \"fisica\", \"arte\", \"inglés\"]\n",
    "lista_valores = [[6, 7, 8, 10], [8, 9, 5, 8], [\n",
    "    6, 9, 7, 9], [9, 10, 9, 8], [7, 8, 6, 10]]\n",
    "lista_columnas = [\"Antonio\", \"Maria\", \"Pedro\", \"Sara\"]\n",
    "\n",
    "df = pd.DataFrame(lista_valores, columns=lista_columnas, index=lista_indices)\n",
    "\n",
    "calificaciones_pedro = df[\"Pedro\"]\n",
    "print(calificaciones_pedro)"
   ]
  },
  {
   "cell_type": "code",
   "execution_count": 20,
   "metadata": {},
   "outputs": [
    {
     "name": "stdout",
     "output_type": "stream",
     "text": [
      "6\n"
     ]
    }
   ],
   "source": [
    "#12.2 Seleccione la calificación de matemáticas de Antonio\n",
    "import pandas as pd\n",
    "\n",
    "lista_indices = [\"matematicas\", \"historia\", \"fisica\", \"arte\", \"inglés\"]\n",
    "lista_valores = [[6, 7, 8, 10], [8, 9, 5, 8], [\n",
    "    6, 9, 7, 9], [9, 10, 9, 8], [7, 8, 6, 10]]\n",
    "lista_columnas = [\"Antonio\", \"Maria\", \"Pedro\", \"Sara\"]\n",
    "\n",
    "df = pd.DataFrame(lista_valores, columns=lista_columnas, index=lista_indices)\n",
    "\n",
    "calificacion_matematicas_antonio = df.loc[\"matematicas\"][\"Antonio\"]\n",
    "\n",
    "print(calificacion_matematicas_antonio)"
   ]
  },
  {
   "cell_type": "code",
   "execution_count": 19,
   "metadata": {},
   "outputs": [
    {
     "name": "stdout",
     "output_type": "stream",
     "text": [
      "             Antonio  Sara\n",
      "matematicas        6    10\n",
      "historia           8     8\n",
      "fisica             6     9\n",
      "arte               9     8\n",
      "inglés             7    10\n"
     ]
    }
   ],
   "source": [
    "#12.3 Seleccione sólo las calificaciones de Antonio y Sara\n",
    "import pandas as pd\n",
    "\n",
    "lista_indices = [\"matematicas\", \"historia\", \"fisica\", \"arte\", \"inglés\"]\n",
    "lista_valores = [[6, 7, 8, 10], [8, 9, 5, 8], [\n",
    "    6, 9, 7, 9], [9, 10, 9, 8], [7, 8, 6, 10]]\n",
    "lista_columnas = [\"Antonio\", \"Maria\", \"Pedro\", \"Sara\"]\n",
    "\n",
    "df = pd.DataFrame(lista_valores, columns=lista_columnas, index=lista_indices)\n",
    "\n",
    "print(df[[\"Antonio\", \"Sara\"]])"
   ]
  },
  {
   "cell_type": "code",
   "execution_count": 31,
   "metadata": {},
   "outputs": [
    {
     "name": "stdout",
     "output_type": "stream",
     "text": [
      "             Maria  Pedro  Sara\n",
      "matematicas      7      8    10\n",
      "historia         9      5     8\n",
      "fisica           9      7     9\n",
      "arte            10      9     8\n",
      "inglés           8      6    10\n"
     ]
    }
   ],
   "source": [
    "#12.4 Seleccione las calificaciones desde María\n",
    "import pandas as pd\n",
    "\n",
    "lista_indices = [\"matematicas\", \"historia\", \"fisica\", \"arte\", \"inglés\"]\n",
    "lista_valores = [[6, 7, 8, 10], [8, 9, 5, 8], [\n",
    "    6, 9, 7, 9], [9, 10, 9, 8], [7, 8, 6, 10]]\n",
    "lista_columnas = [\"Antonio\", \"Maria\", \"Pedro\", \"Sara\"]\n",
    "\n",
    "df = pd.DataFrame(lista_valores, columns=lista_columnas, index=lista_indices)\n",
    "\n",
    "maria_calificaciones = df.iloc[0:, 1:]\n",
    "\n",
    "\n",
    "print(maria_calificaciones)"
   ]
  },
  {
   "cell_type": "code",
   "execution_count": 42,
   "metadata": {},
   "outputs": [
    {
     "name": "stdout",
     "output_type": "stream",
     "text": [
      "        Antonio  Maria  Pedro  Sara\n",
      "fisica        6      9      7     9\n",
      "arte          9     10      9     8\n",
      "inglés        7      8      6    10\n"
     ]
    }
   ],
   "source": [
    "#12.5 Seleccione las calificaciones desde física\n",
    "\n",
    "print(df.iloc[2:,0:])\n",
    "\n"
   ]
  },
  {
   "cell_type": "code",
   "execution_count": 8,
   "metadata": {},
   "outputs": [
    {
     "name": "stdout",
     "output_type": "stream",
     "text": [
      "          Maria  Pedro\n",
      "historia      9      5\n",
      "fisica        9      7\n"
     ]
    }
   ],
   "source": [
    "# 12.6 Seleccione las calificaciones de historia y física de María y Pedro\n",
    "\n",
    "print(df.iloc[1:3, 1:3])\n"
   ]
  },
  {
   "cell_type": "code",
   "execution_count": 3,
   "metadata": {},
   "outputs": [
    {
     "name": "stdout",
     "output_type": "stream",
     "text": [
      "historia     9\n",
      "fisica       9\n",
      "arte        10\n",
      "Name: Maria, dtype: int64\n"
     ]
    }
   ],
   "source": [
    "#12.7 Despliegue las calificaciones de María que son mayores a 8\n",
    "import pandas as pd\n",
    "\n",
    "lista_indices = [\"matematicas\", \"historia\", \"fisica\", \"arte\", \"inglés\"]\n",
    "lista_valores = [[6, 7, 8, 10], [8, 9, 5, 8], [\n",
    "    6, 9, 7, 9], [9, 10, 9, 8], [7, 8, 6, 10]]\n",
    "lista_columnas = [\"Antonio\", \"Maria\", \"Pedro\", \"Sara\"]\n",
    "\n",
    "df = pd.DataFrame(lista_valores, columns=lista_columnas, index=lista_indices)\n",
    "\n",
    "print(df.loc[:, \"Maria\"][df.loc[:, \"Maria\"] > 8])"
   ]
  },
  {
   "cell_type": "code",
   "execution_count": 11,
   "metadata": {},
   "outputs": [
    {
     "name": "stdout",
     "output_type": "stream",
     "text": [
      "             Antonio  Maria  Pedro  Sara\n",
      "matematicas        6      7      8    10\n",
      "historia           8      9      5     8\n",
      "fisica             6      9      7     9\n",
      "arte               9     10      9     8\n",
      "inglés             7      8      6    10\n",
      "             Antonio  Maria  Pedro  Sara\n",
      "matematicas        6      7      8    10\n",
      "historia           8      9     10     8\n",
      "fisica             6      9      7     9\n",
      "arte               9     10      9     8\n",
      "inglés             7      8     10    10\n"
     ]
    }
   ],
   "source": [
    "#12.8 Cambie a 10 las calificaciones de Pedro que sean menores de 7\n",
    "import pandas as pd\n",
    "\n",
    "lista_indices = [\"matematicas\", \"historia\", \"fisica\", \"arte\", \"inglés\"]\n",
    "lista_valores = [[6, 7, 8, 10], [8, 9, 5, 8], [\n",
    "    6, 9, 7, 9], [9, 10, 9, 8], [7, 8, 6, 10]]\n",
    "lista_columnas = [\"Antonio\", \"Maria\", \"Pedro\", \"Sara\"]\n",
    "\n",
    "df = pd.DataFrame(lista_valores, columns=lista_columnas, index=lista_indices)\n",
    "print(df)\n",
    "\n",
    "df.loc[df[\"Pedro\"] < 7, \"Pedro\"] = 10\n",
    "\n",
    "print(df)\n"
   ]
  },
  {
   "cell_type": "markdown",
   "metadata": {},
   "source": [
    "## 7.5 Suma de Dataframes\n",
    "\n",
    "Ejecute el siguiente código para crear dos dataframes:"
   ]
  },
  {
   "cell_type": "code",
   "execution_count": 18,
   "metadata": {},
   "outputs": [
    {
     "name": "stdout",
     "output_type": "stream",
     "text": [
      "   1  2\n",
      "a  0  1\n",
      "b  2  3\n",
      "\n",
      "   1  2  3\n",
      "a  0  1  2\n",
      "b  3  4  5\n",
      "c  6  7  8\n"
     ]
    }
   ],
   "source": [
    "#Crear 2 dataframes\n",
    "\n",
    "import numpy as np\n",
    "\n",
    "#Dataframe1\n",
    "\n",
    "df1 = pd.DataFrame(np.arange(4).reshape(2,2), index=list('ab'), columns=list('12'))\n",
    "print(df1)\n",
    "\n",
    "print()\n",
    "\n",
    "#Dataframe2\n",
    "\n",
    "df2 = pd.DataFrame(np.arange(9).reshape(3,3), index=list('abc'), columns=list('123'))\n",
    "print(df2)"
   ]
  },
  {
   "cell_type": "markdown",
   "metadata": {},
   "source": [
    "Sume los dos dataframes e imprima el dataframe resultante:\n",
    "\n",
    "    df3 = df1 + df2 \n",
    "    \n",
    "### 13. Explique el resultado que se obtiene"
   ]
  },
  {
   "cell_type": "code",
   "execution_count": 32,
   "metadata": {},
   "outputs": [
    {
     "name": "stdout",
     "output_type": "stream",
     "text": [
      "     1    2   3\n",
      "a  0.0  2.0 NaN\n",
      "b  5.0  7.0 NaN\n",
      "c  NaN  NaN NaN\n"
     ]
    }
   ],
   "source": [
    "df3 = df1 + df2\n",
    "print(df3)\n",
    "\n",
    "#      1    2   3\n",
    "# a  0.0  2.0 NaN\n",
    "# b  5.0  7.0 NaN\n",
    "# c  NaN  NaN NaN\n",
    "\n",
    "#Esto pasa por que se estan sumando datos numerimos con datos que no son definidos\n",
    "#Esto provoca un error devolviendo un NAN (Not a Number)\n",
    "\n"
   ]
  }
 ],
 "metadata": {
  "kernelspec": {
   "display_name": "Python 3",
   "language": "python",
   "name": "python3"
  },
  "language_info": {
   "codemirror_mode": {
    "name": "ipython",
    "version": 3
   },
   "file_extension": ".py",
   "mimetype": "text/x-python",
   "name": "python",
   "nbconvert_exporter": "python",
   "pygments_lexer": "ipython3",
   "version": "3.10.9"
  },
  "vscode": {
   "interpreter": {
    "hash": "34c967ba3987e07fb7b28f6794edadae7e6af108e1257cc6f54379ffa691cdee"
   }
  }
 },
 "nbformat": 4,
 "nbformat_minor": 2
}
