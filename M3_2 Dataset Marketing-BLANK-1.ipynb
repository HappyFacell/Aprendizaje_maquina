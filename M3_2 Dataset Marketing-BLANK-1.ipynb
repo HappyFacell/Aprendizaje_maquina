{
 "cells": [
  {
   "cell_type": "markdown",
   "id": "bb86b51b",
   "metadata": {},
   "source": [
    "# M3_2 Limpieza de Datasets, Marketing"
   ]
  },
  {
   "cell_type": "markdown",
   "id": "37d35830",
   "metadata": {},
   "source": [
    "Es una serie de clientes de un banco que se pretende segmentar por grupos. En este caso no tenemos salida Y, sólo nuestra matriz de features que deberemos limpiar y escalar al final."
   ]
  },
  {
   "cell_type": "markdown",
   "id": "9638a2a4",
   "metadata": {},
   "source": [
    "## 1. Leer el dataset y desplegar la información"
   ]
  },
  {
   "cell_type": "code",
   "execution_count": null,
   "id": "236dd145",
   "metadata": {},
   "outputs": [],
   "source": [
    "#Importar las librerías que usaremos\n",
    "import pandas as pd\n",
    "import numpy as np\n",
    "import seaborn as sns\n",
    "import matplotlib.pyplot as plt\n",
    "from sklearn.preprocessing import StandardScaler\n"
   ]
  },
  {
   "cell_type": "code",
   "execution_count": null,
   "id": "701493e5",
   "metadata": {},
   "outputs": [],
   "source": [
    "#Leer dataset\n"
   ]
  },
  {
   "cell_type": "markdown",
   "id": "0c70bea5",
   "metadata": {},
   "source": [
    "### Descripción de los features\n",
    "\n",
    "- CUSTID: Identificación del titular de la tarjeta de crédito\n",
    "- BALANCE: Cantidad de saldo que queda en la cuenta del cliente para hacer compras\n",
    "- BALANCE_FREQUENCY: Frecuencia de la actualización del saldo, puntuación entre 0 y 1 (1 = actualizado con frecuencia, 0 = no actualizado con frecuencia)\n",
    "- PURCHASES: Cantidad de compras realizadas desde la cuenta\n",
    "- ONEOFFPURCHASES: Importe máximo de compra realizado en una sola vez\n",
    "- INSTALLMENTS_PURCHASES: Importe de la compra realizada en cuotas\n",
    "- CASH_ADVANCE: Anticipo otorgado al usuario\n",
    "- PURCHASES_FREQUENCY: frecuencia con la que se realizan las compras, puntuación entre 0 y 1 (1 = compras frecuentes, 0 = compras no frecuentes)\n",
    "- PURCHASES_FREQUENCY: Frecuencia de las Compras se están realizando, puntuación entre 0 y 1 (1 = compra con frecuencia, 0 = no compra con frecuencia)\n",
    "- ONEOFF_PURCHASES_FREQUENCY: Con qué frecuencia las compras se realizan de una sola vez (1 = compra con frecuencia, 0 = no compra con frecuencia)\n",
    "- PURCHASES_INSTALLMENTS_FREQUENCY: Con qué frecuencia se realizan las compras a plazos (1 = se realizan con frecuencia, 0 = no se realizan con frecuencia)\n",
    "- CASH_ADVANCE_FREQUENCY: con qué frecuencia el gasto se paga por adelantado\n",
    "- CASH_ADVANCE_TRX: número de transacciones realizadas con \"Efectivo por adelantado\"\n",
    "- PURCHASES_TRX: número de transacciones de compras realizadas\n",
    "- CREDIT_LIMIT: límite de tarjeta de crédito para el usuario\n",
    "- PAYMENTS: Número de pagos realizados por el usuario\n",
    "- MINIMUM_PAYMENTS: cantidad mínima de pagos realizados por el usuario\n",
    "- PRC_FULL_PAYMENT: porcentaje del pago total pagado por el usuario\n",
    "- TENURE: Años que el usuario lleva usando el servicio de tarjeta de crédito"
   ]
  },
  {
   "cell_type": "code",
   "execution_count": null,
   "id": "51d7dd44",
   "metadata": {},
   "outputs": [],
   "source": [
    "#Revisar si tiene datos nulos\n"
   ]
  },
  {
   "cell_type": "code",
   "execution_count": null,
   "id": "62a192c0",
   "metadata": {},
   "outputs": [],
   "source": [
    "#Entender los datos promedios del dataset\n"
   ]
  },
  {
   "cell_type": "code",
   "execution_count": null,
   "id": "e5e340c6",
   "metadata": {},
   "outputs": [],
   "source": [
    "#Hacer tus anotaciones de acuerdo a los promedios que se despliegan\n",
    "\n",
    "\n"
   ]
  },
  {
   "cell_type": "code",
   "execution_count": null,
   "id": "364810a9",
   "metadata": {},
   "outputs": [],
   "source": [
    "#Vamos a investigar quién ha hecho una compra de 40761 en 'ONEOFF_PURCHASES'\n"
   ]
  },
  {
   "cell_type": "code",
   "execution_count": null,
   "id": "3d1a9b6d",
   "metadata": {},
   "outputs": [],
   "source": [
    "#Cuánto es el monto máximo de 'CASH_ADVANCE'\n",
    "\n"
   ]
  },
  {
   "cell_type": "code",
   "execution_count": null,
   "id": "20b1a851",
   "metadata": {},
   "outputs": [],
   "source": [
    "#Vamos a ver quien pagó por anticipado ese monto máximo en 'CASH_ADVANCE'\n"
   ]
  },
  {
   "cell_type": "markdown",
   "id": "48de5b4b",
   "metadata": {},
   "source": [
    "# 2. Visualización del Dataset y asignar valores a los datos faltantes"
   ]
  },
  {
   "cell_type": "code",
   "execution_count": null,
   "id": "e7ccc6d9",
   "metadata": {},
   "outputs": [],
   "source": [
    "#Comprobemos si tenemos datos faltantes gráficamente\n",
    "sns.heatmap(df_banco.isnull(), yticklabels = False, cbar = False, cmap = \"Blues\")"
   ]
  },
  {
   "cell_type": "code",
   "execution_count": null,
   "id": "e8ff78e3",
   "metadata": {},
   "outputs": [],
   "source": [
    "#Contar cuántos datos nulos tenemos en cada columna\n"
   ]
  },
  {
   "cell_type": "code",
   "execution_count": null,
   "id": "17e6c980",
   "metadata": {},
   "outputs": [],
   "source": [
    "#Vamos a rellenar los datos faltantes con el promedio del feature 'MINIMUM_PAYMENTS'\n"
   ]
  },
  {
   "cell_type": "code",
   "execution_count": null,
   "id": "10c23805",
   "metadata": {},
   "outputs": [],
   "source": [
    "#Vamos a rellenar los datos faltantes con el promedio del feature 'CREDIT_LIMIT'\n"
   ]
  },
  {
   "cell_type": "code",
   "execution_count": null,
   "id": "30638d63",
   "metadata": {},
   "outputs": [],
   "source": [
    "#Comprobemos otra vez si tenemos datos faltantes de forma gráfica\n",
    "sns.heatmap(df_banco.isnull(), yticklabels = False, cbar = False, cmap = \"Blues\")"
   ]
  },
  {
   "cell_type": "code",
   "execution_count": null,
   "id": "550573ec",
   "metadata": {},
   "outputs": [],
   "source": [
    "# Verifiquemos si tenemos entradas duplicadas en nuestros datos \n"
   ]
  },
  {
   "cell_type": "code",
   "execution_count": null,
   "id": "4621abd5",
   "metadata": {},
   "outputs": [],
   "source": [
    "# Borar el feature 'CUST_ID'\n"
   ]
  },
  {
   "cell_type": "code",
   "execution_count": null,
   "id": "7afd02e0",
   "metadata": {},
   "outputs": [],
   "source": [
    "df_banco.head()"
   ]
  },
  {
   "cell_type": "code",
   "execution_count": null,
   "id": "63a20aa9",
   "metadata": {},
   "outputs": [],
   "source": [
    "#Contar el número de columnas\n",
    "\n"
   ]
  },
  {
   "cell_type": "code",
   "execution_count": null,
   "id": "3d5d8d48",
   "metadata": {},
   "outputs": [],
   "source": [
    "#Obtener la matriz de correlaciones  y su gráfica de heatmaps\n",
    "\n"
   ]
  },
  {
   "cell_type": "markdown",
   "id": "1cb4707f",
   "metadata": {},
   "source": [
    "# 3. Escalar el dataset y obtener la matriz X"
   ]
  },
  {
   "cell_type": "code",
   "execution_count": null,
   "id": "f46d7019",
   "metadata": {},
   "outputs": [],
   "source": [
    "#Escalar el dataset utilizando la función Standard Scaler\n",
    "X"
   ]
  }
 ],
 "metadata": {
  "kernelspec": {
   "display_name": "Python 3 (ipykernel)",
   "language": "python",
   "name": "python3"
  },
  "language_info": {
   "codemirror_mode": {
    "name": "ipython",
    "version": 3
   },
   "file_extension": ".py",
   "mimetype": "text/x-python",
   "name": "python",
   "nbconvert_exporter": "python",
   "pygments_lexer": "ipython3",
   "version": "3.9.12"
  }
 },
 "nbformat": 4,
 "nbformat_minor": 5
}
