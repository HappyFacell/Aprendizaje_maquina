{
 "cells": [
  {
   "cell_type": "markdown",
   "metadata": {},
   "source": [
    "# M4.1.2 Incidence AIDS cases, polynomial regression\n",
    "\n",
    "This dataset is formed by one feature (time), and one output (number of cases). We are going to use this data to show how to use a polynomial regression.\n",
    "\n",
    "The steps to follow are:\n",
    "1. Read the data and save the input in 'x' array and the output in 'y' array.\n",
    "2. Plot 'x' vs 'y' to observe the output behavior\n",
    "3. Obtain the linear model calculating W0 and w1 coefficients, the cost parameter, and plot the output obtained (yt) vs the output (y).\n",
    "4. Add a second order feature ($x^2$), obtain the X matrix adding the 'Bias' feature (ones column), and calculate the vector W using the closed-form solution.\n",
    "5. Calculate the cost function and plot the estimation."
   ]
  },
  {
   "cell_type": "code",
   "execution_count": null,
   "metadata": {},
   "outputs": [],
   "source": [
    "#1. Read data\n",
    "import numpy as np\n",
    "import pandas as pd\n",
    "import matplotlib.pyplot as plt\n",
    "from numpy.linalg import pinv\n",
    "import math\n",
    "\n"
   ]
  },
  {
   "cell_type": "code",
   "execution_count": null,
   "metadata": {},
   "outputs": [],
   "source": [
    "#2. Plot data\n"
   ]
  },
  {
   "cell_type": "code",
   "execution_count": null,
   "metadata": {},
   "outputs": [],
   "source": [
    "#Cost function\n"
   ]
  },
  {
   "cell_type": "code",
   "execution_count": null,
   "metadata": {},
   "outputs": [],
   "source": [
    "#3. Obtain a w0 and w1 for a linear regression and calculate yt = w0 + w1*x\n"
   ]
  },
  {
   "cell_type": "markdown",
   "metadata": {},
   "source": [
    "### Polynomial function\n",
    "We can add more powers to X to get a polynomial function: $$f(X,W) = \\sum_{k=0}^{K}w_k x^k$$"
   ]
  },
  {
   "cell_type": "code",
   "execution_count": null,
   "metadata": {},
   "outputs": [],
   "source": []
  },
  {
   "cell_type": "code",
   "execution_count": null,
   "metadata": {},
   "outputs": [],
   "source": [
    "#4. Polynomial features\n"
   ]
  },
  {
   "cell_type": "code",
   "execution_count": null,
   "metadata": {},
   "outputs": [],
   "source": [
    "#Calculate W Closed-form solution\n"
   ]
  },
  {
   "cell_type": "code",
   "execution_count": null,
   "metadata": {},
   "outputs": [],
   "source": [
    "#Prediction\n"
   ]
  },
  {
   "cell_type": "code",
   "execution_count": null,
   "metadata": {},
   "outputs": [],
   "source": [
    "#Cubic model \n"
   ]
  },
  {
   "cell_type": "markdown",
   "metadata": {},
   "source": [
    "### Non-polynomial function\n",
    "\n",
    "The linear regression is not restricted to polynomial functions:\n",
    "\n",
    "\n",
    "$$f(X,W) = w_0 + w_1 x + w_2 x^2 + w_3 sin\\left(\\frac{x-a}{b}\\right)$$\n",
    "\n",
    "donde a = 10, y b = 20"
   ]
  },
  {
   "cell_type": "code",
   "execution_count": null,
   "metadata": {},
   "outputs": [],
   "source": [
    "#Non-polynomial function \n",
    "\n"
   ]
  },
  {
   "cell_type": "markdown",
   "metadata": {},
   "source": [
    "## Tarea\n",
    "\n",
    "Del Notebook anterior, el 4_1_1, tomar la dos columnas de los datos de Housing. Son los datos adjuntos en CANVAS. \n",
    "\n",
    "1. Implementar la regresión polinomial, agregando potencias a x hasta el 4o grado\n",
    "2. De cada grado calcular el MSE\n",
    "3. Comparar los resultados del MSE obtenidos. ¿Se disminuye el error? Escribe tus observaciones"
   ]
  },
  {
   "cell_type": "code",
   "execution_count": null,
   "metadata": {},
   "outputs": [],
   "source": []
  }
 ],
 "metadata": {
  "kernelspec": {
   "display_name": "Python 3 (ipykernel)",
   "language": "python",
   "name": "python3"
  },
  "language_info": {
   "codemirror_mode": {
    "name": "ipython",
    "version": 3
   },
   "file_extension": ".py",
   "mimetype": "text/x-python",
   "name": "python",
   "nbconvert_exporter": "python",
   "pygments_lexer": "ipython3",
   "version": "3.9.12"
  }
 },
 "nbformat": 4,
 "nbformat_minor": 2
}
