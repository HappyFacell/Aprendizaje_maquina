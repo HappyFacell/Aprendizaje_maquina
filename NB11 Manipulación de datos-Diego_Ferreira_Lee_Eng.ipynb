{
 "cells": [
  {
   "cell_type": "markdown",
   "metadata": {},
   "source": [
    "# 11. Manipulación de datos\n",
    "\n",
    "En Aprendizaje Automático es muy importante manipular las bases de datos. El éxito de un buen aprendizaje radica en la calidad de la base de datos que se tenga. En este documento explicaremos algunas funciones útiles para manipular datos."
   ]
  },
  {
   "cell_type": "code",
   "execution_count": 1,
   "metadata": {},
   "outputs": [],
   "source": [
    "#Importar librería de pandas\n",
    "\n",
    "import pandas as pd"
   ]
  },
  {
   "cell_type": "markdown",
   "metadata": {},
   "source": [
    "## 11.1 Unión de dataframes\n",
    "\n",
    "Crearemos dos dataframes que compartan una columna y después las uniremos utilizando la función $merge()$:\n",
    "\n",
    "1. Detecta automáticamente cual es la columna que se comparte y sólo tomará aquéllos valores compartidos:\n",
    "\n",
    "        - pd.DataFrame.merge(df1, df2)   \n",
    "    \n",
    "2. Se define sobre qué columna unir los dataframes:\n",
    "\n",
    "        - pd.DataFrame.merge(df1, df2, on = 'columna') \n",
    "        \n",
    "3. Se define sobre qué columna unir los dataframes y además priorizar las columnas del lado izquierdo o del lado derecho correspondientes a los dataframes:\n",
    "\n",
    "        - pd.DataFrame.merge(df1, df2, on = 'columna', how = 'left') \n",
    "        - pd.DataFrame.merge(df1, df2, on = 'columna', how = 'right') \n",
    "\n",
    "4. Se define sobre qué columna unir los dataframes y se incluyen todos los datos de los dos dataframes:\n",
    "\n",
    "        - pd.DataFrame.merge(df1, df2, on = 'columna', how = 'outer') "
   ]
  },
  {
   "cell_type": "code",
   "execution_count": 2,
   "metadata": {},
   "outputs": [
    {
     "name": "stdout",
     "output_type": "stream",
     "text": [
      "  c1 clave\n",
      "0  1     a\n",
      "1  2     b\n",
      "2  3     c\n",
      "  c2 clave\n",
      "0  4     c\n",
      "1  5     b\n",
      "2  6     e\n"
     ]
    }
   ],
   "source": [
    "#Crear 2 dataframes\n",
    "\n",
    "df1 = pd.DataFrame({'c1': ['1', '2', '3'], 'clave':['a', 'b', 'c']})\n",
    "print(df1)\n",
    "\n",
    "df2 = pd.DataFrame({'c2':['4', '5', '6'], 'clave': ['c', 'b', 'e']})\n",
    "print(df2)\n"
   ]
  },
  {
   "cell_type": "markdown",
   "metadata": {},
   "source": [
    "### 1. Utilizar la función merge() en sus 4 formas explicadas con df1 y df2."
   ]
  },
  {
   "cell_type": "code",
   "execution_count": 5,
   "metadata": {},
   "outputs": [
    {
     "name": "stdout",
     "output_type": "stream",
     "text": [
      "    c1 clave   c2\n",
      "0    1     a  NaN\n",
      "1    2     b    5\n",
      "2    3     c    4\n",
      "3  NaN     e    6\n"
     ]
    }
   ],
   "source": [
    "df3 = pd.DataFrame.merge(df1, df2, on='clave', how='outer')\n",
    "print(df3)\n"
   ]
  },
  {
   "cell_type": "markdown",
   "metadata": {},
   "source": [
    "## 11.2 Concatenación de datos\n",
    "\n",
    "A veces es necesario, manipular los datos y guardarlos en un array para ser manipulados posteriormente por los algoritmos de aprendizaje automático."
   ]
  },
  {
   "cell_type": "code",
   "execution_count": 6,
   "metadata": {},
   "outputs": [],
   "source": [
    "#Importar la librería numpy\n",
    "import numpy as np"
   ]
  },
  {
   "cell_type": "markdown",
   "metadata": {},
   "source": [
    "### 11.2.1 Concatenar arrays\n",
    "\n",
    "Para concatenar arreglos tipo numpy utilizamos la función concatenate():\n",
    "\n",
    "    matriz = np.concatenate([array1, array2])              #concatena de forma vertical\n",
    "    matriz = np.concatenate([array1, array2], axis = 1)    #concatena de forma horizontal\n",
    "    \n",
    "### 2. Concatena la siguiente matriz de (3x3) dos veces utilizando la función concatenate() de numpy."
   ]
  },
  {
   "cell_type": "code",
   "execution_count": 9,
   "metadata": {},
   "outputs": [
    {
     "name": "stdout",
     "output_type": "stream",
     "text": [
      "[[0 1 2]\n",
      " [3 4 5]\n",
      " [6 7 8]]\n",
      "[[10 11 12]\n",
      " [13 14 15]\n",
      " [16 17 18]]\n"
     ]
    }
   ],
   "source": [
    "#Crear una matriz de 3x3, donde sus elementos sean del 0 al 9\n",
    "\n",
    "array1 = np.arange(9).reshape(3,3)\n",
    "\n",
    "array2 = np.arange(10,19).reshape(3,3)\n",
    "\n",
    "print(array1)\n",
    "print(array2)"
   ]
  },
  {
   "cell_type": "code",
   "execution_count": 11,
   "metadata": {},
   "outputs": [
    {
     "name": "stdout",
     "output_type": "stream",
     "text": [
      "[[ 0  1  2]\n",
      " [ 3  4  5]\n",
      " [ 6  7  8]\n",
      " [10 11 12]\n",
      " [13 14 15]\n",
      " [16 17 18]]\n"
     ]
    }
   ],
   "source": [
    "#Concatenación vertical\n",
    "matriz = np.concatenate([array1, array2])\n",
    "\n",
    "print(matriz)"
   ]
  },
  {
   "cell_type": "code",
   "execution_count": 13,
   "metadata": {},
   "outputs": [
    {
     "name": "stdout",
     "output_type": "stream",
     "text": [
      "[[ 0  1  2 10 11 12]\n",
      " [ 3  4  5 13 14 15]\n",
      " [ 6  7  8 16 17 18]]\n"
     ]
    }
   ],
   "source": [
    "# Concatenación horizontal\n",
    "matriz = np.concatenate([array1, array2], axis=1)\n",
    "print(matriz)\n"
   ]
  },
  {
   "cell_type": "markdown",
   "metadata": {},
   "source": [
    "### 11.2.2 Concatenar Dataframes\n",
    "\n",
    "Para concatenar DFs utilizamos la función concat():\n",
    "\n",
    "    df3 = pd.concat([df1, df2])    #concatena de forma vertical y conserva los índices\n",
    "    df3 = pd.concat([df1, df2], ignore_index = True)    #concatena de forma vertical ignorando los índices\n",
    "    \n",
    "### 3. Concatena los siguientes DFs dos veces utilizando la función concat() de pandas"
   ]
  },
  {
   "cell_type": "code",
   "execution_count": 14,
   "metadata": {},
   "outputs": [
    {
     "name": "stdout",
     "output_type": "stream",
     "text": [
      "          a         b         c\n",
      "0  0.160321  0.478743  0.597957\n",
      "1  0.974334  0.013990  0.534157\n",
      "2  0.993237  0.917239  0.839520\n",
      "          a         b         c\n",
      "0  0.023940  0.288345  0.159451\n",
      "1  0.656443  0.213021  0.631243\n"
     ]
    }
   ],
   "source": [
    "#Crear dataframes\n",
    "import pandas as pd\n",
    "\n",
    "df1 = pd.DataFrame(np.random.rand(3,3), columns = ['a','b','c'])\n",
    "df2 = pd.DataFrame(np.random.rand(2,3), columns = ['a','b','c'])\n",
    "print(df1)\n",
    "print(df2)"
   ]
  },
  {
   "cell_type": "code",
   "execution_count": 15,
   "metadata": {},
   "outputs": [
    {
     "name": "stdout",
     "output_type": "stream",
     "text": [
      "          a         b         c\n",
      "0  0.160321  0.478743  0.597957\n",
      "1  0.974334  0.013990  0.534157\n",
      "2  0.993237  0.917239  0.839520\n",
      "0  0.023940  0.288345  0.159451\n",
      "1  0.656443  0.213021  0.631243\n"
     ]
    }
   ],
   "source": [
    "#Concatenar los dataframes\n",
    "df3 = pd.concat([df1, df2])\n",
    "print(df3)\n"
   ]
  },
  {
   "cell_type": "code",
   "execution_count": 16,
   "metadata": {},
   "outputs": [
    {
     "name": "stdout",
     "output_type": "stream",
     "text": [
      "          a         b         c\n",
      "0  0.160321  0.478743  0.597957\n",
      "1  0.974334  0.013990  0.534157\n",
      "2  0.993237  0.917239  0.839520\n",
      "3  0.023940  0.288345  0.159451\n",
      "4  0.656443  0.213021  0.631243\n"
     ]
    }
   ],
   "source": [
    "#Concatenar los dataframes ignorando los índices\n",
    "df3 = pd.concat([df1, df2], ignore_index=True)\n",
    "print(df3)\n"
   ]
  },
  {
   "cell_type": "markdown",
   "metadata": {},
   "source": [
    "## 11.3 Combinar Dataframes\n",
    "\n",
    "De forma similar se pueden combinar dos dataframes, tomando como prioridad uno de ellos y el otro sólo utilizarlo para rellenar espacios con datos nulos, se utiliza la función combine() de pandas:\n",
    "\n",
    "    df3 = df1.combine_first(df2)\n",
    "\n",
    "### 4. Combina los siguientes DFs"
   ]
  },
  {
   "cell_type": "code",
   "execution_count": 17,
   "metadata": {},
   "outputs": [],
   "source": [
    "#Crear dos dataframes\n",
    "lista_valores = [1, 2, np.nan]\n",
    "df1 = pd.DataFrame(lista_valores)\n",
    "\n",
    "lista_valores_2 = [4, 5, 6]\n",
    "df2 = pd.DataFrame(lista_valores_2)"
   ]
  },
  {
   "cell_type": "code",
   "execution_count": 19,
   "metadata": {},
   "outputs": [
    {
     "name": "stdout",
     "output_type": "stream",
     "text": [
      "     0\n",
      "0  1.0\n",
      "1  2.0\n",
      "2  6.0\n"
     ]
    }
   ],
   "source": [
    "#Combinar dataframes df1 con df2\n",
    "df3 = df1.combine_first(df2)\n",
    "\n",
    "print(df3)\n"
   ]
  },
  {
   "cell_type": "markdown",
   "metadata": {},
   "source": [
    "## 11.4 Eliminar duplicados en Dataframes\n",
    "\n",
    "Para eliminar registros duplicados utilizamos:\n",
    "\n",
    "    - df2 = df.drop_duplicates()                  #Para eliminar filas duplicadas\n",
    "    \n",
    "    - df2 = df.drop_duplicates(['columna1'])      #Para eliminar valores duplicados por columnas\n",
    "    \n",
    "    - df2 = df.drop_duplicates(['columna1'], keep = 'last')  #Para eliminar duplicados por columna pero manteniendo el último valor \n",
    "   \n",
    "### 5. Codifica las instrucciones anteriores para el siguiente dataframe:"
   ]
  },
  {
   "cell_type": "code",
   "execution_count": 20,
   "metadata": {},
   "outputs": [
    {
     "data": {
      "text/html": [
       "<div>\n",
       "<style scoped>\n",
       "    .dataframe tbody tr th:only-of-type {\n",
       "        vertical-align: middle;\n",
       "    }\n",
       "\n",
       "    .dataframe tbody tr th {\n",
       "        vertical-align: top;\n",
       "    }\n",
       "\n",
       "    .dataframe thead th {\n",
       "        text-align: right;\n",
       "    }\n",
       "</style>\n",
       "<table border=\"1\" class=\"dataframe\">\n",
       "  <thead>\n",
       "    <tr style=\"text-align: right;\">\n",
       "      <th></th>\n",
       "      <th>valor1</th>\n",
       "      <th>valor2</th>\n",
       "    </tr>\n",
       "  </thead>\n",
       "  <tbody>\n",
       "    <tr>\n",
       "      <th>m</th>\n",
       "      <td>1</td>\n",
       "      <td>2</td>\n",
       "    </tr>\n",
       "    <tr>\n",
       "      <th>n</th>\n",
       "      <td>1</td>\n",
       "      <td>2</td>\n",
       "    </tr>\n",
       "    <tr>\n",
       "      <th>o</th>\n",
       "      <td>5</td>\n",
       "      <td>6</td>\n",
       "    </tr>\n",
       "    <tr>\n",
       "      <th>p</th>\n",
       "      <td>5</td>\n",
       "      <td>8</td>\n",
       "    </tr>\n",
       "  </tbody>\n",
       "</table>\n",
       "</div>"
      ],
      "text/plain": [
       "   valor1  valor2\n",
       "m       1       2\n",
       "n       1       2\n",
       "o       5       6\n",
       "p       5       8"
      ]
     },
     "execution_count": 20,
     "metadata": {},
     "output_type": "execute_result"
    }
   ],
   "source": [
    "#Crear dataframe\n",
    "lista_valores = [[1, 2], [1, 2], [5, 6], [5, 8]]\n",
    "lista_indices = list('mnop')\n",
    "lista_columnas = ['valor1', 'valor2']\n",
    "df = pd.DataFrame(lista_valores, lista_indices, lista_columnas)\n",
    "df"
   ]
  },
  {
   "cell_type": "code",
   "execution_count": 21,
   "metadata": {},
   "outputs": [
    {
     "name": "stdout",
     "output_type": "stream",
     "text": [
      "   valor1  valor2\n",
      "m       1       2\n",
      "o       5       6\n",
      "p       5       8\n"
     ]
    }
   ],
   "source": [
    "#Eliminar filas duplicadas\n",
    "\n",
    "df2 = df.drop_duplicates()\n",
    "print(df2)\n"
   ]
  },
  {
   "cell_type": "code",
   "execution_count": 23,
   "metadata": {},
   "outputs": [
    {
     "name": "stdout",
     "output_type": "stream",
     "text": [
      "   valor1  valor2\n",
      "m       1       2\n",
      "o       5       6\n"
     ]
    }
   ],
   "source": [
    "#Eliminar duplicados por columna\n",
    "df2 = df.drop_duplicates(['valor1'])\n",
    "print(df2)\n"
   ]
  },
  {
   "cell_type": "code",
   "execution_count": 24,
   "metadata": {},
   "outputs": [
    {
     "name": "stdout",
     "output_type": "stream",
     "text": [
      "   valor1  valor2\n",
      "n       1       2\n",
      "p       5       8\n"
     ]
    }
   ],
   "source": [
    "#Eliminar duplicados por columna pero manteniendo el último valor\n",
    "df2 = df.drop_duplicates(['valor1'], keep='last')\n",
    "print(df2)"
   ]
  },
  {
   "cell_type": "markdown",
   "metadata": {},
   "source": [
    "## 11.5 Agrupar datos en categorías\n",
    "\n",
    "En muchos problemas de Machine Learning, cuando se están manipulando los datos, a veces es necesario contar los datos por categorías. Una forma de hacerlo es con las siguientes instrucciones.\n",
    "\n",
    "- Sea 'data' una lista que contiene los datos a categorizar\n",
    "- Sea 'rank' una lista que contiene los rangos que se utilizarán para categorizar\n",
    "\n",
    "1. Primero se determinan las categorías numéricas a utilizar:\n",
    "\n",
    "        categories = pd.cut(data, rank) \n",
    "\n",
    "2. Se cuentan los valores dentro de las categorías:\n",
    "\n",
    "        coonteo_por_categorias = pd.value_counts(categories)\n"
   ]
  },
  {
   "cell_type": "markdown",
   "metadata": {},
   "source": [
    "### 6. Realice el conteo por categorías de la siguiente lista de precios y rango de categorías:\n",
    "\n",
    "    precios = [42, 55, 48, 23, 5, 21, 88, 34, 26, 97, 62, 78, 15, 35, 25, 46]\n",
    "    rango = [10, 20, 30, 40, 50, 60, 70, 80, 90, 100]\n",
    "    "
   ]
  },
  {
   "cell_type": "code",
   "execution_count": 29,
   "metadata": {},
   "outputs": [
    {
     "name": "stdout",
     "output_type": "stream",
     "text": [
      "[(40.0, 50.0], (50.0, 60.0], (40.0, 50.0], (20.0, 30.0], NaN, ..., (70, 80], (10, 20], (30, 40], (20, 30], (40, 50]]\n",
      "Length: 16\n",
      "Categories (9, interval[int64, right]): [(10, 20] < (20, 30] < (30, 40] < (40, 50] ... (60, 70] < (70, 80] < (80, 90] < (90, 100]]\n",
      "(20, 30]     4\n",
      "(40, 50]     3\n",
      "(30, 40]     2\n",
      "(10, 20]     1\n",
      "(50, 60]     1\n",
      "(60, 70]     1\n",
      "(70, 80]     1\n",
      "(80, 90]     1\n",
      "(90, 100]    1\n",
      "dtype: int64\n"
     ]
    }
   ],
   "source": [
    "import pandas as pd\n",
    "\n",
    "precios = [42, 55, 48, 23, 5, 21, 88, 34, 26, 97, 62, 78, 15, 35, 25, 46]\n",
    "rango = [10, 20, 30, 40, 50, 60, 70, 80, 90, 100]\n",
    "\n",
    "categories = pd.cut(precios, rango)\n",
    "\n",
    "print(categories)\n",
    "\n",
    "coonteo_por_categoria = pd.value_counts(categories)\n",
    "\n",
    "print(coonteo_por_categoria)"
   ]
  }
 ],
 "metadata": {
  "kernelspec": {
   "display_name": "Python 3",
   "language": "python",
   "name": "python3"
  },
  "language_info": {
   "codemirror_mode": {
    "name": "ipython",
    "version": 3
   },
   "file_extension": ".py",
   "mimetype": "text/x-python",
   "name": "python",
   "nbconvert_exporter": "python",
   "pygments_lexer": "ipython3",
   "version": "3.10.9"
  },
  "vscode": {
   "interpreter": {
    "hash": "34c967ba3987e07fb7b28f6794edadae7e6af108e1257cc6f54379ffa691cdee"
   }
  }
 },
 "nbformat": 4,
 "nbformat_minor": 2
}
