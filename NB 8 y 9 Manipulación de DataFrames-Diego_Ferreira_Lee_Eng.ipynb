{
 "cells": [
  {
   "cell_type": "markdown",
   "metadata": {},
   "source": [
    "# NB 8 y 9. Manipulación de Dataframes (DF)\n",
    "\n",
    "En este notebbok utilizaremos las librerías de numpy y pandas"
   ]
  },
  {
   "cell_type": "code",
   "execution_count": 3,
   "metadata": {},
   "outputs": [],
   "source": [
    "#Importar librerías\n",
    "import numpy as np\n",
    "import pandas as pd"
   ]
  },
  {
   "cell_type": "code",
   "execution_count": 4,
   "metadata": {},
   "outputs": [
    {
     "name": "stdout",
     "output_type": "stream",
     "text": [
      "   1  2  3\n",
      "a  1  8  3\n",
      "b  5  6  7\n"
     ]
    }
   ],
   "source": [
    "#Crear un dataframe ejecutando el siguiente código:\n",
    "\n",
    "df = pd.DataFrame(np.array([[1,8,3], [5, 6, 7]]), index = ['a','b'], columns = list('123'))\n",
    "print(df)"
   ]
  },
  {
   "cell_type": "markdown",
   "metadata": {},
   "source": [
    "## 8.1 Estadística de DF"
   ]
  },
  {
   "cell_type": "markdown",
   "metadata": {},
   "source": [
    "## Suma por columnas o filas\n",
    "\n",
    "- Para columnas utilizaremos el método:\n",
    "\n",
    "        df.sum()\n",
    "        \n",
    "- Para filas utilizaremos el método:\n",
    "\n",
    "        df.sum(axis = 1)\n",
    "        \n",
    "### 1. Realice la suma por columnas y por filas del dataframe \n",
    "        "
   ]
  },
  {
   "cell_type": "code",
   "execution_count": 6,
   "metadata": {},
   "outputs": [
    {
     "name": "stdout",
     "output_type": "stream",
     "text": [
      "1     6\n",
      "2    14\n",
      "3    10\n",
      "dtype: int64\n",
      "a    12\n",
      "b    18\n",
      "dtype: int64\n"
     ]
    }
   ],
   "source": [
    "import numpy as np\n",
    "import pandas as pd\n",
    "df = pd.DataFrame(np.array([[1, 8, 3], [5, 6, 7]]),\n",
    "                  index=['a', 'b'], columns=list('123'))\n",
    "\n",
    "print(df.sum())\n",
    "\n",
    "print(df.sum(axis=1))\n"
   ]
  },
  {
   "cell_type": "markdown",
   "metadata": {},
   "source": [
    "## Valores mínimos y máximos por columnas o \n",
    "\n",
    "- Para columnas utilizaremos los métodos:\n",
    "\n",
    "        df.min()\n",
    "        df.max()\n",
    "\n",
    "- Para filas utilizaremos los métodos:\n",
    "\n",
    "        df.min(axis = 1)\n",
    "        df.max(axis = 1)\n",
    "        \n",
    "### 2. Obtenga los valores máximos y mínimos por columnas y por filas del dataframe e imprima sus resultados\n",
    "        "
   ]
  },
  {
   "cell_type": "code",
   "execution_count": 1,
   "metadata": {},
   "outputs": [
    {
     "name": "stdout",
     "output_type": "stream",
     "text": [
      "1    1\n",
      "2    6\n",
      "3    3\n",
      "dtype: int32\n",
      "1    5\n",
      "2    8\n",
      "3    7\n",
      "dtype: int32\n"
     ]
    }
   ],
   "source": [
    "#Por columnas\n",
    "import numpy as np\n",
    "import pandas as pd\n",
    "df = pd.DataFrame(np.array([[1, 8, 3], [5, 6, 7]]),\n",
    "                  index=['a', 'b'], columns=list('123'))\n",
    "\n",
    "print(df.min())\n",
    "print(df.max())"
   ]
  },
  {
   "cell_type": "code",
   "execution_count": 2,
   "metadata": {},
   "outputs": [
    {
     "name": "stdout",
     "output_type": "stream",
     "text": [
      "a    1\n",
      "b    5\n",
      "dtype: int32\n",
      "a    8\n",
      "b    7\n",
      "dtype: int32\n"
     ]
    }
   ],
   "source": [
    "#Por filas\n",
    "import numpy as np\n",
    "import pandas as pd\n",
    "df = pd.DataFrame(np.array([[1, 8, 3], [5, 6, 7]]),\n",
    "                  index=['a', 'b'], columns=list('123'))\n",
    "\n",
    "print(df.min(axis = 1))\n",
    "\n",
    "print(df.max(axis = 1))"
   ]
  },
  {
   "cell_type": "markdown",
   "metadata": {},
   "source": [
    "## Descripción de un DF\n",
    "\n",
    "En la descripción de un dataframe se obtienen valores estadísticos por columna: conteo, promedio, desviación estándar, valor mínimo, cuartiles, y valor máximo.\n",
    "\n",
    "Se utiliza la sintaxis:\n",
    "\n",
    "        df.describe()\n",
    "        \n",
    "### 3. Obtenga la descripción del dataframe"
   ]
  },
  {
   "cell_type": "code",
   "execution_count": 3,
   "metadata": {},
   "outputs": [
    {
     "data": {
      "text/html": [
       "<div>\n",
       "<style scoped>\n",
       "    .dataframe tbody tr th:only-of-type {\n",
       "        vertical-align: middle;\n",
       "    }\n",
       "\n",
       "    .dataframe tbody tr th {\n",
       "        vertical-align: top;\n",
       "    }\n",
       "\n",
       "    .dataframe thead th {\n",
       "        text-align: right;\n",
       "    }\n",
       "</style>\n",
       "<table border=\"1\" class=\"dataframe\">\n",
       "  <thead>\n",
       "    <tr style=\"text-align: right;\">\n",
       "      <th></th>\n",
       "      <th>1</th>\n",
       "      <th>2</th>\n",
       "      <th>3</th>\n",
       "    </tr>\n",
       "  </thead>\n",
       "  <tbody>\n",
       "    <tr>\n",
       "      <th>count</th>\n",
       "      <td>2.000000</td>\n",
       "      <td>2.000000</td>\n",
       "      <td>2.000000</td>\n",
       "    </tr>\n",
       "    <tr>\n",
       "      <th>mean</th>\n",
       "      <td>3.000000</td>\n",
       "      <td>7.000000</td>\n",
       "      <td>5.000000</td>\n",
       "    </tr>\n",
       "    <tr>\n",
       "      <th>std</th>\n",
       "      <td>2.828427</td>\n",
       "      <td>1.414214</td>\n",
       "      <td>2.828427</td>\n",
       "    </tr>\n",
       "    <tr>\n",
       "      <th>min</th>\n",
       "      <td>1.000000</td>\n",
       "      <td>6.000000</td>\n",
       "      <td>3.000000</td>\n",
       "    </tr>\n",
       "    <tr>\n",
       "      <th>25%</th>\n",
       "      <td>2.000000</td>\n",
       "      <td>6.500000</td>\n",
       "      <td>4.000000</td>\n",
       "    </tr>\n",
       "    <tr>\n",
       "      <th>50%</th>\n",
       "      <td>3.000000</td>\n",
       "      <td>7.000000</td>\n",
       "      <td>5.000000</td>\n",
       "    </tr>\n",
       "    <tr>\n",
       "      <th>75%</th>\n",
       "      <td>4.000000</td>\n",
       "      <td>7.500000</td>\n",
       "      <td>6.000000</td>\n",
       "    </tr>\n",
       "    <tr>\n",
       "      <th>max</th>\n",
       "      <td>5.000000</td>\n",
       "      <td>8.000000</td>\n",
       "      <td>7.000000</td>\n",
       "    </tr>\n",
       "  </tbody>\n",
       "</table>\n",
       "</div>"
      ],
      "text/plain": [
       "              1         2         3\n",
       "count  2.000000  2.000000  2.000000\n",
       "mean   3.000000  7.000000  5.000000\n",
       "std    2.828427  1.414214  2.828427\n",
       "min    1.000000  6.000000  3.000000\n",
       "25%    2.000000  6.500000  4.000000\n",
       "50%    3.000000  7.000000  5.000000\n",
       "75%    4.000000  7.500000  6.000000\n",
       "max    5.000000  8.000000  7.000000"
      ]
     },
     "execution_count": 3,
     "metadata": {},
     "output_type": "execute_result"
    }
   ],
   "source": [
    "df.describe()"
   ]
  },
  {
   "cell_type": "markdown",
   "metadata": {},
   "source": [
    "## 8.2 Valores nulos - NaN\n",
    "\n",
    "Los métodos más comunes para lidiar con valores nulos son los siguientes:\n",
    "\n",
    "        - df.isnull()  #Devuelve valores booleanos para determinar en que ubicación tenemos valores nulos (True)\n",
    "        - df.dropna()  #Elimina todos los registros donde aparezca por lo menos un valor nulo \n",
    "        - df.fillna(value)  #Rellena los valores nulos con el valor 'value' específico\n",
    " \n",
    "### 4. Ejecute el siguiente código para crear un DF con datos nulos y realice prueba con los 3 métodos descritos e imprima los resultados."
   ]
  },
  {
   "cell_type": "code",
   "execution_count": 4,
   "metadata": {},
   "outputs": [
    {
     "name": "stdout",
     "output_type": "stream",
     "text": [
      "[[1, 2, 3], [4, nan, 5], [6, 7, nan]]\n",
      "['1', '2', '3']\n",
      "['a', 'b', 'c']\n"
     ]
    },
    {
     "data": {
      "text/html": [
       "<div>\n",
       "<style scoped>\n",
       "    .dataframe tbody tr th:only-of-type {\n",
       "        vertical-align: middle;\n",
       "    }\n",
       "\n",
       "    .dataframe tbody tr th {\n",
       "        vertical-align: top;\n",
       "    }\n",
       "\n",
       "    .dataframe thead th {\n",
       "        text-align: right;\n",
       "    }\n",
       "</style>\n",
       "<table border=\"1\" class=\"dataframe\">\n",
       "  <thead>\n",
       "    <tr style=\"text-align: right;\">\n",
       "      <th></th>\n",
       "      <th>a</th>\n",
       "      <th>b</th>\n",
       "      <th>c</th>\n",
       "    </tr>\n",
       "  </thead>\n",
       "  <tbody>\n",
       "    <tr>\n",
       "      <th>1</th>\n",
       "      <td>1</td>\n",
       "      <td>2.0</td>\n",
       "      <td>3.0</td>\n",
       "    </tr>\n",
       "    <tr>\n",
       "      <th>2</th>\n",
       "      <td>4</td>\n",
       "      <td>NaN</td>\n",
       "      <td>5.0</td>\n",
       "    </tr>\n",
       "    <tr>\n",
       "      <th>3</th>\n",
       "      <td>6</td>\n",
       "      <td>7.0</td>\n",
       "      <td>NaN</td>\n",
       "    </tr>\n",
       "  </tbody>\n",
       "</table>\n",
       "</div>"
      ],
      "text/plain": [
       "   a    b    c\n",
       "1  1  2.0  3.0\n",
       "2  4  NaN  5.0\n",
       "3  6  7.0  NaN"
      ]
     },
     "execution_count": 4,
     "metadata": {},
     "output_type": "execute_result"
    }
   ],
   "source": [
    "#Crear un dataframe ejecutando el siguiente código:\n",
    "\n",
    "lista_valores = [ [1, 2, 3], [4, np.nan, 5], [6, 7, np.nan]]\n",
    "lista_indices = list('123')\n",
    "lista_columnas = list('abc')\n",
    "print(lista_valores)\n",
    "print(lista_indices)\n",
    "print(lista_columnas)\n",
    "\n",
    "df = pd.DataFrame(lista_valores, index = lista_indices, columns = lista_columnas)\n",
    "df"
   ]
  },
  {
   "cell_type": "code",
   "execution_count": 5,
   "metadata": {},
   "outputs": [
    {
     "name": "stdout",
     "output_type": "stream",
     "text": [
      "       a      b      c\n",
      "1  False  False  False\n",
      "2  False   True  False\n",
      "3  False  False   True\n",
      "   a    b    c\n",
      "1  1  2.0  3.0\n",
      "   a    b    c\n",
      "1  1  2.0  3.0\n",
      "2  4  5.0  5.0\n",
      "3  6  7.0  5.0\n"
     ]
    }
   ],
   "source": [
    "print(df.isnull())\n",
    "print(df.dropna())\n",
    "print(df.fillna(5.0))"
   ]
  },
  {
   "cell_type": "markdown",
   "metadata": {},
   "source": [
    "## 5. EJERCICIO de DF\n",
    "\n",
    "De la siguiente página de internet, obtener los datos que están representados en una tabla:\n",
    "\n",
    "https://es.wikipedia.org/wiki/Anexo:Finales_de_la_Copa_Mundial_de_F%C3%BAtbol.\n",
    "\n",
    "Guardar los datos como un dataframe y manipularlo de la siguiente forma:\n",
    "\n",
    "1. Verificar que sus encabezados estén de la forma correcta\n",
    "2. Borrar la última columna de 'Notas'\n",
    "3. Borrar los registros que tengan datos nulos (NaN)\n",
    "\n",
    "### 5.1 Obtener los datos:\n",
    "\n",
    "Para obtener los datos utilice la siguiente instrucción, donde en la variable 'url' deberá guardar la dirección antes descrita.\n",
    "\n",
    "        dataframe = pd.io.html.read_html(url)\n",
    "        \n",
    "Esta instrucción guarda los datos en una lista, donde en el elemento 0 se encuentra el dataframe, por lo tanto deberá obtener el dataframe de la localidad cero de la lista:\n",
    "\n",
    "        df_futbol = dataframe[0]\n"
   ]
  },
  {
   "cell_type": "code",
   "execution_count": 2,
   "metadata": {},
   "outputs": [
    {
     "name": "stdout",
     "output_type": "stream",
     "text": [
      "Index(['Fecha', 'Campeón', 'Resultado', 'Subcampeón', 'Estadio',\n",
      "       'Espectadores', 'Localización', 'Notas'],\n",
      "      dtype='object')\n"
     ]
    }
   ],
   "source": [
    "import pandas as pd\n",
    "import numpy as np\n",
    "\n",
    "dataframe = pd.read_html('https://es.wikipedia.org/wiki/Anexo:Finales_de_la_Copa_Mundial_de_F%C3%BAtbol')\n",
    "\n",
    "df_futbol = dataframe[0]\n",
    "\n",
    "print(df_futbol.columns)"
   ]
  },
  {
   "cell_type": "markdown",
   "metadata": {},
   "source": [
    "### 5.2 Borrar la última columna de 'Notas':"
   ]
  },
  {
   "cell_type": "code",
   "execution_count": 3,
   "metadata": {},
   "outputs": [
    {
     "name": "stdout",
     "output_type": "stream",
     "text": [
      "Index(['Fecha', 'Campeón', 'Resultado', 'Subcampeón', 'Estadio',\n",
      "       'Espectadores', 'Localización'],\n",
      "      dtype='object')\n"
     ]
    }
   ],
   "source": [
    "df_futbol = df_futbol.drop('Notas', axis=1)\n",
    "print(df_futbol.columns)"
   ]
  },
  {
   "cell_type": "markdown",
   "metadata": {},
   "source": [
    "### 5.3 Borrar los registros que tengan datos nulos (NaN):"
   ]
  },
  {
   "cell_type": "code",
   "execution_count": 4,
   "metadata": {},
   "outputs": [
    {
     "name": "stdout",
     "output_type": "stream",
     "text": [
      "         Fecha           Campeón       Resultado        Subcampeón  \\\n",
      "0   30-07-1930           Uruguay             4:2         Argentina   \n",
      "1   10-06-1934            Italia       2:1 (pr.)    Checoslovaquia   \n",
      "2   19-06-1938            Italia             4:2           Hungría   \n",
      "3   16-07-1950           Uruguay             2:1            Brasil   \n",
      "4   04-07-1954  Alemania Federal             3:2           Hungría   \n",
      "5   29-06-1958            Brasil             5:2            Suecia   \n",
      "6   17-06-1962            Brasil             3:1    Checoslovaquia   \n",
      "7   30-07-1966        Inglaterra       4:2 (pr.)  Alemania Federal   \n",
      "8   21-06-1970            Brasil             4:1            Italia   \n",
      "9   07-07-1974  Alemania Federal             2:1      Países Bajos   \n",
      "10  25-06-1978         Argentina       3:1 (pr.)      Países Bajos   \n",
      "11  11-07-1982            Italia             3:1  Alemania Federal   \n",
      "12  29-06-1986         Argentina             3:2  Alemania Federal   \n",
      "13  08-07-1990  Alemania Federal             1:0         Argentina   \n",
      "14  17-07-1994            Brasil  0:0 (3:2 pen.)            Italia   \n",
      "15  12-07-1998           Francia             3:0            Brasil   \n",
      "16  30-06-2002            Brasil             2:0          Alemania   \n",
      "17  09-07-2006            Italia  1:1 (5:3 pen.)           Francia   \n",
      "18  11-07-2010            España       1:0 (pr.)      Países Bajos   \n",
      "19  13-07-2014          Alemania       1:0 (pr.)         Argentina   \n",
      "20  15-07-2018           Francia             4:2           Croacia   \n",
      "21  18-12-2022         Argentina  3:3 (4:2 pen.)           Francia   \n",
      "\n",
      "                              Estadio Espectadores       Localización  \n",
      "0                  Estadio Centenario       68 346         Montevideo  \n",
      "1            Estadio Nacional del PNF       50 000               Roma  \n",
      "2                     Stade Olympique       45 124           Colombes  \n",
      "3                    Estadio Maracaná      199 150     Río de Janeiro  \n",
      "4                     Wankdorfstadion       60 000              Berna  \n",
      "5                     Estadio Råsunda       51 800              Solna  \n",
      "6                    Estadio Nacional       68 679  Santiago de Chile  \n",
      "7                  Estadio de Wembley       97 924            Londres  \n",
      "8                      Estadio Azteca      107 412   Ciudad de México  \n",
      "9                    Estadio Olímpico       75 200             Múnich  \n",
      "10         Estadio Antonio V. Liberti       71 483       Buenos Aires  \n",
      "11          Estadio Santiago Bernabéu       90 000             Madrid  \n",
      "12                     Estadio Azteca      114 600   Ciudad de México  \n",
      "13                   Estadio Olímpico       73 603               Roma  \n",
      "14                  Estadio Rose Bowl       94 194           Pasadena  \n",
      "15                    Stade de France       80 000        Saint-Denis  \n",
      "16  Estadio Internacional de Yokohama       69 029           Yokohama  \n",
      "17                   Estadio Olímpico       69 000             Berlín  \n",
      "18                Estadio Soccer City       84 490      Johannesburgo  \n",
      "19                   Estadio Maracaná       74 738     Río de Janeiro  \n",
      "20          Estadio Olímpico Luzhnikí       78 011              Moscú  \n",
      "21          Estadio Icónico de Lusail       88 966             Lusail  \n"
     ]
    }
   ],
   "source": [
    "df_futbol = df_futbol.dropna(axis=0)\n",
    "\n",
    "print(df_futbol)"
   ]
  }
 ],
 "metadata": {
  "kernelspec": {
   "display_name": "Python 3",
   "language": "python",
   "name": "python3"
  },
  "language_info": {
   "codemirror_mode": {
    "name": "ipython",
    "version": 3
   },
   "file_extension": ".py",
   "mimetype": "text/x-python",
   "name": "python",
   "nbconvert_exporter": "python",
   "pygments_lexer": "ipython3",
   "version": "3.10.9 (tags/v3.10.9:1dd9be6, Dec  6 2022, 20:01:21) [MSC v.1934 64 bit (AMD64)]"
  },
  "vscode": {
   "interpreter": {
    "hash": "34c967ba3987e07fb7b28f6794edadae7e6af108e1257cc6f54379ffa691cdee"
   }
  }
 },
 "nbformat": 4,
 "nbformat_minor": 2
}
